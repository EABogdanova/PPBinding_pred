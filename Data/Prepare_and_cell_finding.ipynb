{
  "nbformat": 4,
  "nbformat_minor": 0,
  "metadata": {
    "colab": {
      "provenance": []
    },
    "kernelspec": {
      "name": "python3",
      "display_name": "Python 3"
    },
    "language_info": {
      "name": "python"
    }
  },
  "cells": [
    {
      "cell_type": "code",
      "source": [
        "from IPython.display import clear_output"
      ],
      "metadata": {
        "id": "IduuGVj8Y42r"
      },
      "execution_count": null,
      "outputs": []
    },
    {
      "cell_type": "code",
      "execution_count": null,
      "metadata": {
        "id": "S2XAw8xNboMb"
      },
      "outputs": [],
      "source": [
        "! pip install bio\n",
        "clear_output()"
      ]
    },
    {
      "cell_type": "code",
      "source": [
        "from Bio.PDB.PDBParser import PDBParser\n",
        "from Bio.PDB.MMCIFParser import MMCIFParser\n",
        "from Bio.PDB import PDBList, PDBIO, Select\n",
        "import numpy as np\n",
        "import pandas as pd\n",
        "import matplotlib.pyplot as plt\n",
        "import seaborn as sns"
      ],
      "metadata": {
        "id": "Svt5X8hAbyBB"
      },
      "execution_count": null,
      "outputs": []
    },
    {
      "cell_type": "markdown",
      "source": [
        "Загрузка структурного файла комплекса"
      ],
      "metadata": {
        "id": "nIgl5lfrcWmv"
      }
    },
    {
      "cell_type": "code",
      "source": [
        "pdbl = PDBList()\n",
        "pdbl.retrieve_pdb_file('1atn', pdir='PDB')\n",
        "parser = MMCIFParser()\n",
        "pdb = f'PDB/1atn.cif'\n",
        "structure = parser.get_structure(f'1atn', pdb)\n",
        "clear_output()"
      ],
      "metadata": {
        "id": "0_8tLlDWbzQD"
      },
      "execution_count": null,
      "outputs": []
    },
    {
      "cell_type": "code",
      "source": [
        "# Получение таблицы со всеми атомами комплекса и их координатами, также обозначена, какая это молекула в 'Chain_num', 0 для одного белка, 1 для другого\n",
        "Atoms_coord_df = pd.DataFrame(columns=['Chain_name', 'Chain_num', 'Residue', 'Type', 'x', 'y', 'z'])\n",
        "chains = structure[0].get_chains()\n",
        "num_chain = 0\n",
        "for chain in chains:\n",
        "  ch_id = chain.get_id()\n",
        "  atoms = chain.get_atoms()\n",
        "  num_chain+=1\n",
        "  for atom in atoms:\n",
        "    coord_atom = atom.get_coord()\n",
        "    name_atom = atom.get_name()\n",
        "    res_name = str(atom.get_parent())[9:12]\n",
        "    if atom.get_full_id()[3][0] == ' ':\n",
        "      Atoms_coord_df.loc[len(Atoms_coord_df.index)] = [ch_id, num_chain-1, res_name, name_atom, round(coord_atom[0]), round(coord_atom[1]), round(coord_atom[2])]\n",
        "Atoms_coord_df.replace('OXT', 'O', inplace=True)\n",
        "Atoms_coord_df"
      ],
      "metadata": {
        "colab": {
          "base_uri": "https://localhost:8080/",
          "height": 424
        },
        "id": "lSargQOVcSoG",
        "outputId": "5cba92bc-b5e0-409f-f964-1fb09dd7a0a1"
      },
      "execution_count": null,
      "outputs": [
        {
          "output_type": "execute_result",
          "data": {
            "text/plain": [
              "     Chain_name  Chain_num Residue Type    x   y    z\n",
              "0             A          0     ASP    N  106  50   42\n",
              "1             A          0     ASP   CA  106  49   43\n",
              "2             A          0     ASP    C  107  49   44\n",
              "3             A          0     ASP    O  107  49   45\n",
              "4             A          0     ASP   CB  107  47   42\n",
              "...         ...        ...     ...  ...  ...  ..  ...\n",
              "4926          D          1     THR    O  141  31   98\n",
              "4927          D          1     THR   CB  139  29  100\n",
              "4928          D          1     THR  OG1  140  30  101\n",
              "4929          D          1     THR  CG2  140  28  100\n",
              "4930          D          1     THR    O  140  29   97\n",
              "\n",
              "[4931 rows x 7 columns]"
            ],
            "text/html": [
              "\n",
              "  <div id=\"df-6648ef70-9d45-4bef-9761-00e962722483\">\n",
              "    <div class=\"colab-df-container\">\n",
              "      <div>\n",
              "<style scoped>\n",
              "    .dataframe tbody tr th:only-of-type {\n",
              "        vertical-align: middle;\n",
              "    }\n",
              "\n",
              "    .dataframe tbody tr th {\n",
              "        vertical-align: top;\n",
              "    }\n",
              "\n",
              "    .dataframe thead th {\n",
              "        text-align: right;\n",
              "    }\n",
              "</style>\n",
              "<table border=\"1\" class=\"dataframe\">\n",
              "  <thead>\n",
              "    <tr style=\"text-align: right;\">\n",
              "      <th></th>\n",
              "      <th>Chain_name</th>\n",
              "      <th>Chain_num</th>\n",
              "      <th>Residue</th>\n",
              "      <th>Type</th>\n",
              "      <th>x</th>\n",
              "      <th>y</th>\n",
              "      <th>z</th>\n",
              "    </tr>\n",
              "  </thead>\n",
              "  <tbody>\n",
              "    <tr>\n",
              "      <th>0</th>\n",
              "      <td>A</td>\n",
              "      <td>0</td>\n",
              "      <td>ASP</td>\n",
              "      <td>N</td>\n",
              "      <td>106</td>\n",
              "      <td>50</td>\n",
              "      <td>42</td>\n",
              "    </tr>\n",
              "    <tr>\n",
              "      <th>1</th>\n",
              "      <td>A</td>\n",
              "      <td>0</td>\n",
              "      <td>ASP</td>\n",
              "      <td>CA</td>\n",
              "      <td>106</td>\n",
              "      <td>49</td>\n",
              "      <td>43</td>\n",
              "    </tr>\n",
              "    <tr>\n",
              "      <th>2</th>\n",
              "      <td>A</td>\n",
              "      <td>0</td>\n",
              "      <td>ASP</td>\n",
              "      <td>C</td>\n",
              "      <td>107</td>\n",
              "      <td>49</td>\n",
              "      <td>44</td>\n",
              "    </tr>\n",
              "    <tr>\n",
              "      <th>3</th>\n",
              "      <td>A</td>\n",
              "      <td>0</td>\n",
              "      <td>ASP</td>\n",
              "      <td>O</td>\n",
              "      <td>107</td>\n",
              "      <td>49</td>\n",
              "      <td>45</td>\n",
              "    </tr>\n",
              "    <tr>\n",
              "      <th>4</th>\n",
              "      <td>A</td>\n",
              "      <td>0</td>\n",
              "      <td>ASP</td>\n",
              "      <td>CB</td>\n",
              "      <td>107</td>\n",
              "      <td>47</td>\n",
              "      <td>42</td>\n",
              "    </tr>\n",
              "    <tr>\n",
              "      <th>...</th>\n",
              "      <td>...</td>\n",
              "      <td>...</td>\n",
              "      <td>...</td>\n",
              "      <td>...</td>\n",
              "      <td>...</td>\n",
              "      <td>...</td>\n",
              "      <td>...</td>\n",
              "    </tr>\n",
              "    <tr>\n",
              "      <th>4926</th>\n",
              "      <td>D</td>\n",
              "      <td>1</td>\n",
              "      <td>THR</td>\n",
              "      <td>O</td>\n",
              "      <td>141</td>\n",
              "      <td>31</td>\n",
              "      <td>98</td>\n",
              "    </tr>\n",
              "    <tr>\n",
              "      <th>4927</th>\n",
              "      <td>D</td>\n",
              "      <td>1</td>\n",
              "      <td>THR</td>\n",
              "      <td>CB</td>\n",
              "      <td>139</td>\n",
              "      <td>29</td>\n",
              "      <td>100</td>\n",
              "    </tr>\n",
              "    <tr>\n",
              "      <th>4928</th>\n",
              "      <td>D</td>\n",
              "      <td>1</td>\n",
              "      <td>THR</td>\n",
              "      <td>OG1</td>\n",
              "      <td>140</td>\n",
              "      <td>30</td>\n",
              "      <td>101</td>\n",
              "    </tr>\n",
              "    <tr>\n",
              "      <th>4929</th>\n",
              "      <td>D</td>\n",
              "      <td>1</td>\n",
              "      <td>THR</td>\n",
              "      <td>CG2</td>\n",
              "      <td>140</td>\n",
              "      <td>28</td>\n",
              "      <td>100</td>\n",
              "    </tr>\n",
              "    <tr>\n",
              "      <th>4930</th>\n",
              "      <td>D</td>\n",
              "      <td>1</td>\n",
              "      <td>THR</td>\n",
              "      <td>O</td>\n",
              "      <td>140</td>\n",
              "      <td>29</td>\n",
              "      <td>97</td>\n",
              "    </tr>\n",
              "  </tbody>\n",
              "</table>\n",
              "<p>4931 rows × 7 columns</p>\n",
              "</div>\n",
              "      <button class=\"colab-df-convert\" onclick=\"convertToInteractive('df-6648ef70-9d45-4bef-9761-00e962722483')\"\n",
              "              title=\"Convert this dataframe to an interactive table.\"\n",
              "              style=\"display:none;\">\n",
              "        \n",
              "  <svg xmlns=\"http://www.w3.org/2000/svg\" height=\"24px\"viewBox=\"0 0 24 24\"\n",
              "       width=\"24px\">\n",
              "    <path d=\"M0 0h24v24H0V0z\" fill=\"none\"/>\n",
              "    <path d=\"M18.56 5.44l.94 2.06.94-2.06 2.06-.94-2.06-.94-.94-2.06-.94 2.06-2.06.94zm-11 1L8.5 8.5l.94-2.06 2.06-.94-2.06-.94L8.5 2.5l-.94 2.06-2.06.94zm10 10l.94 2.06.94-2.06 2.06-.94-2.06-.94-.94-2.06-.94 2.06-2.06.94z\"/><path d=\"M17.41 7.96l-1.37-1.37c-.4-.4-.92-.59-1.43-.59-.52 0-1.04.2-1.43.59L10.3 9.45l-7.72 7.72c-.78.78-.78 2.05 0 2.83L4 21.41c.39.39.9.59 1.41.59.51 0 1.02-.2 1.41-.59l7.78-7.78 2.81-2.81c.8-.78.8-2.07 0-2.86zM5.41 20L4 18.59l7.72-7.72 1.47 1.35L5.41 20z\"/>\n",
              "  </svg>\n",
              "      </button>\n",
              "      \n",
              "  <style>\n",
              "    .colab-df-container {\n",
              "      display:flex;\n",
              "      flex-wrap:wrap;\n",
              "      gap: 12px;\n",
              "    }\n",
              "\n",
              "    .colab-df-convert {\n",
              "      background-color: #E8F0FE;\n",
              "      border: none;\n",
              "      border-radius: 50%;\n",
              "      cursor: pointer;\n",
              "      display: none;\n",
              "      fill: #1967D2;\n",
              "      height: 32px;\n",
              "      padding: 0 0 0 0;\n",
              "      width: 32px;\n",
              "    }\n",
              "\n",
              "    .colab-df-convert:hover {\n",
              "      background-color: #E2EBFA;\n",
              "      box-shadow: 0px 1px 2px rgba(60, 64, 67, 0.3), 0px 1px 3px 1px rgba(60, 64, 67, 0.15);\n",
              "      fill: #174EA6;\n",
              "    }\n",
              "\n",
              "    [theme=dark] .colab-df-convert {\n",
              "      background-color: #3B4455;\n",
              "      fill: #D2E3FC;\n",
              "    }\n",
              "\n",
              "    [theme=dark] .colab-df-convert:hover {\n",
              "      background-color: #434B5C;\n",
              "      box-shadow: 0px 1px 3px 1px rgba(0, 0, 0, 0.15);\n",
              "      filter: drop-shadow(0px 1px 2px rgba(0, 0, 0, 0.3));\n",
              "      fill: #FFFFFF;\n",
              "    }\n",
              "  </style>\n",
              "\n",
              "      <script>\n",
              "        const buttonEl =\n",
              "          document.querySelector('#df-6648ef70-9d45-4bef-9761-00e962722483 button.colab-df-convert');\n",
              "        buttonEl.style.display =\n",
              "          google.colab.kernel.accessAllowed ? 'block' : 'none';\n",
              "\n",
              "        async function convertToInteractive(key) {\n",
              "          const element = document.querySelector('#df-6648ef70-9d45-4bef-9761-00e962722483');\n",
              "          const dataTable =\n",
              "            await google.colab.kernel.invokeFunction('convertToInteractive',\n",
              "                                                     [key], {});\n",
              "          if (!dataTable) return;\n",
              "\n",
              "          const docLinkHtml = 'Like what you see? Visit the ' +\n",
              "            '<a target=\"_blank\" href=https://colab.research.google.com/notebooks/data_table.ipynb>data table notebook</a>'\n",
              "            + ' to learn more about interactive tables.';\n",
              "          element.innerHTML = '';\n",
              "          dataTable['output_type'] = 'display_data';\n",
              "          await google.colab.output.renderOutput(dataTable, element);\n",
              "          const docLink = document.createElement('div');\n",
              "          docLink.innerHTML = docLinkHtml;\n",
              "          element.appendChild(docLink);\n",
              "        }\n",
              "      </script>\n",
              "    </div>\n",
              "  </div>\n",
              "  "
            ]
          },
          "metadata": {},
          "execution_count": 138
        }
      ]
    },
    {
      "cell_type": "code",
      "source": [
        "#Получение центров масс для белков\n",
        "center_1=[]\n",
        "x1=0\n",
        "y1=0\n",
        "z1=0\n",
        "k1=0\n",
        "center_2=[]\n",
        "x2=0\n",
        "y2=0\n",
        "z2=0\n",
        "k2=0\n",
        "for j in range(Atoms_coord_df.shape[0]):\n",
        "  if Atoms_coord_df['Chain_num'][j]==0:\n",
        "    x1+=Atoms_coord_df['x'][j]\n",
        "    y1+=Atoms_coord_df['y'][j]\n",
        "    z1+=Atoms_coord_df['z'][j]\n",
        "    k1+=1\n",
        "  elif Atoms_coord_df['Chain_num'][j]==1:\n",
        "    x2+=Atoms_coord_df['x'][j]\n",
        "    y2+=Atoms_coord_df['y'][j]\n",
        "    z2+=Atoms_coord_df['z'][j]\n",
        "    k2+=1\n",
        "center_1=[round(x1/k1), round(y1/k1), round(z1/k1)]\n",
        "center_2=[round(x2/k2), round(y2/k2), round(z2/k2)]"
      ],
      "metadata": {
        "id": "HXzKCRftdNxC"
      },
      "execution_count": null,
      "outputs": []
    },
    {
      "cell_type": "markdown",
      "source": [
        "Вектор, соединяющий центры масс молекул"
      ],
      "metadata": {
        "id": "I957JXmxdpUU"
      }
    },
    {
      "cell_type": "code",
      "source": [
        "fig = plt.figure(figsize=(16, 10))\n",
        "ax = plt.axes(projection=\"3d\")\n",
        "ax.plot3D([center_1[0],center_2[0]], [center_1[1],center_2[1]], [center_1[2],center_2[2]], 'red', linewidth= 5)\n",
        "ax.scatter3D(Atoms_coord_df['x'], Atoms_coord_df['y'], Atoms_coord_df['z'], c = Atoms_coord_df['Chain_num'])\n",
        "\n",
        "ax.view_init(5, 40)\n",
        "plt.show()"
      ],
      "metadata": {
        "colab": {
          "base_uri": "https://localhost:8080/",
          "height": 575
        },
        "id": "HJHqRFCHdhBJ",
        "outputId": "a4b13db8-e3c3-47c7-e976-6bae17035312"
      },
      "execution_count": null,
      "outputs": [
        {
          "output_type": "display_data",
          "data": {
            "text/plain": [
              "<Figure size 1152x720 with 1 Axes>"
            ],
            "image/png": "[encoded data removed]"
          },
          "metadata": {
            "needs_background": "light"
          }
        }
      ]
    },
    {
      "cell_type": "markdown",
      "source": [
        "Нахождение разделяющей плоскости с использованием метода логистической регрессии"
      ],
      "metadata": {
        "id": "9j8r_GNNecQA"
      }
    },
    {
      "cell_type": "code",
      "source": [
        "from sklearn.linear_model import LogisticRegression\n",
        "\n",
        "logreg_clf = LogisticRegression()\n",
        "logreg_clf.fit(Atoms_coord_df[['x', 'y', 'z']].values, Atoms_coord_df['Chain_num'].astype('int'))\n",
        "\n",
        "# plane_bind - список коэффициентов [A,B,C,D] в уравнении разделяющей плоскости вида A*x+B*y+C*z+D=0, то есть\n",
        "plane_bind = list(logreg_clf.coef_[0])\n",
        "plane_bind.append(logreg_clf.intercept_[0])\n",
        "print(plane_bind)"
      ],
      "metadata": {
        "colab": {
          "base_uri": "https://localhost:8080/"
        },
        "id": "3YOM8ftndw5S",
        "outputId": "c3fb5819-ba7e-4551-a598-327e5d868995"
      },
      "execution_count": null,
      "outputs": [
        {
          "output_type": "stream",
          "name": "stdout",
          "text": [
            "[0.27956418632245683, -0.48077161201292673, 0.5244855687004379, -57.64560971216117]\n"
          ]
        }
      ]
    },
    {
      "cell_type": "markdown",
      "source": [
        "Нахождение пересечения вектора, соединяющего центры масс с разделяющей плоскостью. Полученная точка будет являться центром ячейки"
      ],
      "metadata": {
        "id": "WYRoeNble-26"
      }
    },
    {
      "cell_type": "code",
      "source": [
        "#Функция для нахождения точки пересечения вектора с плоскостью\n",
        "def add_v3v3(v0, v1):\n",
        "    return (\n",
        "        v0[0] + v1[0],\n",
        "        v0[1] + v1[1],\n",
        "        v0[2] + v1[2],\n",
        "    )\n",
        "\n",
        "\n",
        "def sub_v3v3(v0, v1):\n",
        "    return (\n",
        "        v0[0] - v1[0],\n",
        "        v0[1] - v1[1],\n",
        "        v0[2] - v1[2],\n",
        "    )\n",
        "\n",
        "\n",
        "def dot_v3v3(v0, v1):\n",
        "    return (\n",
        "        (v0[0] * v1[0]) +\n",
        "        (v0[1] * v1[1]) +\n",
        "        (v0[2] * v1[2])\n",
        "    )\n",
        "\n",
        "\n",
        "def len_squared_v3(v0):\n",
        "    return dot_v3v3(v0, v0)\n",
        "\n",
        "\n",
        "def mul_v3_fl(v0, f):\n",
        "    return (\n",
        "        v0[0] * f,\n",
        "        v0[1] * f,\n",
        "        v0[2] * f,\n",
        "    )\n",
        "\n",
        "def isect_line_plane_v3_4d(p0, p1, plane, epsilon=1e-6):\n",
        "    u = sub_v3v3(p1, p0)\n",
        "    dot = dot_v3v3(plane, u)\n",
        "\n",
        "    if abs(dot) > epsilon:\n",
        "        # Calculate a point on the plane\n",
        "        # (divide can be omitted for unit hessian-normal form).\n",
        "        p_co = mul_v3_fl(plane, -plane[3] / len_squared_v3(plane))\n",
        "\n",
        "        w = sub_v3v3(p0, p_co)\n",
        "        fac = -dot_v3v3(plane, w) / dot\n",
        "        u = mul_v3_fl(u, fac)\n",
        "        return add_v3v3(p0, u)\n",
        "\n",
        "    return None"
      ],
      "metadata": {
        "id": "RWhxq2ducpWX"
      },
      "execution_count": null,
      "outputs": []
    },
    {
      "cell_type": "code",
      "source": [
        "#dot_is - координаты точки пересечения, а следовательно и центра ячейки\n",
        "dot_is = isect_line_plane_v3_4d(center_1, center_2, plane_bind)\n"
      ],
      "metadata": {
        "id": "lQhnIif2fRTO"
      },
      "execution_count": null,
      "outputs": []
    },
    {
      "cell_type": "code",
      "source": [
        "x0, y0, z0 = dot_is[0], dot_is[1], dot_is[2]\n",
        "x1, y1, z1 = center_1[0], center_1[1], center_1[2]\n",
        "x2, y2, z2 = center_2[0], center_2[1], center_2[2]\n",
        "n_v = [(x1 - x0), (y1 - y0), (z1 - z0)]\n"
      ],
      "metadata": {
        "id": "DnYXFwZDfhZ0"
      },
      "execution_count": null,
      "outputs": []
    },
    {
      "cell_type": "markdown",
      "source": [
        "Поиск векторов на разделяющей плоскости, нужные для выбора прямоугольной области.\n",
        "\n",
        "Сначала строим плоскость, параллельную разделяющей на расстоянии 5 А по вектору масс (не является нормалью разделяющей плоскости, но для данной задачи подойдет). Далее выбираем точки, которые находятся близко или на ней, находим точки с наибольшим расстоянием, так получаем вектор. Создаем его проекцию на разделяющую плоскость, ищем параллельный ему, проходящий через центр ячейки. Ищем на нем точки на расстоянии 25 ангстрем от центра плоскости, полученный вектор будет характеризовать наибольшую длину участка связывания.\n",
        "\n",
        "Следующим шагом находим вектор, перпендикулярный ему на разделяющей плоскости, проходящий через центр ячейки. Ищем на нем точки на расстоянии 25 ангстрем от центра плоскости.\n",
        "Вместе эти два вектора задают прямоугольную область связывания"
      ],
      "metadata": {
        "id": "ABfWtqZMhSW8"
      }
    },
    {
      "cell_type": "code",
      "source": [
        "from scipy.optimize import fsolve\n",
        "\n",
        "#решаем систему уравнений, чтобы найти точку, через которую будет проходить плоскость, параллельная разделяющей на расстоянии 3А по вектору масс\n",
        "def equations_3(p):\n",
        "  x,y,z = p\n",
        "  eq1 = np.sqrt((x0-x)*(x0-x)+(y0-y)*(y0-y) +(z0-z)*(z0-z)) - 3\n",
        "  eq2 = (x-x1)/n_v[0] - (y-y1)/n_v[1]\n",
        "  eq3 = (z-z1)/n_v[2] - (y-y1)/n_v[1]\n",
        "  return (eq1, eq2, eq3)\n",
        "x, y, z = fsolve(equations_3, (0, 0, 0))\n",
        "dot_3_1 = [x, y, z]\n",
        "#Записываем коэффициенты полученной плоскости\n",
        "bias_3_1 = plane_bind[0]*(-dot_3_1[0]) + plane_bind[1]*(-dot_3_1[1]) + plane_bind[2]*(-dot_3_1[2])\n",
        "plane_3_1 = [plane_bind[0], plane_bind[1], plane_bind[2], bias_3_1]\n",
        "plane_3_1"
      ],
      "metadata": {
        "colab": {
          "base_uri": "https://localhost:8080/"
        },
        "id": "_nfbc5T2gd-t",
        "outputId": "5043bd34-fddd-4c42-ad31-fe0b41a3ab55"
      },
      "execution_count": null,
      "outputs": [
        {
          "output_type": "execute_result",
          "data": {
            "text/plain": [
              "[0.27956418632245683,\n",
              " -0.48077161201292673,\n",
              " 0.5244855687004379,\n",
              " -55.4387036296952]"
            ]
          },
          "metadata": {},
          "execution_count": 81
        }
      ]
    },
    {
      "cell_type": "code",
      "source": [
        "delta = np.array(dot_3_1) - np.array(dot_is)\n",
        "dot_3_2= np.array(dot_is)- delta\n",
        "bias_3_2 = plane_bind[0]*(-dot_3_2[0]) + plane_bind[1]*(-dot_3_2[1]) + plane_bind[2]*(-dot_3_2[2])\n",
        "plane_3_2 = [plane_bind[0], plane_bind[1], plane_bind[2], bias_3_2]"
      ],
      "metadata": {
        "id": "dtoS5kxNaClF"
      },
      "execution_count": null,
      "outputs": []
    },
    {
      "cell_type": "code",
      "source": [
        "#Выбираем атомы, которые примерно лежат на этой плоскости, подставляем их координаты в уравнение плоскости, чтобы понять насколько близко он к ней расположены\n",
        "Atoms_3A_1 = pd.DataFrame(columns=['Num', 'x', 'y', 'z', 'd'])\n",
        "for i in range(Atoms_coord_df.shape[0]):\n",
        "  x = Atoms_coord_df['x'][i]\n",
        "  y = Atoms_coord_df['y'][i]\n",
        "  z = Atoms_coord_df['z'][i]\n",
        "  d = plane_3_1[0]*x + plane_3_1[1]*y + plane_3_1[2]*z + plane_3_1[3]\n",
        "  if abs(d)<0.2:\n",
        "    Atoms_3A_1.loc[len(Atoms_3A_1.index)] = [i, x, y, z, d]\n",
        "\n",
        "Atoms_3A_2 = pd.DataFrame(columns=['Num', 'x', 'y', 'z', 'd'])\n",
        "for i in range(Atoms_coord_df.shape[0]):\n",
        "  x = Atoms_coord_df['x'][i]\n",
        "  y = Atoms_coord_df['y'][i]\n",
        "  z = Atoms_coord_df['z'][i]\n",
        "  d = plane_3_2[0]*x + plane_3_2[1]*y + plane_3_2[2]*z + plane_3_2[3]\n",
        "  if abs(d)<0.3:\n",
        "    Atoms_3A_2.loc[len(Atoms_3A_2.index)] = [i, x, y, z, d]\n",
        "if Atoms_3A_2.shape[0]>=Atoms_3A_1.shape[0]:\n",
        "  Atoms_3A = Atoms_3A_2\n",
        "else:\n",
        "  Atoms_3A = Atoms_3A_1\n",
        "\n",
        "Atoms_3A"
      ],
      "metadata": {
        "colab": {
          "base_uri": "https://localhost:8080/",
          "height": 833
        },
        "id": "BXF8Hu6pjl_A",
        "outputId": "1233f915-d0fa-4356-eb14-fb790c61544f"
      },
      "execution_count": null,
      "outputs": [
        {
          "output_type": "execute_result",
          "data": {
            "text/plain": [
              "       Num      x     y     z         d\n",
              "0    293.0  122.0  43.0  88.0 -0.264134\n",
              "1   2996.0  104.0  38.0  93.0 -0.270004\n",
              "2   3233.0  107.0  35.0  89.0 -0.086939\n",
              "3   3236.0  108.0  36.0  89.0 -0.288146\n",
              "4   3237.0  108.0  37.0  90.0 -0.244432\n",
              "5   3278.0  113.0  41.0  92.0  0.279273\n",
              "6   3280.0  113.0  39.0  90.0  0.191846\n",
              "7   3313.0  115.0  47.0  96.0  0.051714\n",
              "8   3343.0  119.0  49.0  96.0  0.208428\n",
              "9   3373.0  123.0  51.0  95.0 -0.159344\n",
              "10  3375.0  123.0  49.0  93.0 -0.246772\n",
              "11  3376.0  122.0  48.0  93.0 -0.045565\n",
              "12  3416.0  125.0  45.0  89.0  0.137501\n",
              "13  3423.0  119.0  41.0  88.0 -0.141284\n",
              "14  3439.0  117.0  34.0  83.0  0.042561\n",
              "15  3445.0  115.0  33.0  83.0 -0.035795\n",
              "16  3460.0  110.0  29.0  82.0 -0.035015\n",
              "17  3497.0  104.0  24.0  81.0  0.166972\n",
              "18  3519.0  106.0  27.0  82.0 -0.191729\n",
              "19  3538.0  112.0  34.0  86.0  0.218197\n",
              "20  3662.0  128.0  34.0  77.0 -0.029146\n",
              "21  3711.0  120.0  23.0  71.0 -0.124085\n",
              "22  3729.0  111.0  20.0  73.0 -0.148877\n",
              "23  3734.0  110.0  17.0  71.0 -0.035097\n",
              "24  3735.0  111.0  18.0  72.0  0.288181"
            ],
            "text/html": [
              "\n",
              "  <div id=\"df-f4309cd9-2391-430c-855f-445b3f651087\">\n",
              "    <div class=\"colab-df-container\">\n",
              "      <div>\n",
              "<style scoped>\n",
              "    .dataframe tbody tr th:only-of-type {\n",
              "        vertical-align: middle;\n",
              "    }\n",
              "\n",
              "    .dataframe tbody tr th {\n",
              "        vertical-align: top;\n",
              "    }\n",
              "\n",
              "    .dataframe thead th {\n",
              "        text-align: right;\n",
              "    }\n",
              "</style>\n",
              "<table border=\"1\" class=\"dataframe\">\n",
              "  <thead>\n",
              "    <tr style=\"text-align: right;\">\n",
              "      <th></th>\n",
              "      <th>Num</th>\n",
              "      <th>x</th>\n",
              "      <th>y</th>\n",
              "      <th>z</th>\n",
              "      <th>d</th>\n",
              "    </tr>\n",
              "  </thead>\n",
              "  <tbody>\n",
              "    <tr>\n",
              "      <th>0</th>\n",
              "      <td>293.0</td>\n",
              "      <td>122.0</td>\n",
              "      <td>43.0</td>\n",
              "      <td>88.0</td>\n",
              "      <td>-0.264134</td>\n",
              "    </tr>\n",
              "    <tr>\n",
              "      <th>1</th>\n",
              "      <td>2996.0</td>\n",
              "      <td>104.0</td>\n",
              "      <td>38.0</td>\n",
              "      <td>93.0</td>\n",
              "      <td>-0.270004</td>\n",
              "    </tr>\n",
              "    <tr>\n",
              "      <th>2</th>\n",
              "      <td>3233.0</td>\n",
              "      <td>107.0</td>\n",
              "      <td>35.0</td>\n",
              "      <td>89.0</td>\n",
              "      <td>-0.086939</td>\n",
              "    </tr>\n",
              "    <tr>\n",
              "      <th>3</th>\n",
              "      <td>3236.0</td>\n",
              "      <td>108.0</td>\n",
              "      <td>36.0</td>\n",
              "      <td>89.0</td>\n",
              "      <td>-0.288146</td>\n",
              "    </tr>\n",
              "    <tr>\n",
              "      <th>4</th>\n",
              "      <td>3237.0</td>\n",
              "      <td>108.0</td>\n",
              "      <td>37.0</td>\n",
              "      <td>90.0</td>\n",
              "      <td>-0.244432</td>\n",
              "    </tr>\n",
              "    <tr>\n",
              "      <th>5</th>\n",
              "      <td>3278.0</td>\n",
              "      <td>113.0</td>\n",
              "      <td>41.0</td>\n",
              "      <td>92.0</td>\n",
              "      <td>0.279273</td>\n",
              "    </tr>\n",
              "    <tr>\n",
              "      <th>6</th>\n",
              "      <td>3280.0</td>\n",
              "      <td>113.0</td>\n",
              "      <td>39.0</td>\n",
              "      <td>90.0</td>\n",
              "      <td>0.191846</td>\n",
              "    </tr>\n",
              "    <tr>\n",
              "      <th>7</th>\n",
              "      <td>3313.0</td>\n",
              "      <td>115.0</td>\n",
              "      <td>47.0</td>\n",
              "      <td>96.0</td>\n",
              "      <td>0.051714</td>\n",
              "    </tr>\n",
              "    <tr>\n",
              "      <th>8</th>\n",
              "      <td>3343.0</td>\n",
              "      <td>119.0</td>\n",
              "      <td>49.0</td>\n",
              "      <td>96.0</td>\n",
              "      <td>0.208428</td>\n",
              "    </tr>\n",
              "    <tr>\n",
              "      <th>9</th>\n",
              "      <td>3373.0</td>\n",
              "      <td>123.0</td>\n",
              "      <td>51.0</td>\n",
              "      <td>95.0</td>\n",
              "      <td>-0.159344</td>\n",
              "    </tr>\n",
              "    <tr>\n",
              "      <th>10</th>\n",
              "      <td>3375.0</td>\n",
              "      <td>123.0</td>\n",
              "      <td>49.0</td>\n",
              "      <td>93.0</td>\n",
              "      <td>-0.246772</td>\n",
              "    </tr>\n",
              "    <tr>\n",
              "      <th>11</th>\n",
              "      <td>3376.0</td>\n",
              "      <td>122.0</td>\n",
              "      <td>48.0</td>\n",
              "      <td>93.0</td>\n",
              "      <td>-0.045565</td>\n",
              "    </tr>\n",
              "    <tr>\n",
              "      <th>12</th>\n",
              "      <td>3416.0</td>\n",
              "      <td>125.0</td>\n",
              "      <td>45.0</td>\n",
              "      <td>89.0</td>\n",
              "      <td>0.137501</td>\n",
              "    </tr>\n",
              "    <tr>\n",
              "      <th>13</th>\n",
              "      <td>3423.0</td>\n",
              "      <td>119.0</td>\n",
              "      <td>41.0</td>\n",
              "      <td>88.0</td>\n",
              "      <td>-0.141284</td>\n",
              "    </tr>\n",
              "    <tr>\n",
              "      <th>14</th>\n",
              "      <td>3439.0</td>\n",
              "      <td>117.0</td>\n",
              "      <td>34.0</td>\n",
              "      <td>83.0</td>\n",
              "      <td>0.042561</td>\n",
              "    </tr>\n",
              "    <tr>\n",
              "      <th>15</th>\n",
              "      <td>3445.0</td>\n",
              "      <td>115.0</td>\n",
              "      <td>33.0</td>\n",
              "      <td>83.0</td>\n",
              "      <td>-0.035795</td>\n",
              "    </tr>\n",
              "    <tr>\n",
              "      <th>16</th>\n",
              "      <td>3460.0</td>\n",
              "      <td>110.0</td>\n",
              "      <td>29.0</td>\n",
              "      <td>82.0</td>\n",
              "      <td>-0.035015</td>\n",
              "    </tr>\n",
              "    <tr>\n",
              "      <th>17</th>\n",
              "      <td>3497.0</td>\n",
              "      <td>104.0</td>\n",
              "      <td>24.0</td>\n",
              "      <td>81.0</td>\n",
              "      <td>0.166972</td>\n",
              "    </tr>\n",
              "    <tr>\n",
              "      <th>18</th>\n",
              "      <td>3519.0</td>\n",
              "      <td>106.0</td>\n",
              "      <td>27.0</td>\n",
              "      <td>82.0</td>\n",
              "      <td>-0.191729</td>\n",
              "    </tr>\n",
              "    <tr>\n",
              "      <th>19</th>\n",
              "      <td>3538.0</td>\n",
              "      <td>112.0</td>\n",
              "      <td>34.0</td>\n",
              "      <td>86.0</td>\n",
              "      <td>0.218197</td>\n",
              "    </tr>\n",
              "    <tr>\n",
              "      <th>20</th>\n",
              "      <td>3662.0</td>\n",
              "      <td>128.0</td>\n",
              "      <td>34.0</td>\n",
              "      <td>77.0</td>\n",
              "      <td>-0.029146</td>\n",
              "    </tr>\n",
              "    <tr>\n",
              "      <th>21</th>\n",
              "      <td>3711.0</td>\n",
              "      <td>120.0</td>\n",
              "      <td>23.0</td>\n",
              "      <td>71.0</td>\n",
              "      <td>-0.124085</td>\n",
              "    </tr>\n",
              "    <tr>\n",
              "      <th>22</th>\n",
              "      <td>3729.0</td>\n",
              "      <td>111.0</td>\n",
              "      <td>20.0</td>\n",
              "      <td>73.0</td>\n",
              "      <td>-0.148877</td>\n",
              "    </tr>\n",
              "    <tr>\n",
              "      <th>23</th>\n",
              "      <td>3734.0</td>\n",
              "      <td>110.0</td>\n",
              "      <td>17.0</td>\n",
              "      <td>71.0</td>\n",
              "      <td>-0.035097</td>\n",
              "    </tr>\n",
              "    <tr>\n",
              "      <th>24</th>\n",
              "      <td>3735.0</td>\n",
              "      <td>111.0</td>\n",
              "      <td>18.0</td>\n",
              "      <td>72.0</td>\n",
              "      <td>0.288181</td>\n",
              "    </tr>\n",
              "  </tbody>\n",
              "</table>\n",
              "</div>\n",
              "      <button class=\"colab-df-convert\" onclick=\"convertToInteractive('df-f4309cd9-2391-430c-855f-445b3f651087')\"\n",
              "              title=\"Convert this dataframe to an interactive table.\"\n",
              "              style=\"display:none;\">\n",
              "        \n",
              "  <svg xmlns=\"http://www.w3.org/2000/svg\" height=\"24px\"viewBox=\"0 0 24 24\"\n",
              "       width=\"24px\">\n",
              "    <path d=\"M0 0h24v24H0V0z\" fill=\"none\"/>\n",
              "    <path d=\"M18.56 5.44l.94 2.06.94-2.06 2.06-.94-2.06-.94-.94-2.06-.94 2.06-2.06.94zm-11 1L8.5 8.5l.94-2.06 2.06-.94-2.06-.94L8.5 2.5l-.94 2.06-2.06.94zm10 10l.94 2.06.94-2.06 2.06-.94-2.06-.94-.94-2.06-.94 2.06-2.06.94z\"/><path d=\"M17.41 7.96l-1.37-1.37c-.4-.4-.92-.59-1.43-.59-.52 0-1.04.2-1.43.59L10.3 9.45l-7.72 7.72c-.78.78-.78 2.05 0 2.83L4 21.41c.39.39.9.59 1.41.59.51 0 1.02-.2 1.41-.59l7.78-7.78 2.81-2.81c.8-.78.8-2.07 0-2.86zM5.41 20L4 18.59l7.72-7.72 1.47 1.35L5.41 20z\"/>\n",
              "  </svg>\n",
              "      </button>\n",
              "      \n",
              "  <style>\n",
              "    .colab-df-container {\n",
              "      display:flex;\n",
              "      flex-wrap:wrap;\n",
              "      gap: 12px;\n",
              "    }\n",
              "\n",
              "    .colab-df-convert {\n",
              "      background-color: #E8F0FE;\n",
              "      border: none;\n",
              "      border-radius: 50%;\n",
              "      cursor: pointer;\n",
              "      display: none;\n",
              "      fill: #1967D2;\n",
              "      height: 32px;\n",
              "      padding: 0 0 0 0;\n",
              "      width: 32px;\n",
              "    }\n",
              "\n",
              "    .colab-df-convert:hover {\n",
              "      background-color: #E2EBFA;\n",
              "      box-shadow: 0px 1px 2px rgba(60, 64, 67, 0.3), 0px 1px 3px 1px rgba(60, 64, 67, 0.15);\n",
              "      fill: #174EA6;\n",
              "    }\n",
              "\n",
              "    [theme=dark] .colab-df-convert {\n",
              "      background-color: #3B4455;\n",
              "      fill: #D2E3FC;\n",
              "    }\n",
              "\n",
              "    [theme=dark] .colab-df-convert:hover {\n",
              "      background-color: #434B5C;\n",
              "      box-shadow: 0px 1px 3px 1px rgba(0, 0, 0, 0.15);\n",
              "      filter: drop-shadow(0px 1px 2px rgba(0, 0, 0, 0.3));\n",
              "      fill: #FFFFFF;\n",
              "    }\n",
              "  </style>\n",
              "\n",
              "      <script>\n",
              "        const buttonEl =\n",
              "          document.querySelector('#df-f4309cd9-2391-430c-855f-445b3f651087 button.colab-df-convert');\n",
              "        buttonEl.style.display =\n",
              "          google.colab.kernel.accessAllowed ? 'block' : 'none';\n",
              "\n",
              "        async function convertToInteractive(key) {\n",
              "          const element = document.querySelector('#df-f4309cd9-2391-430c-855f-445b3f651087');\n",
              "          const dataTable =\n",
              "            await google.colab.kernel.invokeFunction('convertToInteractive',\n",
              "                                                     [key], {});\n",
              "          if (!dataTable) return;\n",
              "\n",
              "          const docLinkHtml = 'Like what you see? Visit the ' +\n",
              "            '<a target=\"_blank\" href=https://colab.research.google.com/notebooks/data_table.ipynb>data table notebook</a>'\n",
              "            + ' to learn more about interactive tables.';\n",
              "          element.innerHTML = '';\n",
              "          dataTable['output_type'] = 'display_data';\n",
              "          await google.colab.output.renderOutput(dataTable, element);\n",
              "          const docLink = document.createElement('div');\n",
              "          docLink.innerHTML = docLinkHtml;\n",
              "          element.appendChild(docLink);\n",
              "        }\n",
              "      </script>\n",
              "    </div>\n",
              "  </div>\n",
              "  "
            ]
          },
          "metadata": {},
          "execution_count": 83
        }
      ]
    },
    {
      "cell_type": "code",
      "source": [
        "from math import sqrt\n",
        "#Функция для поиска точек с наибольшим расстоянием\n",
        "def dist(p1, p2):\n",
        "  x0 = p1[0] - p2[0]\n",
        "  y0 = p1[1] - p2[1]\n",
        "  z0 = p1[2] - p2[2]\n",
        "  return x0 * x0 + y0 * y0 + z0 * z0\n",
        "\n",
        "\n",
        "def maxDist(p):\n",
        "  n = p.shape[0]\n",
        "  maxm = 0\n",
        "  for i in range(n):\n",
        "    for j in range(i + 1, n):\n",
        "      if dist(p.iloc[i], p.iloc[j]) > maxm:\n",
        "       maxm = dist(p.iloc[i], p.iloc[j])\n",
        "       max_1 = i\n",
        "       max_2 = j\n",
        "\n",
        "  return [max_1, max_2, sqrt(maxm)]\n"
      ],
      "metadata": {
        "id": "tM0LD6mghIxU"
      },
      "execution_count": null,
      "outputs": []
    },
    {
      "cell_type": "code",
      "source": [
        "dots_max_dist = maxDist(Atoms_3A[['x', 'y', 'z']])\n",
        "dots_max_dist"
      ],
      "metadata": {
        "colab": {
          "base_uri": "https://localhost:8080/"
        },
        "id": "jaDyVaFYkG4S",
        "outputId": "01f4ce5a-39d2-4015-a529-b151b82bb253"
      },
      "execution_count": null,
      "outputs": [
        {
          "output_type": "execute_result",
          "data": {
            "text/plain": [
              "[9, 23, 43.60045871318328]"
            ]
          },
          "metadata": {},
          "execution_count": 85
        }
      ]
    },
    {
      "cell_type": "code",
      "source": [
        "#вектор, соединяющий точки с наибольшим расстоянием\n",
        "vec_3 = [[Atoms_3A['x'][dots_max_dist[0]] - Atoms_3A['x'][dots_max_dist[1]], Atoms_3A['y'][dots_max_dist[0]] - Atoms_3A['y'][dots_max_dist[1]], Atoms_3A['z'][dots_max_dist[0]] - Atoms_3A['z'][dots_max_dist[1]]]]\n",
        "vec_3"
      ],
      "metadata": {
        "colab": {
          "base_uri": "https://localhost:8080/"
        },
        "id": "NoFShgfrkT5K",
        "outputId": "82182384-7761-44f8-f2b9-fef30af3933c"
      },
      "execution_count": null,
      "outputs": [
        {
          "output_type": "execute_result",
          "data": {
            "text/plain": [
              "[[13.0, 34.0, 24.0]]"
            ]
          },
          "metadata": {},
          "execution_count": 86
        }
      ]
    },
    {
      "cell_type": "code",
      "source": [
        "# Получение проекции вектора vec_5 на разделяющую плоскость\n",
        "# vector u\n",
        "u = np.array(vec_3)\n",
        "\n",
        "# vector n: n is orthogonal vector to Plane P\n",
        "n = np.array([plane_bind[0], plane_bind[1], plane_bind[2]])\n",
        "\n",
        "# Task: Project vector u on Plane P\n",
        "\n",
        "# finding norm of the vector n\n",
        "n_norm = np.sqrt(sum(n**2))\n",
        "\n",
        "# Apply the formula as mentioned above\n",
        "# for projecting a vector onto the orthogonal vector n\n",
        "# find dot product using np.dot()\n",
        "proj_of_u_on_n = (np.dot(u, n)/n_norm**2)*n\n",
        "proj_vec = u - proj_of_u_on_n\n",
        "proj_vec = np.reshape(proj_vec, -1)\n",
        "# subtract proj_of_u_on_n from u:\n",
        "# this is the projection of u on Plane P\n",
        "print(\"Projection of Vector u on Plane Binding is: \", proj_vec)"
      ],
      "metadata": {
        "colab": {
          "base_uri": "https://localhost:8080/"
        },
        "id": "FjizdkEJkvzW",
        "outputId": "3c9973cb-220e-453a-a01f-3b990156ddfa"
      },
      "execution_count": null,
      "outputs": [
        {
          "output_type": "stream",
          "name": "stdout",
          "text": [
            "Projection of Vector u on Plane Binding is:  [13.05943869 33.8977822  24.11151191]\n"
          ]
        }
      ]
    },
    {
      "cell_type": "code",
      "source": [
        "#Проверяем, лежит ли этот вектор на разделяющей плоскости\n",
        "proj_vec[0]*plane_bind[0] + proj_vec[1]*plane_bind[1] + proj_vec[2]*plane_bind[2]"
      ],
      "metadata": {
        "colab": {
          "base_uri": "https://localhost:8080/"
        },
        "id": "2jRRRnIjkkol",
        "outputId": "c5783a10-ca67-491c-ee25-735c55432b55"
      },
      "execution_count": null,
      "outputs": [
        {
          "output_type": "execute_result",
          "data": {
            "text/plain": [
              "0.0"
            ]
          },
          "metadata": {},
          "execution_count": 88
        }
      ]
    },
    {
      "cell_type": "markdown",
      "source": [
        "Пробуем повернуть координаты атомов, чтобы разделяющая плоскость бы параллельна плоскости XOY"
      ],
      "metadata": {
        "id": "w4JWYYU9qD9T"
      }
    },
    {
      "cell_type": "code",
      "source": [
        "#Создаю копию таблицы с атомами\n",
        "Atoms_coord = Atoms_coord_df.copy()\n",
        "Atoms_coord"
      ],
      "metadata": {
        "colab": {
          "base_uri": "https://localhost:8080/",
          "height": 424
        },
        "id": "jmGjPH75pn-J",
        "outputId": "95e56edc-c185-4404-cff8-9ec28d1bd84f"
      },
      "execution_count": null,
      "outputs": [
        {
          "output_type": "execute_result",
          "data": {
            "text/plain": [
              "     Chain_name  Chain_num Residue Type    x   y    z\n",
              "0             A          0     ASP    N  106  50   42\n",
              "1             A          0     ASP   CA  106  49   43\n",
              "2             A          0     ASP    C  107  49   44\n",
              "3             A          0     ASP    O  107  49   45\n",
              "4             A          0     ASP   CB  107  47   42\n",
              "...         ...        ...     ...  ...  ...  ..  ...\n",
              "4926          D          1     THR    O  141  31   98\n",
              "4927          D          1     THR   CB  139  29  100\n",
              "4928          D          1     THR  OG1  140  30  101\n",
              "4929          D          1     THR  CG2  140  28  100\n",
              "4930          D          1     THR  OXT  140  29   97\n",
              "\n",
              "[4931 rows x 7 columns]"
            ],
            "text/html": [
              "\n",
              "  <div id=\"df-5448ef93-fa95-4919-9741-a0f0e870d2d2\">\n",
              "    <div class=\"colab-df-container\">\n",
              "      <div>\n",
              "<style scoped>\n",
              "    .dataframe tbody tr th:only-of-type {\n",
              "        vertical-align: middle;\n",
              "    }\n",
              "\n",
              "    .dataframe tbody tr th {\n",
              "        vertical-align: top;\n",
              "    }\n",
              "\n",
              "    .dataframe thead th {\n",
              "        text-align: right;\n",
              "    }\n",
              "</style>\n",
              "<table border=\"1\" class=\"dataframe\">\n",
              "  <thead>\n",
              "    <tr style=\"text-align: right;\">\n",
              "      <th></th>\n",
              "      <th>Chain_name</th>\n",
              "      <th>Chain_num</th>\n",
              "      <th>Residue</th>\n",
              "      <th>Type</th>\n",
              "      <th>x</th>\n",
              "      <th>y</th>\n",
              "      <th>z</th>\n",
              "    </tr>\n",
              "  </thead>\n",
              "  <tbody>\n",
              "    <tr>\n",
              "      <th>0</th>\n",
              "      <td>A</td>\n",
              "      <td>0</td>\n",
              "      <td>ASP</td>\n",
              "      <td>N</td>\n",
              "      <td>106</td>\n",
              "      <td>50</td>\n",
              "      <td>42</td>\n",
              "    </tr>\n",
              "    <tr>\n",
              "      <th>1</th>\n",
              "      <td>A</td>\n",
              "      <td>0</td>\n",
              "      <td>ASP</td>\n",
              "      <td>CA</td>\n",
              "      <td>106</td>\n",
              "      <td>49</td>\n",
              "      <td>43</td>\n",
              "    </tr>\n",
              "    <tr>\n",
              "      <th>2</th>\n",
              "      <td>A</td>\n",
              "      <td>0</td>\n",
              "      <td>ASP</td>\n",
              "      <td>C</td>\n",
              "      <td>107</td>\n",
              "      <td>49</td>\n",
              "      <td>44</td>\n",
              "    </tr>\n",
              "    <tr>\n",
              "      <th>3</th>\n",
              "      <td>A</td>\n",
              "      <td>0</td>\n",
              "      <td>ASP</td>\n",
              "      <td>O</td>\n",
              "      <td>107</td>\n",
              "      <td>49</td>\n",
              "      <td>45</td>\n",
              "    </tr>\n",
              "    <tr>\n",
              "      <th>4</th>\n",
              "      <td>A</td>\n",
              "      <td>0</td>\n",
              "      <td>ASP</td>\n",
              "      <td>CB</td>\n",
              "      <td>107</td>\n",
              "      <td>47</td>\n",
              "      <td>42</td>\n",
              "    </tr>\n",
              "    <tr>\n",
              "      <th>...</th>\n",
              "      <td>...</td>\n",
              "      <td>...</td>\n",
              "      <td>...</td>\n",
              "      <td>...</td>\n",
              "      <td>...</td>\n",
              "      <td>...</td>\n",
              "      <td>...</td>\n",
              "    </tr>\n",
              "    <tr>\n",
              "      <th>4926</th>\n",
              "      <td>D</td>\n",
              "      <td>1</td>\n",
              "      <td>THR</td>\n",
              "      <td>O</td>\n",
              "      <td>141</td>\n",
              "      <td>31</td>\n",
              "      <td>98</td>\n",
              "    </tr>\n",
              "    <tr>\n",
              "      <th>4927</th>\n",
              "      <td>D</td>\n",
              "      <td>1</td>\n",
              "      <td>THR</td>\n",
              "      <td>CB</td>\n",
              "      <td>139</td>\n",
              "      <td>29</td>\n",
              "      <td>100</td>\n",
              "    </tr>\n",
              "    <tr>\n",
              "      <th>4928</th>\n",
              "      <td>D</td>\n",
              "      <td>1</td>\n",
              "      <td>THR</td>\n",
              "      <td>OG1</td>\n",
              "      <td>140</td>\n",
              "      <td>30</td>\n",
              "      <td>101</td>\n",
              "    </tr>\n",
              "    <tr>\n",
              "      <th>4929</th>\n",
              "      <td>D</td>\n",
              "      <td>1</td>\n",
              "      <td>THR</td>\n",
              "      <td>CG2</td>\n",
              "      <td>140</td>\n",
              "      <td>28</td>\n",
              "      <td>100</td>\n",
              "    </tr>\n",
              "    <tr>\n",
              "      <th>4930</th>\n",
              "      <td>D</td>\n",
              "      <td>1</td>\n",
              "      <td>THR</td>\n",
              "      <td>OXT</td>\n",
              "      <td>140</td>\n",
              "      <td>29</td>\n",
              "      <td>97</td>\n",
              "    </tr>\n",
              "  </tbody>\n",
              "</table>\n",
              "<p>4931 rows × 7 columns</p>\n",
              "</div>\n",
              "      <button class=\"colab-df-convert\" onclick=\"convertToInteractive('df-5448ef93-fa95-4919-9741-a0f0e870d2d2')\"\n",
              "              title=\"Convert this dataframe to an interactive table.\"\n",
              "              style=\"display:none;\">\n",
              "        \n",
              "  <svg xmlns=\"http://www.w3.org/2000/svg\" height=\"24px\"viewBox=\"0 0 24 24\"\n",
              "       width=\"24px\">\n",
              "    <path d=\"M0 0h24v24H0V0z\" fill=\"none\"/>\n",
              "    <path d=\"M18.56 5.44l.94 2.06.94-2.06 2.06-.94-2.06-.94-.94-2.06-.94 2.06-2.06.94zm-11 1L8.5 8.5l.94-2.06 2.06-.94-2.06-.94L8.5 2.5l-.94 2.06-2.06.94zm10 10l.94 2.06.94-2.06 2.06-.94-2.06-.94-.94-2.06-.94 2.06-2.06.94z\"/><path d=\"M17.41 7.96l-1.37-1.37c-.4-.4-.92-.59-1.43-.59-.52 0-1.04.2-1.43.59L10.3 9.45l-7.72 7.72c-.78.78-.78 2.05 0 2.83L4 21.41c.39.39.9.59 1.41.59.51 0 1.02-.2 1.41-.59l7.78-7.78 2.81-2.81c.8-.78.8-2.07 0-2.86zM5.41 20L4 18.59l7.72-7.72 1.47 1.35L5.41 20z\"/>\n",
              "  </svg>\n",
              "      </button>\n",
              "      \n",
              "  <style>\n",
              "    .colab-df-container {\n",
              "      display:flex;\n",
              "      flex-wrap:wrap;\n",
              "      gap: 12px;\n",
              "    }\n",
              "\n",
              "    .colab-df-convert {\n",
              "      background-color: #E8F0FE;\n",
              "      border: none;\n",
              "      border-radius: 50%;\n",
              "      cursor: pointer;\n",
              "      display: none;\n",
              "      fill: #1967D2;\n",
              "      height: 32px;\n",
              "      padding: 0 0 0 0;\n",
              "      width: 32px;\n",
              "    }\n",
              "\n",
              "    .colab-df-convert:hover {\n",
              "      background-color: #E2EBFA;\n",
              "      box-shadow: 0px 1px 2px rgba(60, 64, 67, 0.3), 0px 1px 3px 1px rgba(60, 64, 67, 0.15);\n",
              "      fill: #174EA6;\n",
              "    }\n",
              "\n",
              "    [theme=dark] .colab-df-convert {\n",
              "      background-color: #3B4455;\n",
              "      fill: #D2E3FC;\n",
              "    }\n",
              "\n",
              "    [theme=dark] .colab-df-convert:hover {\n",
              "      background-color: #434B5C;\n",
              "      box-shadow: 0px 1px 3px 1px rgba(0, 0, 0, 0.15);\n",
              "      filter: drop-shadow(0px 1px 2px rgba(0, 0, 0, 0.3));\n",
              "      fill: #FFFFFF;\n",
              "    }\n",
              "  </style>\n",
              "\n",
              "      <script>\n",
              "        const buttonEl =\n",
              "          document.querySelector('#df-5448ef93-fa95-4919-9741-a0f0e870d2d2 button.colab-df-convert');\n",
              "        buttonEl.style.display =\n",
              "          google.colab.kernel.accessAllowed ? 'block' : 'none';\n",
              "\n",
              "        async function convertToInteractive(key) {\n",
              "          const element = document.querySelector('#df-5448ef93-fa95-4919-9741-a0f0e870d2d2');\n",
              "          const dataTable =\n",
              "            await google.colab.kernel.invokeFunction('convertToInteractive',\n",
              "                                                     [key], {});\n",
              "          if (!dataTable) return;\n",
              "\n",
              "          const docLinkHtml = 'Like what you see? Visit the ' +\n",
              "            '<a target=\"_blank\" href=https://colab.research.google.com/notebooks/data_table.ipynb>data table notebook</a>'\n",
              "            + ' to learn more about interactive tables.';\n",
              "          element.innerHTML = '';\n",
              "          dataTable['output_type'] = 'display_data';\n",
              "          await google.colab.output.renderOutput(dataTable, element);\n",
              "          const docLink = document.createElement('div');\n",
              "          docLink.innerHTML = docLinkHtml;\n",
              "          element.appendChild(docLink);\n",
              "        }\n",
              "      </script>\n",
              "    </div>\n",
              "  </div>\n",
              "  "
            ]
          },
          "metadata": {},
          "execution_count": 89
        }
      ]
    },
    {
      "cell_type": "markdown",
      "source": [
        "Вектор нормали можно взять из уравнения плоскости Ax+By+Cx+D=0. Как (A, B, C). см. https://mipt.ru/education/chair/mathematics/upload/ff4/Umnov-AnGeom-i-LinAl-arph0duocc9.pdf Следствие\n",
        "3.3.1."
      ],
      "metadata": {
        "id": "X-oG-rgjmhy-"
      }
    },
    {
      "cell_type": "code",
      "source": [
        "norm = plane_bind[:3]\n",
        "sum([coor**2 for coor in norm])"
      ],
      "metadata": {
        "id": "B27TmesIrQZf",
        "colab": {
          "base_uri": "https://localhost:8080/"
        },
        "outputId": "88cc9261-372e-4625-f2c9-d97c9ae0a970"
      },
      "execution_count": null,
      "outputs": [
        {
          "output_type": "execute_result",
          "data": {
            "text/plain": [
              "0.5843825889666674"
            ]
          },
          "metadata": {},
          "execution_count": 90
        }
      ]
    },
    {
      "cell_type": "markdown",
      "source": [
        "Сделаем нормаль единичной"
      ],
      "metadata": {
        "id": "aTUwCquWnwbw"
      }
    },
    {
      "cell_type": "code",
      "source": [
        "import math\n",
        "a = math.sqrt(1/sum([coor**2 for coor in norm]))\n",
        "norm = [a*coor for coor in norm]\n",
        "sum([coor**2 for coor in norm])"
      ],
      "metadata": {
        "id": "Czpofd8QnS1a",
        "colab": {
          "base_uri": "https://localhost:8080/"
        },
        "outputId": "fa489a7c-0c7d-4829-be6f-f86721b315ee"
      },
      "execution_count": null,
      "outputs": [
        {
          "output_type": "execute_result",
          "data": {
            "text/plain": [
              "1.0"
            ]
          },
          "metadata": {},
          "execution_count": 91
        }
      ]
    },
    {
      "cell_type": "code",
      "source": [
        "norm = np.array(norm)\n",
        "norm"
      ],
      "metadata": {
        "colab": {
          "base_uri": "https://localhost:8080/"
        },
        "id": "TApzPTrvoG4X",
        "outputId": "dcf96038-49ee-47f7-edfa-4f00a0a6aca6"
      },
      "execution_count": null,
      "outputs": [
        {
          "output_type": "execute_result",
          "data": {
            "text/plain": [
              "array([ 0.36570669, -0.62891244,  0.68609603])"
            ]
          },
          "metadata": {},
          "execution_count": 92
        }
      ]
    },
    {
      "cell_type": "markdown",
      "source": [
        "Вектор по которому в нас было большенство связий"
      ],
      "metadata": {
        "id": "U4TajBaApjaV"
      }
    },
    {
      "cell_type": "code",
      "source": [
        "proj_vec"
      ],
      "metadata": {
        "colab": {
          "base_uri": "https://localhost:8080/"
        },
        "id": "t1miwh8yoONg",
        "outputId": "e2795cf4-cb65-4ee3-8483-e82eda8f2014"
      },
      "execution_count": null,
      "outputs": [
        {
          "output_type": "execute_result",
          "data": {
            "text/plain": [
              "array([13.05943869, 33.8977822 , 24.11151191])"
            ]
          },
          "metadata": {},
          "execution_count": 93
        }
      ]
    },
    {
      "cell_type": "markdown",
      "source": [
        "Проверяем, что они ортогональны"
      ],
      "metadata": {
        "id": "PG5vqD3MqFlf"
      }
    },
    {
      "cell_type": "code",
      "source": [
        "np.dot(norm, proj_vec)"
      ],
      "metadata": {
        "colab": {
          "base_uri": "https://localhost:8080/"
        },
        "id": "ToJZ2wpApqzM",
        "outputId": "a5506063-f5b0-4fb3-c5bc-4200026e4d72"
      },
      "execution_count": null,
      "outputs": [
        {
          "output_type": "execute_result",
          "data": {
            "text/plain": [
              "3.552713678800501e-15"
            ]
          },
          "metadata": {},
          "execution_count": 94
        }
      ]
    },
    {
      "cell_type": "markdown",
      "source": [
        "Нормируем на 1."
      ],
      "metadata": {
        "id": "LrO5yxaKqPT7"
      }
    },
    {
      "cell_type": "code",
      "source": [
        "a = math.sqrt(1/sum([coor**2 for coor in proj_vec]))\n",
        "proj_vec = a*proj_vec\n",
        "sum([coor**2 for coor in proj_vec])"
      ],
      "metadata": {
        "colab": {
          "base_uri": "https://localhost:8080/"
        },
        "id": "NBk4m-pZqCbi",
        "outputId": "25662ec3-0a35-4b2a-8c72-db1b1f2255b4"
      },
      "execution_count": null,
      "outputs": [
        {
          "output_type": "execute_result",
          "data": {
            "text/plain": [
              "1.0"
            ]
          },
          "metadata": {},
          "execution_count": 95
        }
      ]
    },
    {
      "cell_type": "code",
      "source": [
        "proj_vec"
      ],
      "metadata": {
        "colab": {
          "base_uri": "https://localhost:8080/"
        },
        "id": "-b30-8sYqrEd",
        "outputId": "4df78af7-1810-47c4-c93b-f174dd295b01"
      },
      "execution_count": null,
      "outputs": [
        {
          "output_type": "execute_result",
          "data": {
            "text/plain": [
              "array([0.29952734, 0.77746929, 0.55301435])"
            ]
          },
          "metadata": {},
          "execution_count": 96
        }
      ]
    },
    {
      "cell_type": "markdown",
      "source": [
        "Чтобы найти третий вектор - можно посчитать векторное произведение см https://mipt.ru/education/chair/mathematics/upload/ff4/Umnov-AnGeom-i-LinAl-arph0duocc9.pdf Определение\n",
        "2.4.2. Найти его сс страницу 67."
      ],
      "metadata": {
        "id": "ElcPG9jDsWkv"
      }
    },
    {
      "cell_type": "code",
      "source": [
        "last_vector = np.cross(norm, proj_vec)"
      ],
      "metadata": {
        "id": "DRmhI-1Qx8cb"
      },
      "execution_count": null,
      "outputs": []
    },
    {
      "cell_type": "markdown",
      "source": [
        " Проверяем ортогональность"
      ],
      "metadata": {
        "id": "k5ioDTM1uB3b"
      }
    },
    {
      "cell_type": "code",
      "source": [
        "np.dot(proj_vec, norm)"
      ],
      "metadata": {
        "colab": {
          "base_uri": "https://localhost:8080/"
        },
        "id": "lmX37SVFt6ws",
        "outputId": "2e55d914-b40e-43ea-ea53-6733a883fae8"
      },
      "execution_count": null,
      "outputs": [
        {
          "output_type": "execute_result",
          "data": {
            "text/plain": [
              "0.0"
            ]
          },
          "metadata": {},
          "execution_count": 98
        }
      ]
    },
    {
      "cell_type": "code",
      "source": [
        "np.dot(proj_vec, last_vector)\n"
      ],
      "metadata": {
        "colab": {
          "base_uri": "https://localhost:8080/"
        },
        "id": "e0CqZ1AcuHyt",
        "outputId": "b67696ec-57d3-4d6c-a821-edcdbb37f1a8"
      },
      "execution_count": null,
      "outputs": [
        {
          "output_type": "execute_result",
          "data": {
            "text/plain": [
              "0.0"
            ]
          },
          "metadata": {},
          "execution_count": 99
        }
      ]
    },
    {
      "cell_type": "code",
      "source": [
        "np.dot(norm, last_vector)"
      ],
      "metadata": {
        "colab": {
          "base_uri": "https://localhost:8080/"
        },
        "id": "o4Xt7vO4uR09",
        "outputId": "e5dc729e-e9d6-44a6-ea81-b40d2aef29da"
      },
      "execution_count": null,
      "outputs": [
        {
          "output_type": "execute_result",
          "data": {
            "text/plain": [
              "5.551115123125783e-17"
            ]
          },
          "metadata": {},
          "execution_count": 100
        }
      ]
    },
    {
      "cell_type": "code",
      "source": [
        "sum([coor**2 for coor in last_vector])"
      ],
      "metadata": {
        "colab": {
          "base_uri": "https://localhost:8080/"
        },
        "id": "YXCRx3H7yIT8",
        "outputId": "f6a6d296-78b3-41df-9cff-0dea05107879"
      },
      "execution_count": null,
      "outputs": [
        {
          "output_type": "execute_result",
          "data": {
            "text/plain": [
              "1.0"
            ]
          },
          "metadata": {},
          "execution_count": 101
        }
      ]
    },
    {
      "cell_type": "markdown",
      "source": [
        "Нормуль)"
      ],
      "metadata": {
        "id": "0yznhvDKycZY"
      }
    },
    {
      "cell_type": "markdown",
      "source": [
        "Итого есть ноавя ортонормированнная система с базисом (proj_vec, last_vector, norm) и центром в точке dot_is"
      ],
      "metadata": {
        "id": "g5Za9LYeyktv"
      }
    },
    {
      "cell_type": "code",
      "source": [
        "dot_is"
      ],
      "metadata": {
        "colab": {
          "base_uri": "https://localhost:8080/"
        },
        "id": "qB3XKbbYyjob",
        "outputId": "1afaaec6-87c0-4b47-f310-87f699f36a3d"
      },
      "execution_count": null,
      "outputs": [
        {
          "output_type": "execute_result",
          "data": {
            "text/plain": [
              "(111.1290062337648, 36.602178489660034, 84.22578331890205)"
            ]
          },
          "metadata": {},
          "execution_count": 102
        }
      ]
    },
    {
      "cell_type": "markdown",
      "source": [
        "Для начала совместим центры"
      ],
      "metadata": {
        "id": "RKUZk2fxznj5"
      }
    },
    {
      "cell_type": "code",
      "source": [
        "Atoms_coord = Atoms_coord_df.copy()\n",
        "Atoms_coord"
      ],
      "metadata": {
        "colab": {
          "base_uri": "https://localhost:8080/",
          "height": 424
        },
        "id": "LrKnii0DyhMM",
        "outputId": "2e90f79b-3578-4abc-a5b5-b8ad1246f31f"
      },
      "execution_count": null,
      "outputs": [
        {
          "output_type": "execute_result",
          "data": {
            "text/plain": [
              "     Chain_name  Chain_num Residue Type    x   y    z\n",
              "0             A          0     ASP    N  106  50   42\n",
              "1             A          0     ASP   CA  106  49   43\n",
              "2             A          0     ASP    C  107  49   44\n",
              "3             A          0     ASP    O  107  49   45\n",
              "4             A          0     ASP   CB  107  47   42\n",
              "...         ...        ...     ...  ...  ...  ..  ...\n",
              "4926          D          1     THR    O  141  31   98\n",
              "4927          D          1     THR   CB  139  29  100\n",
              "4928          D          1     THR  OG1  140  30  101\n",
              "4929          D          1     THR  CG2  140  28  100\n",
              "4930          D          1     THR  OXT  140  29   97\n",
              "\n",
              "[4931 rows x 7 columns]"
            ],
            "text/html": [
              "\n",
              "  <div id=\"df-22075479-2517-4076-a6dc-7f2f8501b88a\">\n",
              "    <div class=\"colab-df-container\">\n",
              "      <div>\n",
              "<style scoped>\n",
              "    .dataframe tbody tr th:only-of-type {\n",
              "        vertical-align: middle;\n",
              "    }\n",
              "\n",
              "    .dataframe tbody tr th {\n",
              "        vertical-align: top;\n",
              "    }\n",
              "\n",
              "    .dataframe thead th {\n",
              "        text-align: right;\n",
              "    }\n",
              "</style>\n",
              "<table border=\"1\" class=\"dataframe\">\n",
              "  <thead>\n",
              "    <tr style=\"text-align: right;\">\n",
              "      <th></th>\n",
              "      <th>Chain_name</th>\n",
              "      <th>Chain_num</th>\n",
              "      <th>Residue</th>\n",
              "      <th>Type</th>\n",
              "      <th>x</th>\n",
              "      <th>y</th>\n",
              "      <th>z</th>\n",
              "    </tr>\n",
              "  </thead>\n",
              "  <tbody>\n",
              "    <tr>\n",
              "      <th>0</th>\n",
              "      <td>A</td>\n",
              "      <td>0</td>\n",
              "      <td>ASP</td>\n",
              "      <td>N</td>\n",
              "      <td>106</td>\n",
              "      <td>50</td>\n",
              "      <td>42</td>\n",
              "    </tr>\n",
              "    <tr>\n",
              "      <th>1</th>\n",
              "      <td>A</td>\n",
              "      <td>0</td>\n",
              "      <td>ASP</td>\n",
              "      <td>CA</td>\n",
              "      <td>106</td>\n",
              "      <td>49</td>\n",
              "      <td>43</td>\n",
              "    </tr>\n",
              "    <tr>\n",
              "      <th>2</th>\n",
              "      <td>A</td>\n",
              "      <td>0</td>\n",
              "      <td>ASP</td>\n",
              "      <td>C</td>\n",
              "      <td>107</td>\n",
              "      <td>49</td>\n",
              "      <td>44</td>\n",
              "    </tr>\n",
              "    <tr>\n",
              "      <th>3</th>\n",
              "      <td>A</td>\n",
              "      <td>0</td>\n",
              "      <td>ASP</td>\n",
              "      <td>O</td>\n",
              "      <td>107</td>\n",
              "      <td>49</td>\n",
              "      <td>45</td>\n",
              "    </tr>\n",
              "    <tr>\n",
              "      <th>4</th>\n",
              "      <td>A</td>\n",
              "      <td>0</td>\n",
              "      <td>ASP</td>\n",
              "      <td>CB</td>\n",
              "      <td>107</td>\n",
              "      <td>47</td>\n",
              "      <td>42</td>\n",
              "    </tr>\n",
              "    <tr>\n",
              "      <th>...</th>\n",
              "      <td>...</td>\n",
              "      <td>...</td>\n",
              "      <td>...</td>\n",
              "      <td>...</td>\n",
              "      <td>...</td>\n",
              "      <td>...</td>\n",
              "      <td>...</td>\n",
              "    </tr>\n",
              "    <tr>\n",
              "      <th>4926</th>\n",
              "      <td>D</td>\n",
              "      <td>1</td>\n",
              "      <td>THR</td>\n",
              "      <td>O</td>\n",
              "      <td>141</td>\n",
              "      <td>31</td>\n",
              "      <td>98</td>\n",
              "    </tr>\n",
              "    <tr>\n",
              "      <th>4927</th>\n",
              "      <td>D</td>\n",
              "      <td>1</td>\n",
              "      <td>THR</td>\n",
              "      <td>CB</td>\n",
              "      <td>139</td>\n",
              "      <td>29</td>\n",
              "      <td>100</td>\n",
              "    </tr>\n",
              "    <tr>\n",
              "      <th>4928</th>\n",
              "      <td>D</td>\n",
              "      <td>1</td>\n",
              "      <td>THR</td>\n",
              "      <td>OG1</td>\n",
              "      <td>140</td>\n",
              "      <td>30</td>\n",
              "      <td>101</td>\n",
              "    </tr>\n",
              "    <tr>\n",
              "      <th>4929</th>\n",
              "      <td>D</td>\n",
              "      <td>1</td>\n",
              "      <td>THR</td>\n",
              "      <td>CG2</td>\n",
              "      <td>140</td>\n",
              "      <td>28</td>\n",
              "      <td>100</td>\n",
              "    </tr>\n",
              "    <tr>\n",
              "      <th>4930</th>\n",
              "      <td>D</td>\n",
              "      <td>1</td>\n",
              "      <td>THR</td>\n",
              "      <td>OXT</td>\n",
              "      <td>140</td>\n",
              "      <td>29</td>\n",
              "      <td>97</td>\n",
              "    </tr>\n",
              "  </tbody>\n",
              "</table>\n",
              "<p>4931 rows × 7 columns</p>\n",
              "</div>\n",
              "      <button class=\"colab-df-convert\" onclick=\"convertToInteractive('df-22075479-2517-4076-a6dc-7f2f8501b88a')\"\n",
              "              title=\"Convert this dataframe to an interactive table.\"\n",
              "              style=\"display:none;\">\n",
              "        \n",
              "  <svg xmlns=\"http://www.w3.org/2000/svg\" height=\"24px\"viewBox=\"0 0 24 24\"\n",
              "       width=\"24px\">\n",
              "    <path d=\"M0 0h24v24H0V0z\" fill=\"none\"/>\n",
              "    <path d=\"M18.56 5.44l.94 2.06.94-2.06 2.06-.94-2.06-.94-.94-2.06-.94 2.06-2.06.94zm-11 1L8.5 8.5l.94-2.06 2.06-.94-2.06-.94L8.5 2.5l-.94 2.06-2.06.94zm10 10l.94 2.06.94-2.06 2.06-.94-2.06-.94-.94-2.06-.94 2.06-2.06.94z\"/><path d=\"M17.41 7.96l-1.37-1.37c-.4-.4-.92-.59-1.43-.59-.52 0-1.04.2-1.43.59L10.3 9.45l-7.72 7.72c-.78.78-.78 2.05 0 2.83L4 21.41c.39.39.9.59 1.41.59.51 0 1.02-.2 1.41-.59l7.78-7.78 2.81-2.81c.8-.78.8-2.07 0-2.86zM5.41 20L4 18.59l7.72-7.72 1.47 1.35L5.41 20z\"/>\n",
              "  </svg>\n",
              "      </button>\n",
              "      \n",
              "  <style>\n",
              "    .colab-df-container {\n",
              "      display:flex;\n",
              "      flex-wrap:wrap;\n",
              "      gap: 12px;\n",
              "    }\n",
              "\n",
              "    .colab-df-convert {\n",
              "      background-color: #E8F0FE;\n",
              "      border: none;\n",
              "      border-radius: 50%;\n",
              "      cursor: pointer;\n",
              "      display: none;\n",
              "      fill: #1967D2;\n",
              "      height: 32px;\n",
              "      padding: 0 0 0 0;\n",
              "      width: 32px;\n",
              "    }\n",
              "\n",
              "    .colab-df-convert:hover {\n",
              "      background-color: #E2EBFA;\n",
              "      box-shadow: 0px 1px 2px rgba(60, 64, 67, 0.3), 0px 1px 3px 1px rgba(60, 64, 67, 0.15);\n",
              "      fill: #174EA6;\n",
              "    }\n",
              "\n",
              "    [theme=dark] .colab-df-convert {\n",
              "      background-color: #3B4455;\n",
              "      fill: #D2E3FC;\n",
              "    }\n",
              "\n",
              "    [theme=dark] .colab-df-convert:hover {\n",
              "      background-color: #434B5C;\n",
              "      box-shadow: 0px 1px 3px 1px rgba(0, 0, 0, 0.15);\n",
              "      filter: drop-shadow(0px 1px 2px rgba(0, 0, 0, 0.3));\n",
              "      fill: #FFFFFF;\n",
              "    }\n",
              "  </style>\n",
              "\n",
              "      <script>\n",
              "        const buttonEl =\n",
              "          document.querySelector('#df-22075479-2517-4076-a6dc-7f2f8501b88a button.colab-df-convert');\n",
              "        buttonEl.style.display =\n",
              "          google.colab.kernel.accessAllowed ? 'block' : 'none';\n",
              "\n",
              "        async function convertToInteractive(key) {\n",
              "          const element = document.querySelector('#df-22075479-2517-4076-a6dc-7f2f8501b88a');\n",
              "          const dataTable =\n",
              "            await google.colab.kernel.invokeFunction('convertToInteractive',\n",
              "                                                     [key], {});\n",
              "          if (!dataTable) return;\n",
              "\n",
              "          const docLinkHtml = 'Like what you see? Visit the ' +\n",
              "            '<a target=\"_blank\" href=https://colab.research.google.com/notebooks/data_table.ipynb>data table notebook</a>'\n",
              "            + ' to learn more about interactive tables.';\n",
              "          element.innerHTML = '';\n",
              "          dataTable['output_type'] = 'display_data';\n",
              "          await google.colab.output.renderOutput(dataTable, element);\n",
              "          const docLink = document.createElement('div');\n",
              "          docLink.innerHTML = docLinkHtml;\n",
              "          element.appendChild(docLink);\n",
              "        }\n",
              "      </script>\n",
              "    </div>\n",
              "  </div>\n",
              "  "
            ]
          },
          "metadata": {},
          "execution_count": 103
        }
      ]
    },
    {
      "cell_type": "code",
      "source": [
        "Atoms_coord['x'] = Atoms_coord['x']-dot_is[0]\n",
        "Atoms_coord['y'] = Atoms_coord['y']-dot_is[1]\n",
        "Atoms_coord['z'] = Atoms_coord['z']-dot_is[2]\n",
        "Atoms_coord"
      ],
      "metadata": {
        "colab": {
          "base_uri": "https://localhost:8080/",
          "height": 424
        },
        "id": "ZrBlvoVByWvs",
        "outputId": "47a78365-37ff-49d7-fb14-5a5db58f9619"
      },
      "execution_count": null,
      "outputs": [
        {
          "output_type": "execute_result",
          "data": {
            "text/plain": [
              "     Chain_name  Chain_num Residue Type          x          y          z\n",
              "0             A          0     ASP    N  -5.129006  13.397822 -42.225783\n",
              "1             A          0     ASP   CA  -5.129006  12.397822 -41.225783\n",
              "2             A          0     ASP    C  -4.129006  12.397822 -40.225783\n",
              "3             A          0     ASP    O  -4.129006  12.397822 -39.225783\n",
              "4             A          0     ASP   CB  -4.129006  10.397822 -42.225783\n",
              "...         ...        ...     ...  ...        ...        ...        ...\n",
              "4926          D          1     THR    O  29.870994  -5.602178  13.774217\n",
              "4927          D          1     THR   CB  27.870994  -7.602178  15.774217\n",
              "4928          D          1     THR  OG1  28.870994  -6.602178  16.774217\n",
              "4929          D          1     THR  CG2  28.870994  -8.602178  15.774217\n",
              "4930          D          1     THR  OXT  28.870994  -7.602178  12.774217\n",
              "\n",
              "[4931 rows x 7 columns]"
            ],
            "text/html": [
              "\n",
              "  <div id=\"df-f2acf78e-bf06-43c6-a0c3-ff51c9ac916e\">\n",
              "    <div class=\"colab-df-container\">\n",
              "      <div>\n",
              "<style scoped>\n",
              "    .dataframe tbody tr th:only-of-type {\n",
              "        vertical-align: middle;\n",
              "    }\n",
              "\n",
              "    .dataframe tbody tr th {\n",
              "        vertical-align: top;\n",
              "    }\n",
              "\n",
              "    .dataframe thead th {\n",
              "        text-align: right;\n",
              "    }\n",
              "</style>\n",
              "<table border=\"1\" class=\"dataframe\">\n",
              "  <thead>\n",
              "    <tr style=\"text-align: right;\">\n",
              "      <th></th>\n",
              "      <th>Chain_name</th>\n",
              "      <th>Chain_num</th>\n",
              "      <th>Residue</th>\n",
              "      <th>Type</th>\n",
              "      <th>x</th>\n",
              "      <th>y</th>\n",
              "      <th>z</th>\n",
              "    </tr>\n",
              "  </thead>\n",
              "  <tbody>\n",
              "    <tr>\n",
              "      <th>0</th>\n",
              "      <td>A</td>\n",
              "      <td>0</td>\n",
              "      <td>ASP</td>\n",
              "      <td>N</td>\n",
              "      <td>-5.129006</td>\n",
              "      <td>13.397822</td>\n",
              "      <td>-42.225783</td>\n",
              "    </tr>\n",
              "    <tr>\n",
              "      <th>1</th>\n",
              "      <td>A</td>\n",
              "      <td>0</td>\n",
              "      <td>ASP</td>\n",
              "      <td>CA</td>\n",
              "      <td>-5.129006</td>\n",
              "      <td>12.397822</td>\n",
              "      <td>-41.225783</td>\n",
              "    </tr>\n",
              "    <tr>\n",
              "      <th>2</th>\n",
              "      <td>A</td>\n",
              "      <td>0</td>\n",
              "      <td>ASP</td>\n",
              "      <td>C</td>\n",
              "      <td>-4.129006</td>\n",
              "      <td>12.397822</td>\n",
              "      <td>-40.225783</td>\n",
              "    </tr>\n",
              "    <tr>\n",
              "      <th>3</th>\n",
              "      <td>A</td>\n",
              "      <td>0</td>\n",
              "      <td>ASP</td>\n",
              "      <td>O</td>\n",
              "      <td>-4.129006</td>\n",
              "      <td>12.397822</td>\n",
              "      <td>-39.225783</td>\n",
              "    </tr>\n",
              "    <tr>\n",
              "      <th>4</th>\n",
              "      <td>A</td>\n",
              "      <td>0</td>\n",
              "      <td>ASP</td>\n",
              "      <td>CB</td>\n",
              "      <td>-4.129006</td>\n",
              "      <td>10.397822</td>\n",
              "      <td>-42.225783</td>\n",
              "    </tr>\n",
              "    <tr>\n",
              "      <th>...</th>\n",
              "      <td>...</td>\n",
              "      <td>...</td>\n",
              "      <td>...</td>\n",
              "      <td>...</td>\n",
              "      <td>...</td>\n",
              "      <td>...</td>\n",
              "      <td>...</td>\n",
              "    </tr>\n",
              "    <tr>\n",
              "      <th>4926</th>\n",
              "      <td>D</td>\n",
              "      <td>1</td>\n",
              "      <td>THR</td>\n",
              "      <td>O</td>\n",
              "      <td>29.870994</td>\n",
              "      <td>-5.602178</td>\n",
              "      <td>13.774217</td>\n",
              "    </tr>\n",
              "    <tr>\n",
              "      <th>4927</th>\n",
              "      <td>D</td>\n",
              "      <td>1</td>\n",
              "      <td>THR</td>\n",
              "      <td>CB</td>\n",
              "      <td>27.870994</td>\n",
              "      <td>-7.602178</td>\n",
              "      <td>15.774217</td>\n",
              "    </tr>\n",
              "    <tr>\n",
              "      <th>4928</th>\n",
              "      <td>D</td>\n",
              "      <td>1</td>\n",
              "      <td>THR</td>\n",
              "      <td>OG1</td>\n",
              "      <td>28.870994</td>\n",
              "      <td>-6.602178</td>\n",
              "      <td>16.774217</td>\n",
              "    </tr>\n",
              "    <tr>\n",
              "      <th>4929</th>\n",
              "      <td>D</td>\n",
              "      <td>1</td>\n",
              "      <td>THR</td>\n",
              "      <td>CG2</td>\n",
              "      <td>28.870994</td>\n",
              "      <td>-8.602178</td>\n",
              "      <td>15.774217</td>\n",
              "    </tr>\n",
              "    <tr>\n",
              "      <th>4930</th>\n",
              "      <td>D</td>\n",
              "      <td>1</td>\n",
              "      <td>THR</td>\n",
              "      <td>OXT</td>\n",
              "      <td>28.870994</td>\n",
              "      <td>-7.602178</td>\n",
              "      <td>12.774217</td>\n",
              "    </tr>\n",
              "  </tbody>\n",
              "</table>\n",
              "<p>4931 rows × 7 columns</p>\n",
              "</div>\n",
              "      <button class=\"colab-df-convert\" onclick=\"convertToInteractive('df-f2acf78e-bf06-43c6-a0c3-ff51c9ac916e')\"\n",
              "              title=\"Convert this dataframe to an interactive table.\"\n",
              "              style=\"display:none;\">\n",
              "        \n",
              "  <svg xmlns=\"http://www.w3.org/2000/svg\" height=\"24px\"viewBox=\"0 0 24 24\"\n",
              "       width=\"24px\">\n",
              "    <path d=\"M0 0h24v24H0V0z\" fill=\"none\"/>\n",
              "    <path d=\"M18.56 5.44l.94 2.06.94-2.06 2.06-.94-2.06-.94-.94-2.06-.94 2.06-2.06.94zm-11 1L8.5 8.5l.94-2.06 2.06-.94-2.06-.94L8.5 2.5l-.94 2.06-2.06.94zm10 10l.94 2.06.94-2.06 2.06-.94-2.06-.94-.94-2.06-.94 2.06-2.06.94z\"/><path d=\"M17.41 7.96l-1.37-1.37c-.4-.4-.92-.59-1.43-.59-.52 0-1.04.2-1.43.59L10.3 9.45l-7.72 7.72c-.78.78-.78 2.05 0 2.83L4 21.41c.39.39.9.59 1.41.59.51 0 1.02-.2 1.41-.59l7.78-7.78 2.81-2.81c.8-.78.8-2.07 0-2.86zM5.41 20L4 18.59l7.72-7.72 1.47 1.35L5.41 20z\"/>\n",
              "  </svg>\n",
              "      </button>\n",
              "      \n",
              "  <style>\n",
              "    .colab-df-container {\n",
              "      display:flex;\n",
              "      flex-wrap:wrap;\n",
              "      gap: 12px;\n",
              "    }\n",
              "\n",
              "    .colab-df-convert {\n",
              "      background-color: #E8F0FE;\n",
              "      border: none;\n",
              "      border-radius: 50%;\n",
              "      cursor: pointer;\n",
              "      display: none;\n",
              "      fill: #1967D2;\n",
              "      height: 32px;\n",
              "      padding: 0 0 0 0;\n",
              "      width: 32px;\n",
              "    }\n",
              "\n",
              "    .colab-df-convert:hover {\n",
              "      background-color: #E2EBFA;\n",
              "      box-shadow: 0px 1px 2px rgba(60, 64, 67, 0.3), 0px 1px 3px 1px rgba(60, 64, 67, 0.15);\n",
              "      fill: #174EA6;\n",
              "    }\n",
              "\n",
              "    [theme=dark] .colab-df-convert {\n",
              "      background-color: #3B4455;\n",
              "      fill: #D2E3FC;\n",
              "    }\n",
              "\n",
              "    [theme=dark] .colab-df-convert:hover {\n",
              "      background-color: #434B5C;\n",
              "      box-shadow: 0px 1px 3px 1px rgba(0, 0, 0, 0.15);\n",
              "      filter: drop-shadow(0px 1px 2px rgba(0, 0, 0, 0.3));\n",
              "      fill: #FFFFFF;\n",
              "    }\n",
              "  </style>\n",
              "\n",
              "      <script>\n",
              "        const buttonEl =\n",
              "          document.querySelector('#df-f2acf78e-bf06-43c6-a0c3-ff51c9ac916e button.colab-df-convert');\n",
              "        buttonEl.style.display =\n",
              "          google.colab.kernel.accessAllowed ? 'block' : 'none';\n",
              "\n",
              "        async function convertToInteractive(key) {\n",
              "          const element = document.querySelector('#df-f2acf78e-bf06-43c6-a0c3-ff51c9ac916e');\n",
              "          const dataTable =\n",
              "            await google.colab.kernel.invokeFunction('convertToInteractive',\n",
              "                                                     [key], {});\n",
              "          if (!dataTable) return;\n",
              "\n",
              "          const docLinkHtml = 'Like what you see? Visit the ' +\n",
              "            '<a target=\"_blank\" href=https://colab.research.google.com/notebooks/data_table.ipynb>data table notebook</a>'\n",
              "            + ' to learn more about interactive tables.';\n",
              "          element.innerHTML = '';\n",
              "          dataTable['output_type'] = 'display_data';\n",
              "          await google.colab.output.renderOutput(dataTable, element);\n",
              "          const docLink = document.createElement('div');\n",
              "          docLink.innerHTML = docLinkHtml;\n",
              "          element.appendChild(docLink);\n",
              "        }\n",
              "      </script>\n",
              "    </div>\n",
              "  </div>\n",
              "  "
            ]
          },
          "metadata": {},
          "execution_count": 104
        }
      ]
    },
    {
      "cell_type": "code",
      "source": [
        "fig = plt.figure(figsize=(16, 10))\n",
        "ax = plt.axes(projection=\"3d\")\n",
        "#ax.plot3D([center_1[0],center_2[0]], [center_1[1],center_2[1]], [center_1[2],center_2[2]], 'red', linewidth= 5)\n",
        "ax.scatter3D(Atoms_coord['x'], Atoms_coord['y'], Atoms_coord['z'], c = Atoms_coord['Chain_num'])\n",
        "\n",
        "ax.view_init(5, 0)\n",
        "plt.show()"
      ],
      "metadata": {
        "colab": {
          "base_uri": "https://localhost:8080/",
          "height": 575
        },
        "id": "Hx8-3fjK0Fhh",
        "outputId": "595f73e1-7e05-4600-e906-bf3efe5c2979"
      },
      "execution_count": null,
      "outputs": [
        {
          "output_type": "display_data",
          "data": {
            "text/plain": [
              "<Figure size 1152x720 with 1 Axes>"
            ],
            "image/png": "[encoded data removed]"
          },
          "metadata": {
            "needs_background": "light"
          }
        }
      ]
    },
    {
      "cell_type": "markdown",
      "source": [
        "Матрица откуда переходим"
      ],
      "metadata": {
        "id": "uL4T1nqH2rRv"
      }
    },
    {
      "cell_type": "code",
      "source": [
        "print(proj_vec, last_vector, norm)"
      ],
      "metadata": {
        "colab": {
          "base_uri": "https://localhost:8080/"
        },
        "id": "WakwnHom-2c-",
        "outputId": "5ade40fb-33cf-4740-b244-24cdd153837a"
      },
      "execution_count": null,
      "outputs": [
        {
          "output_type": "stream",
          "name": "stdout",
          "text": [
            "[0.29952734 0.77746929 0.55301435] [-0.8812162   0.00326347  0.47270219] [ 0.36570669 -0.62891244  0.68609603]\n"
          ]
        }
      ]
    },
    {
      "cell_type": "markdown",
      "source": [
        "Вектора по столбцам"
      ],
      "metadata": {
        "id": "5YfCaIzg-82q"
      }
    },
    {
      "cell_type": "code",
      "source": [
        "from_bazis = np.concatenate((np.expand_dims(proj_vec, axis=1),\n",
        "                             np.expand_dims(last_vector, axis=1),\n",
        "                             np.expand_dims(norm, axis=1)\n",
        "                            ), axis=1)"
      ],
      "metadata": {
        "id": "KugaVzjX0KzU"
      },
      "execution_count": null,
      "outputs": []
    },
    {
      "cell_type": "code",
      "source": [
        "from_bazis"
      ],
      "metadata": {
        "colab": {
          "base_uri": "https://localhost:8080/"
        },
        "id": "b99Uz69H-XUW",
        "outputId": "1d8fb630-78db-49ef-8139-5f7db233ac0d"
      },
      "execution_count": null,
      "outputs": [
        {
          "output_type": "execute_result",
          "data": {
            "text/plain": [
              "array([[ 0.29952734, -0.8812162 ,  0.36570669],\n",
              "       [ 0.77746929,  0.00326347, -0.62891244],\n",
              "       [ 0.55301435,  0.47270219,  0.68609603]])"
            ]
          },
          "metadata": {},
          "execution_count": 108
        }
      ]
    },
    {
      "cell_type": "code",
      "source": [
        "to_bazis = np.array([[1, 0, 0],[0, 1, 0],[0, 0, 1]])"
      ],
      "metadata": {
        "id": "7hBkxRIv91TB"
      },
      "execution_count": null,
      "outputs": []
    },
    {
      "cell_type": "markdown",
      "source": [
        "См задачу 7.5.2."
      ],
      "metadata": {
        "id": "bE-ogn-B31tS"
      }
    },
    {
      "cell_type": "code",
      "source": [
        "s = np.matmul(np.linalg.inv(from_bazis), to_bazis)\n",
        "s"
      ],
      "metadata": {
        "colab": {
          "base_uri": "https://localhost:8080/"
        },
        "id": "lRN--eCF4IIO",
        "outputId": "90145d6e-866d-441e-ebb4-8df207248f2e"
      },
      "execution_count": null,
      "outputs": [
        {
          "output_type": "execute_result",
          "data": {
            "text/plain": [
              "array([[ 0.29952734,  0.77746929,  0.55301435],\n",
              "       [-0.8812162 ,  0.00326347,  0.47270219],\n",
              "       [ 0.36570669, -0.62891244,  0.68609603]])"
            ]
          },
          "metadata": {},
          "execution_count": 110
        }
      ]
    },
    {
      "cell_type": "code",
      "source": [
        "x_new = []\n",
        "y_new = []\n",
        "z_new = []\n",
        "for i, item in Atoms_coord.iterrows():\n",
        "    vec = np.array([[item['x']], [item['y']], [item['z']]])\n",
        "    new_vec = np.matmul(s, vec)\n",
        "    x_new.append(new_vec[0][0])\n",
        "    y_new.append(new_vec[1][0])\n",
        "    z_new.append(new_vec[2][0])"
      ],
      "metadata": {
        "id": "J2IVTUYu4PAq"
      },
      "execution_count": null,
      "outputs": []
    },
    {
      "cell_type": "code",
      "source": [
        "Atoms_coord['x_new'] = x_new\n",
        "Atoms_coord['y_new'] = y_new\n",
        "Atoms_coord['z_new'] = z_new"
      ],
      "metadata": {
        "id": "muEU_AW85HA6"
      },
      "execution_count": null,
      "outputs": []
    },
    {
      "cell_type": "code",
      "source": [
        "Atoms_coord"
      ],
      "metadata": {
        "colab": {
          "base_uri": "https://localhost:8080/",
          "height": 424
        },
        "id": "NteZPswn8ZC_",
        "outputId": "256686b4-6c14-4131-d63c-9b2cbd7d22f8"
      },
      "execution_count": null,
      "outputs": [
        {
          "output_type": "execute_result",
          "data": {
            "text/plain": [
              "     Chain_name  Chain_num Residue Type          x          y          z  \\\n",
              "0             A          0     ASP    N  -5.129006  13.397822 -42.225783   \n",
              "1             A          0     ASP   CA  -5.129006  12.397822 -41.225783   \n",
              "2             A          0     ASP    C  -4.129006  12.397822 -40.225783   \n",
              "3             A          0     ASP    O  -4.129006  12.397822 -39.225783   \n",
              "4             A          0     ASP   CB  -4.129006  10.397822 -42.225783   \n",
              "...         ...        ...     ...  ...        ...        ...        ...   \n",
              "4926          D          1     THR    O  29.870994  -5.602178  13.774217   \n",
              "4927          D          1     THR   CB  27.870994  -7.602178  15.774217   \n",
              "4928          D          1     THR  OG1  28.870994  -6.602178  16.774217   \n",
              "4929          D          1     THR  CG2  28.870994  -8.602178  15.774217   \n",
              "4930          D          1     THR  OXT  28.870994  -7.602178  12.774217   \n",
              "\n",
              "          x_new      y_new      z_new  \n",
              "0    -14.471347 -15.396733 -39.272711  \n",
              "1    -14.695802 -14.927295 -37.957702  \n",
              "2    -13.843260 -15.335809 -36.905900  \n",
              "3    -13.290246 -14.863106 -36.219804  \n",
              "4    -16.504228 -16.287740 -37.020267  \n",
              "...         ...        ...        ...  \n",
              "4926  12.208997 -19.829984  23.897737  \n",
              "4927  11.161033 -17.128674  25.796341  \n",
              "4928  12.791044 -17.533925  26.219231  \n",
              "4929  10.683091 -18.013154  26.790960  \n",
              "4930   9.801517 -19.427997  24.103759  \n",
              "\n",
              "[4931 rows x 10 columns]"
            ],
            "text/html": [
              "\n",
              "  <div id=\"df-9f06df44-966e-4956-9016-3e217b1e2767\">\n",
              "    <div class=\"colab-df-container\">\n",
              "      <div>\n",
              "<style scoped>\n",
              "    .dataframe tbody tr th:only-of-type {\n",
              "        vertical-align: middle;\n",
              "    }\n",
              "\n",
              "    .dataframe tbody tr th {\n",
              "        vertical-align: top;\n",
              "    }\n",
              "\n",
              "    .dataframe thead th {\n",
              "        text-align: right;\n",
              "    }\n",
              "</style>\n",
              "<table border=\"1\" class=\"dataframe\">\n",
              "  <thead>\n",
              "    <tr style=\"text-align: right;\">\n",
              "      <th></th>\n",
              "      <th>Chain_name</th>\n",
              "      <th>Chain_num</th>\n",
              "      <th>Residue</th>\n",
              "      <th>Type</th>\n",
              "      <th>x</th>\n",
              "      <th>y</th>\n",
              "      <th>z</th>\n",
              "      <th>x_new</th>\n",
              "      <th>y_new</th>\n",
              "      <th>z_new</th>\n",
              "    </tr>\n",
              "  </thead>\n",
              "  <tbody>\n",
              "    <tr>\n",
              "      <th>0</th>\n",
              "      <td>A</td>\n",
              "      <td>0</td>\n",
              "      <td>ASP</td>\n",
              "      <td>N</td>\n",
              "      <td>-5.129006</td>\n",
              "      <td>13.397822</td>\n",
              "      <td>-42.225783</td>\n",
              "      <td>-14.471347</td>\n",
              "      <td>-15.396733</td>\n",
              "      <td>-39.272711</td>\n",
              "    </tr>\n",
              "    <tr>\n",
              "      <th>1</th>\n",
              "      <td>A</td>\n",
              "      <td>0</td>\n",
              "      <td>ASP</td>\n",
              "      <td>CA</td>\n",
              "      <td>-5.129006</td>\n",
              "      <td>12.397822</td>\n",
              "      <td>-41.225783</td>\n",
              "      <td>-14.695802</td>\n",
              "      <td>-14.927295</td>\n",
              "      <td>-37.957702</td>\n",
              "    </tr>\n",
              "    <tr>\n",
              "      <th>2</th>\n",
              "      <td>A</td>\n",
              "      <td>0</td>\n",
              "      <td>ASP</td>\n",
              "      <td>C</td>\n",
              "      <td>-4.129006</td>\n",
              "      <td>12.397822</td>\n",
              "      <td>-40.225783</td>\n",
              "      <td>-13.843260</td>\n",
              "      <td>-15.335809</td>\n",
              "      <td>-36.905900</td>\n",
              "    </tr>\n",
              "    <tr>\n",
              "      <th>3</th>\n",
              "      <td>A</td>\n",
              "      <td>0</td>\n",
              "      <td>ASP</td>\n",
              "      <td>O</td>\n",
              "      <td>-4.129006</td>\n",
              "      <td>12.397822</td>\n",
              "      <td>-39.225783</td>\n",
              "      <td>-13.290246</td>\n",
              "      <td>-14.863106</td>\n",
              "      <td>-36.219804</td>\n",
              "    </tr>\n",
              "    <tr>\n",
              "      <th>4</th>\n",
              "      <td>A</td>\n",
              "      <td>0</td>\n",
              "      <td>ASP</td>\n",
              "      <td>CB</td>\n",
              "      <td>-4.129006</td>\n",
              "      <td>10.397822</td>\n",
              "      <td>-42.225783</td>\n",
              "      <td>-16.504228</td>\n",
              "      <td>-16.287740</td>\n",
              "      <td>-37.020267</td>\n",
              "    </tr>\n",
              "    <tr>\n",
              "      <th>...</th>\n",
              "      <td>...</td>\n",
              "      <td>...</td>\n",
              "      <td>...</td>\n",
              "      <td>...</td>\n",
              "      <td>...</td>\n",
              "      <td>...</td>\n",
              "      <td>...</td>\n",
              "      <td>...</td>\n",
              "      <td>...</td>\n",
              "      <td>...</td>\n",
              "    </tr>\n",
              "    <tr>\n",
              "      <th>4926</th>\n",
              "      <td>D</td>\n",
              "      <td>1</td>\n",
              "      <td>THR</td>\n",
              "      <td>O</td>\n",
              "      <td>29.870994</td>\n",
              "      <td>-5.602178</td>\n",
              "      <td>13.774217</td>\n",
              "      <td>12.208997</td>\n",
              "      <td>-19.829984</td>\n",
              "      <td>23.897737</td>\n",
              "    </tr>\n",
              "    <tr>\n",
              "      <th>4927</th>\n",
              "      <td>D</td>\n",
              "      <td>1</td>\n",
              "      <td>THR</td>\n",
              "      <td>CB</td>\n",
              "      <td>27.870994</td>\n",
              "      <td>-7.602178</td>\n",
              "      <td>15.774217</td>\n",
              "      <td>11.161033</td>\n",
              "      <td>-17.128674</td>\n",
              "      <td>25.796341</td>\n",
              "    </tr>\n",
              "    <tr>\n",
              "      <th>4928</th>\n",
              "      <td>D</td>\n",
              "      <td>1</td>\n",
              "      <td>THR</td>\n",
              "      <td>OG1</td>\n",
              "      <td>28.870994</td>\n",
              "      <td>-6.602178</td>\n",
              "      <td>16.774217</td>\n",
              "      <td>12.791044</td>\n",
              "      <td>-17.533925</td>\n",
              "      <td>26.219231</td>\n",
              "    </tr>\n",
              "    <tr>\n",
              "      <th>4929</th>\n",
              "      <td>D</td>\n",
              "      <td>1</td>\n",
              "      <td>THR</td>\n",
              "      <td>CG2</td>\n",
              "      <td>28.870994</td>\n",
              "      <td>-8.602178</td>\n",
              "      <td>15.774217</td>\n",
              "      <td>10.683091</td>\n",
              "      <td>-18.013154</td>\n",
              "      <td>26.790960</td>\n",
              "    </tr>\n",
              "    <tr>\n",
              "      <th>4930</th>\n",
              "      <td>D</td>\n",
              "      <td>1</td>\n",
              "      <td>THR</td>\n",
              "      <td>OXT</td>\n",
              "      <td>28.870994</td>\n",
              "      <td>-7.602178</td>\n",
              "      <td>12.774217</td>\n",
              "      <td>9.801517</td>\n",
              "      <td>-19.427997</td>\n",
              "      <td>24.103759</td>\n",
              "    </tr>\n",
              "  </tbody>\n",
              "</table>\n",
              "<p>4931 rows × 10 columns</p>\n",
              "</div>\n",
              "      <button class=\"colab-df-convert\" onclick=\"convertToInteractive('df-9f06df44-966e-4956-9016-3e217b1e2767')\"\n",
              "              title=\"Convert this dataframe to an interactive table.\"\n",
              "              style=\"display:none;\">\n",
              "        \n",
              "  <svg xmlns=\"http://www.w3.org/2000/svg\" height=\"24px\"viewBox=\"0 0 24 24\"\n",
              "       width=\"24px\">\n",
              "    <path d=\"M0 0h24v24H0V0z\" fill=\"none\"/>\n",
              "    <path d=\"M18.56 5.44l.94 2.06.94-2.06 2.06-.94-2.06-.94-.94-2.06-.94 2.06-2.06.94zm-11 1L8.5 8.5l.94-2.06 2.06-.94-2.06-.94L8.5 2.5l-.94 2.06-2.06.94zm10 10l.94 2.06.94-2.06 2.06-.94-2.06-.94-.94-2.06-.94 2.06-2.06.94z\"/><path d=\"M17.41 7.96l-1.37-1.37c-.4-.4-.92-.59-1.43-.59-.52 0-1.04.2-1.43.59L10.3 9.45l-7.72 7.72c-.78.78-.78 2.05 0 2.83L4 21.41c.39.39.9.59 1.41.59.51 0 1.02-.2 1.41-.59l7.78-7.78 2.81-2.81c.8-.78.8-2.07 0-2.86zM5.41 20L4 18.59l7.72-7.72 1.47 1.35L5.41 20z\"/>\n",
              "  </svg>\n",
              "      </button>\n",
              "      \n",
              "  <style>\n",
              "    .colab-df-container {\n",
              "      display:flex;\n",
              "      flex-wrap:wrap;\n",
              "      gap: 12px;\n",
              "    }\n",
              "\n",
              "    .colab-df-convert {\n",
              "      background-color: #E8F0FE;\n",
              "      border: none;\n",
              "      border-radius: 50%;\n",
              "      cursor: pointer;\n",
              "      display: none;\n",
              "      fill: #1967D2;\n",
              "      height: 32px;\n",
              "      padding: 0 0 0 0;\n",
              "      width: 32px;\n",
              "    }\n",
              "\n",
              "    .colab-df-convert:hover {\n",
              "      background-color: #E2EBFA;\n",
              "      box-shadow: 0px 1px 2px rgba(60, 64, 67, 0.3), 0px 1px 3px 1px rgba(60, 64, 67, 0.15);\n",
              "      fill: #174EA6;\n",
              "    }\n",
              "\n",
              "    [theme=dark] .colab-df-convert {\n",
              "      background-color: #3B4455;\n",
              "      fill: #D2E3FC;\n",
              "    }\n",
              "\n",
              "    [theme=dark] .colab-df-convert:hover {\n",
              "      background-color: #434B5C;\n",
              "      box-shadow: 0px 1px 3px 1px rgba(0, 0, 0, 0.15);\n",
              "      filter: drop-shadow(0px 1px 2px rgba(0, 0, 0, 0.3));\n",
              "      fill: #FFFFFF;\n",
              "    }\n",
              "  </style>\n",
              "\n",
              "      <script>\n",
              "        const buttonEl =\n",
              "          document.querySelector('#df-9f06df44-966e-4956-9016-3e217b1e2767 button.colab-df-convert');\n",
              "        buttonEl.style.display =\n",
              "          google.colab.kernel.accessAllowed ? 'block' : 'none';\n",
              "\n",
              "        async function convertToInteractive(key) {\n",
              "          const element = document.querySelector('#df-9f06df44-966e-4956-9016-3e217b1e2767');\n",
              "          const dataTable =\n",
              "            await google.colab.kernel.invokeFunction('convertToInteractive',\n",
              "                                                     [key], {});\n",
              "          if (!dataTable) return;\n",
              "\n",
              "          const docLinkHtml = 'Like what you see? Visit the ' +\n",
              "            '<a target=\"_blank\" href=https://colab.research.google.com/notebooks/data_table.ipynb>data table notebook</a>'\n",
              "            + ' to learn more about interactive tables.';\n",
              "          element.innerHTML = '';\n",
              "          dataTable['output_type'] = 'display_data';\n",
              "          await google.colab.output.renderOutput(dataTable, element);\n",
              "          const docLink = document.createElement('div');\n",
              "          docLink.innerHTML = docLinkHtml;\n",
              "          element.appendChild(docLink);\n",
              "        }\n",
              "      </script>\n",
              "    </div>\n",
              "  </div>\n",
              "  "
            ]
          },
          "metadata": {},
          "execution_count": 113
        }
      ]
    },
    {
      "cell_type": "code",
      "source": [
        "from sklearn.linear_model import LogisticRegression\n",
        "\n",
        "logreg_clf = LogisticRegression()\n",
        "logreg_clf.fit(Atoms_coord[['x_new', 'y_new', 'z_new']].values, Atoms_coord_df['Chain_num'].astype('int'))\n",
        "\n",
        "# plane_bind - список коэффициентов [A,B,C,D] в уравнении разделяющей плоскости вида A*x+B*y+C*z+D=0, то есть\n",
        "plane_bind = list(logreg_clf.coef_[0])\n",
        "plane_bind.append(logreg_clf.intercept_[0])\n",
        "print(plane_bind)"
      ],
      "metadata": {
        "colab": {
          "base_uri": "https://localhost:8080/"
        },
        "id": "mzSEurCI8nqF",
        "outputId": "87ad622b-6e2e-49cd-b729-c83b06db1bd2"
      },
      "execution_count": null,
      "outputs": [
        {
          "output_type": "stream",
          "name": "stdout",
          "text": [
            "[-2.3074185768957473e-06, -2.1657930806938238e-07, 0.7644535614412623, -1.8823884677493232e-05]\n"
          ]
        }
      ]
    },
    {
      "cell_type": "code",
      "source": [
        "high_v = [[0, 0, -10], [0, 0, 10]]\n",
        "length_v = [[-25, 0, 0], [25, 0, 0]]\n",
        "width_v = [[0, -25, 0], [0, 25, 0]]"
      ],
      "metadata": {
        "id": "y6HPy4kk9RBo"
      },
      "execution_count": null,
      "outputs": []
    },
    {
      "cell_type": "code",
      "source": [
        "high_gr = 10\n",
        "length_gr = 30\n",
        "width_gr = 25\n",
        "\n"
      ],
      "metadata": {
        "id": "nLBQb0didoZD"
      },
      "execution_count": null,
      "outputs": []
    },
    {
      "cell_type": "code",
      "source": [
        "from mpl_toolkits.mplot3d import Axes3D\n",
        "def plot_linear_cube(x, y, z, dx, dy, dz, color='red'):\n",
        "    xx = [x, x, x+dx, x+dx, x]\n",
        "    yy = [y, y+dy, y+dy, y, y]\n",
        "    kwargs = {'alpha': 1, 'color': color}\n",
        "    ax.plot3D(xx, yy, [z]*5, **kwargs)\n",
        "    ax.plot3D(xx, yy, [z+dz]*5, **kwargs)\n",
        "    ax.plot3D([x, x], [y, y], [z, z+dz], **kwargs)\n",
        "    ax.plot3D([x, x], [y+dy, y+dy], [z, z+dz], **kwargs)\n",
        "    ax.plot3D([x+dx, x+dx], [y+dy, y+dy], [z, z+dz], **kwargs)\n",
        "    ax.plot3D([x+dx, x+dx], [y, y], [z, z+dz], **kwargs)\n"
      ],
      "metadata": {
        "id": "3j0BCH5359c4"
      },
      "execution_count": null,
      "outputs": []
    },
    {
      "cell_type": "code",
      "source": [
        "z = lambda x,y: (-plane_bind[3]-plane_bind[0]*x-plane_bind[1]*y) / plane_bind[2]\n",
        "tmp_y = np.linspace(-20, 20, 100)\n",
        "tmp_x = np.linspace(-40, 40, 100)\n",
        "\n",
        "fig = plt.figure(figsize=(16, 10))\n",
        "ax = plt.axes(projection=\"3d\")\n",
        "x,y = np.meshgrid(tmp_x,tmp_y)\n",
        "\n",
        "\n",
        "#ax.plot_surface(x, y, z(x,y))\n",
        "\n",
        "\n",
        "ax.plot3D([high_v[0][0],high_v[1][0]], [high_v[0][1],high_v[1][1]], [high_v[0][2],high_v[1][2]], 'red', linewidth= 5)\n",
        "ax.plot3D([length_v[0][0],length_v[1][0]], [length_v[0][1],length_v[1][1]], [length_v[0][2],length_v[1][2]], 'green', linewidth= 5)\n",
        "ax.plot3D([width_v[0][0],width_v[1][0]], [width_v[0][1],width_v[1][1]], [width_v[0][2],width_v[1][2]], 'blue', linewidth= 5)\n",
        "ax.scatter3D(Atoms_coord['x_new'], Atoms_coord['y_new'], Atoms_coord['z_new'], c = Atoms_coord['Chain_num'])\n",
        "plot_linear_cube(-length_gr, -width_gr, -high_gr, length_gr*2, width_gr*2, high_gr*2, color='gray')\n",
        "\n",
        "ax.view_init(3, 90)\n",
        "plt.show()\n",
        "#plt.savefig('Cell_images/1atn.png')"
      ],
      "metadata": {
        "colab": {
          "base_uri": "https://localhost:8080/",
          "height": 575
        },
        "id": "y4AslzLO8fzd",
        "outputId": "a2c81ae0-bdbc-429a-964f-e67d748b10b7"
      },
      "execution_count": null,
      "outputs": [
        {
          "output_type": "display_data",
          "data": {
            "text/plain": [
              "<Figure size 1152x720 with 1 Axes>"
            ],
            "image/png": "[encoded data removed]"
          },
          "metadata": {
            "needs_background": "light"
          }
        }
      ]
    },
    {
      "cell_type": "code",
      "source": [
        "\n",
        "Cell_atoms = pd.DataFrame(columns=['Chain_name', 'Chain_num', 'Residue', 'Type', 'x_new', 'y_new', 'z_new'])\n",
        "for id_atom in range(Atoms_coord.shape[0]):\n",
        "  at_coord = Atoms_coord.iloc[id_atom]\n",
        "  if abs(at_coord['x_new'])<= length_gr and abs(at_coord['y_new'])<= width_gr and abs(at_coord['z_new'])<= high_gr:\n",
        "    x_ind = round(at_coord['x_new']+length_gr)\n",
        "    y_ind = round(at_coord['y_new']+width_gr)\n",
        "    z_ind = round(at_coord['z_new']+high_gr)\n",
        "    Cell_atoms.loc[len(Cell_atoms.index)] = [at_coord['Chain_name'], at_coord['Chain_num'], at_coord['Residue'], at_coord['Type'], x_ind, y_ind, z_ind]\n",
        "\n"
      ],
      "metadata": {
        "id": "LSG7ODo-yVQC"
      },
      "execution_count": null,
      "outputs": []
    },
    {
      "cell_type": "code",
      "source": [
        "Cell_atoms"
      ],
      "metadata": {
        "colab": {
          "base_uri": "https://localhost:8080/",
          "height": 424
        },
        "id": "dnILeDpq3epk",
        "outputId": "cb840647-343e-463e-807e-beab0b95d6db"
      },
      "execution_count": null,
      "outputs": [
        {
          "output_type": "execute_result",
          "data": {
            "text/plain": [
              "    Chain_name  Chain_num Residue Type  x_new  y_new  z_new\n",
              "0            A          0     ARG    N     39     22      0\n",
              "1            A          0     ARG    C     41     21      2\n",
              "2            A          0     ARG    O     41     22      2\n",
              "3            A          0     PRO    N     40     21      3\n",
              "4            A          0     PRO   CA     40     21      4\n",
              "..         ...        ...     ...  ...    ...    ...    ...\n",
              "891          D          1     TRP  CE2     27      6     18\n",
              "892          D          1     TRP  CE3     27      6     19\n",
              "893          D          1     TRP  CZ2     27      7     17\n",
              "894          D          1     TRP  CZ3     27      8     20\n",
              "895          D          1     TRP  CH2     27      7     18\n",
              "\n",
              "[896 rows x 7 columns]"
            ],
            "text/html": [
              "\n",
              "  <div id=\"df-2d0f06a1-2bb4-4d83-b1d3-3ebe75dd4f65\">\n",
              "    <div class=\"colab-df-container\">\n",
              "      <div>\n",
              "<style scoped>\n",
              "    .dataframe tbody tr th:only-of-type {\n",
              "        vertical-align: middle;\n",
              "    }\n",
              "\n",
              "    .dataframe tbody tr th {\n",
              "        vertical-align: top;\n",
              "    }\n",
              "\n",
              "    .dataframe thead th {\n",
              "        text-align: right;\n",
              "    }\n",
              "</style>\n",
              "<table border=\"1\" class=\"dataframe\">\n",
              "  <thead>\n",
              "    <tr style=\"text-align: right;\">\n",
              "      <th></th>\n",
              "      <th>Chain_name</th>\n",
              "      <th>Chain_num</th>\n",
              "      <th>Residue</th>\n",
              "      <th>Type</th>\n",
              "      <th>x_new</th>\n",
              "      <th>y_new</th>\n",
              "      <th>z_new</th>\n",
              "    </tr>\n",
              "  </thead>\n",
              "  <tbody>\n",
              "    <tr>\n",
              "      <th>0</th>\n",
              "      <td>A</td>\n",
              "      <td>0</td>\n",
              "      <td>ARG</td>\n",
              "      <td>N</td>\n",
              "      <td>39</td>\n",
              "      <td>22</td>\n",
              "      <td>0</td>\n",
              "    </tr>\n",
              "    <tr>\n",
              "      <th>1</th>\n",
              "      <td>A</td>\n",
              "      <td>0</td>\n",
              "      <td>ARG</td>\n",
              "      <td>C</td>\n",
              "      <td>41</td>\n",
              "      <td>21</td>\n",
              "      <td>2</td>\n",
              "    </tr>\n",
              "    <tr>\n",
              "      <th>2</th>\n",
              "      <td>A</td>\n",
              "      <td>0</td>\n",
              "      <td>ARG</td>\n",
              "      <td>O</td>\n",
              "      <td>41</td>\n",
              "      <td>22</td>\n",
              "      <td>2</td>\n",
              "    </tr>\n",
              "    <tr>\n",
              "      <th>3</th>\n",
              "      <td>A</td>\n",
              "      <td>0</td>\n",
              "      <td>PRO</td>\n",
              "      <td>N</td>\n",
              "      <td>40</td>\n",
              "      <td>21</td>\n",
              "      <td>3</td>\n",
              "    </tr>\n",
              "    <tr>\n",
              "      <th>4</th>\n",
              "      <td>A</td>\n",
              "      <td>0</td>\n",
              "      <td>PRO</td>\n",
              "      <td>CA</td>\n",
              "      <td>40</td>\n",
              "      <td>21</td>\n",
              "      <td>4</td>\n",
              "    </tr>\n",
              "    <tr>\n",
              "      <th>...</th>\n",
              "      <td>...</td>\n",
              "      <td>...</td>\n",
              "      <td>...</td>\n",
              "      <td>...</td>\n",
              "      <td>...</td>\n",
              "      <td>...</td>\n",
              "      <td>...</td>\n",
              "    </tr>\n",
              "    <tr>\n",
              "      <th>891</th>\n",
              "      <td>D</td>\n",
              "      <td>1</td>\n",
              "      <td>TRP</td>\n",
              "      <td>CE2</td>\n",
              "      <td>27</td>\n",
              "      <td>6</td>\n",
              "      <td>18</td>\n",
              "    </tr>\n",
              "    <tr>\n",
              "      <th>892</th>\n",
              "      <td>D</td>\n",
              "      <td>1</td>\n",
              "      <td>TRP</td>\n",
              "      <td>CE3</td>\n",
              "      <td>27</td>\n",
              "      <td>6</td>\n",
              "      <td>19</td>\n",
              "    </tr>\n",
              "    <tr>\n",
              "      <th>893</th>\n",
              "      <td>D</td>\n",
              "      <td>1</td>\n",
              "      <td>TRP</td>\n",
              "      <td>CZ2</td>\n",
              "      <td>27</td>\n",
              "      <td>7</td>\n",
              "      <td>17</td>\n",
              "    </tr>\n",
              "    <tr>\n",
              "      <th>894</th>\n",
              "      <td>D</td>\n",
              "      <td>1</td>\n",
              "      <td>TRP</td>\n",
              "      <td>CZ3</td>\n",
              "      <td>27</td>\n",
              "      <td>8</td>\n",
              "      <td>20</td>\n",
              "    </tr>\n",
              "    <tr>\n",
              "      <th>895</th>\n",
              "      <td>D</td>\n",
              "      <td>1</td>\n",
              "      <td>TRP</td>\n",
              "      <td>CH2</td>\n",
              "      <td>27</td>\n",
              "      <td>7</td>\n",
              "      <td>18</td>\n",
              "    </tr>\n",
              "  </tbody>\n",
              "</table>\n",
              "<p>896 rows × 7 columns</p>\n",
              "</div>\n",
              "      <button class=\"colab-df-convert\" onclick=\"convertToInteractive('df-2d0f06a1-2bb4-4d83-b1d3-3ebe75dd4f65')\"\n",
              "              title=\"Convert this dataframe to an interactive table.\"\n",
              "              style=\"display:none;\">\n",
              "        \n",
              "  <svg xmlns=\"http://www.w3.org/2000/svg\" height=\"24px\"viewBox=\"0 0 24 24\"\n",
              "       width=\"24px\">\n",
              "    <path d=\"M0 0h24v24H0V0z\" fill=\"none\"/>\n",
              "    <path d=\"M18.56 5.44l.94 2.06.94-2.06 2.06-.94-2.06-.94-.94-2.06-.94 2.06-2.06.94zm-11 1L8.5 8.5l.94-2.06 2.06-.94-2.06-.94L8.5 2.5l-.94 2.06-2.06.94zm10 10l.94 2.06.94-2.06 2.06-.94-2.06-.94-.94-2.06-.94 2.06-2.06.94z\"/><path d=\"M17.41 7.96l-1.37-1.37c-.4-.4-.92-.59-1.43-.59-.52 0-1.04.2-1.43.59L10.3 9.45l-7.72 7.72c-.78.78-.78 2.05 0 2.83L4 21.41c.39.39.9.59 1.41.59.51 0 1.02-.2 1.41-.59l7.78-7.78 2.81-2.81c.8-.78.8-2.07 0-2.86zM5.41 20L4 18.59l7.72-7.72 1.47 1.35L5.41 20z\"/>\n",
              "  </svg>\n",
              "      </button>\n",
              "      \n",
              "  <style>\n",
              "    .colab-df-container {\n",
              "      display:flex;\n",
              "      flex-wrap:wrap;\n",
              "      gap: 12px;\n",
              "    }\n",
              "\n",
              "    .colab-df-convert {\n",
              "      background-color: #E8F0FE;\n",
              "      border: none;\n",
              "      border-radius: 50%;\n",
              "      cursor: pointer;\n",
              "      display: none;\n",
              "      fill: #1967D2;\n",
              "      height: 32px;\n",
              "      padding: 0 0 0 0;\n",
              "      width: 32px;\n",
              "    }\n",
              "\n",
              "    .colab-df-convert:hover {\n",
              "      background-color: #E2EBFA;\n",
              "      box-shadow: 0px 1px 2px rgba(60, 64, 67, 0.3), 0px 1px 3px 1px rgba(60, 64, 67, 0.15);\n",
              "      fill: #174EA6;\n",
              "    }\n",
              "\n",
              "    [theme=dark] .colab-df-convert {\n",
              "      background-color: #3B4455;\n",
              "      fill: #D2E3FC;\n",
              "    }\n",
              "\n",
              "    [theme=dark] .colab-df-convert:hover {\n",
              "      background-color: #434B5C;\n",
              "      box-shadow: 0px 1px 3px 1px rgba(0, 0, 0, 0.15);\n",
              "      filter: drop-shadow(0px 1px 2px rgba(0, 0, 0, 0.3));\n",
              "      fill: #FFFFFF;\n",
              "    }\n",
              "  </style>\n",
              "\n",
              "      <script>\n",
              "        const buttonEl =\n",
              "          document.querySelector('#df-2d0f06a1-2bb4-4d83-b1d3-3ebe75dd4f65 button.colab-df-convert');\n",
              "        buttonEl.style.display =\n",
              "          google.colab.kernel.accessAllowed ? 'block' : 'none';\n",
              "\n",
              "        async function convertToInteractive(key) {\n",
              "          const element = document.querySelector('#df-2d0f06a1-2bb4-4d83-b1d3-3ebe75dd4f65');\n",
              "          const dataTable =\n",
              "            await google.colab.kernel.invokeFunction('convertToInteractive',\n",
              "                                                     [key], {});\n",
              "          if (!dataTable) return;\n",
              "\n",
              "          const docLinkHtml = 'Like what you see? Visit the ' +\n",
              "            '<a target=\"_blank\" href=https://colab.research.google.com/notebooks/data_table.ipynb>data table notebook</a>'\n",
              "            + ' to learn more about interactive tables.';\n",
              "          element.innerHTML = '';\n",
              "          dataTable['output_type'] = 'display_data';\n",
              "          await google.colab.output.renderOutput(dataTable, element);\n",
              "          const docLink = document.createElement('div');\n",
              "          docLink.innerHTML = docLinkHtml;\n",
              "          element.appendChild(docLink);\n",
              "        }\n",
              "      </script>\n",
              "    </div>\n",
              "  </div>\n",
              "  "
            ]
          },
          "metadata": {},
          "execution_count": 126
        }
      ]
    },
    {
      "cell_type": "code",
      "source": [
        "z = lambda x,y: (-plane_bind[3]-plane_bind[0]*x-plane_bind[1]*y) / plane_bind[2]\n",
        "tmp_y = np.linspace(-20, 20, 100)\n",
        "tmp_x = np.linspace(-40, 40, 100)\n",
        "\n",
        "fig = plt.figure(figsize=(16, 10))\n",
        "ax = plt.axes(projection=\"3d\")\n",
        "x,y = np.meshgrid(tmp_x,tmp_y)\n",
        "\n",
        "\n",
        "#ax.plot_surface(x, y, z(x,y))\n",
        "\n",
        "\n",
        "#ax.plot3D([high_v[0][0]+length_gr,high_v[1][0]+length_gr], [high_v[0][1]+width_gr,high_v[1][1]+width_gr], [high_v[0][2]+high_gr,high_v[1][2]+high_gr], 'red', linewidth= 5)\n",
        "#ax.plot3D([length_v[0][0]+length_gr,length_v[1][0]+length_gr], [length_v[0][1]+width_gr,length_v[1][1]+width_gr], [length_v[0][2]+high_gr,length_v[1][2]+high_gr], 'green', linewidth= 5)\n",
        "#ax.plot3D([width_v[0][0]+length_gr,width_v[1][0]+length_gr], [width_v[0][1]+width_gr,width_v[1][1]+width_gr], [width_v[0][2]+high_gr,width_v[1][2]+high_gr], 'blue', linewidth= 5)\n",
        "ax.scatter3D(Cell_atoms['x_new'], Cell_atoms['y_new'], Cell_atoms['z_new'], c = Cell_atoms['Chain_num'])\n",
        "\n",
        "plot_linear_cube(0, 0, 0, length_gr*2, width_gr*2, high_gr*2, color='gray')\n",
        "ax.view_init(5, 0)\n",
        "plt.show()"
      ],
      "metadata": {
        "colab": {
          "base_uri": "https://localhost:8080/",
          "height": 575
        },
        "id": "0dSs-ZOT5u4S",
        "outputId": "ef00f3bd-9e60-46e5-c893-862999f2f31a"
      },
      "execution_count": null,
      "outputs": [
        {
          "output_type": "display_data",
          "data": {
            "text/plain": [
              "<Figure size 1152x720 with 1 Axes>"
            ],
            "image/png": "[encoded data removed]"
          },
          "metadata": {
            "needs_background": "light"
          }
        }
      ]
    },
    {
      "cell_type": "markdown",
      "source": [
        "Добавляем каналы, содержащие различные свойства атомов"
      ],
      "metadata": {
        "id": "Eg7mf7hVJ1Nt"
      }
    },
    {
      "cell_type": "code",
      "source": [
        "\n",
        "# 0: hbond acceptor\n",
        "# 1: hbond donor\n",
        "# 2: weak hbond acceptor?\n",
        "# 3: weak hbond donor\n",
        "# 4: pos ionisable\n",
        "# 5: neg ionisable\n",
        "# 6: hydrophobe\n",
        "# 7: carbonyl oxygen\n",
        "# 8: carbonyl carbon\n",
        "# 9: aromatic\n",
        "\n",
        "\n",
        "hbond_acceptor = {'ALA': ['O', 'OXT'],\n",
        "                  'ARG': ['O', 'OXT'],\n",
        "                  'ASN': ['ND2', 'O', 'OD1', 'OXT'],\n",
        "                  'ASP': ['OD1', 'OD2', 'O', 'OXT'],\n",
        "                  'CYS': ['SG', 'O', 'OXT'],\n",
        "                  'GLN': ['NE2','O', 'OE1', 'OXT'],\n",
        "                  'GLU': ['OE1', 'OE2', 'O', 'OXT'],\n",
        "                  'GLY': ['O', 'OXT'],\n",
        "                  'HIS': ['ND1', 'NE2', 'CE1', 'CD2', 'O', 'OXT'],\n",
        "                  'ILE': ['O', 'OXT'],\n",
        "                  'LEU': ['O', 'OXT'],\n",
        "                  'LYS': ['O', 'OXT'],\n",
        "                  'MET': ['SD', 'O', 'OXT'],\n",
        "                  'PHE': ['O', 'OXT'],\n",
        "                  'PRO': ['O', 'OXT'],\n",
        "                  'SER': ['OG', 'O', 'OXT'],\n",
        "                  'THR': ['OG1', 'O', 'OXT'],\n",
        "                  'TRP': ['O', 'OXT'],\n",
        "                  'TYR': ['OH', 'O', 'OXT'],\n",
        "                  'VAL': ['O', 'OXT']}\n",
        "\n",
        "\n",
        "hbond_donor = {'ALA': ['N'],\n",
        "                  'ARG': ['N', 'NE', 'NH1', 'NH2'],\n",
        "                  'ASN': ['N', 'ND2', 'OD1'],\n",
        "                  'ASP': ['N'],\n",
        "                  'CYS': ['N', 'SG'],\n",
        "                  'GLN': ['N', 'NE2', 'OE1'],\n",
        "                  'GLU': ['N'],\n",
        "                  'GLY': ['N'],\n",
        "                  'HIS': ['N', 'ND1', 'CE1', 'NE2', 'CD2'],\n",
        "                  'ILE': ['N'],\n",
        "                  'LEU': ['N'],\n",
        "                  'LYS': ['N', 'NZ'],\n",
        "                  'MET': ['N'],\n",
        "                  'PHE': ['N'],\n",
        "                  'SER': ['N', 'OG'],\n",
        "                  'THR': ['N', 'OG1'],\n",
        "                  'TRP': ['N', 'NE1'],\n",
        "                  'TYR': ['N', 'OH'],\n",
        "                  'VAL': ['N']}\n",
        "\n",
        "weak_hbond_acceptor = {'ALA': ['O', 'OXT'],\n",
        "                  'ARG': ['O', 'OXT'],\n",
        "                  'ASN': ['O', 'OD1', 'ND2', 'OXT'],\n",
        "                  'ASP': ['OD1', 'OD2', 'O', 'OXT'],\n",
        "                  'CYS': ['SG', 'O', 'OXT'],\n",
        "                  'GLN': ['NE2','O', 'OE1', 'OXT'],\n",
        "                  'GLU': ['OE1', 'OE2', 'O', 'OXT'],\n",
        "                  'GLY': ['O', 'OXT'],\n",
        "                  'HIS': ['ND1', 'NE2', 'CE1', 'CD2', 'O', 'OXT'],\n",
        "                  'ILE': ['O', 'OXT'],\n",
        "                  'LEU': ['O', 'OXT'],\n",
        "                  'LYS': ['O', 'OXT'],\n",
        "                  'MET': ['SD', 'O', 'OXT'],\n",
        "                  'PHE': ['O', 'OXT'],\n",
        "                  'PRO': ['O', 'OXT'],\n",
        "                  'SER': ['OG', 'O', 'OXT'],\n",
        "                  'THR': ['OG1', 'O', 'OXT'],\n",
        "                  'TRP': ['O', 'OXT'],\n",
        "                  'TYR': ['OH', 'O', 'OXT'],\n",
        "                  'VAL': ['O', 'OXT']}\n",
        "\n",
        "weak_hbond_donor = {'ALA': ['CA', 'CB'],\n",
        "                  'ARG': ['CA', 'CB', 'CG', 'CD'],\n",
        "                  'ASN': ['CA', 'CB'],\n",
        "                  'ASP': ['CA', 'CB'],\n",
        "                  'CYS': ['CA', 'CB'],\n",
        "                  'GLN': ['CA', 'CB', 'CG'],\n",
        "                  'GLU': ['CA', 'CB', 'CG'],\n",
        "                  'GLY': ['CA'],\n",
        "                  'HIS': ['CA', 'CB'],\n",
        "                  'ILE': ['CA', 'CB', 'CG1', 'CD1', 'CG2'],\n",
        "                  'LEU': ['CA', 'CB', 'CG', 'CD1', 'CD2'],\n",
        "                  'LYS': ['CA', 'CB', 'CG', 'CD', 'CE'],\n",
        "                  'MET': ['CA', 'CB', 'CG', 'CE'],\n",
        "                  'PHE': ['CA', 'CB', 'CG', 'CD1', 'CD2', 'CE1', 'CE2', 'CZ'],\n",
        "                  'PRO': ['CA', 'CB', 'CG', 'CD'],\n",
        "                  'SER': ['CA', 'CB'],\n",
        "                  'THR': ['CA', 'CB', 'CG2'],\n",
        "                  'TRP': ['CA', 'CB', 'CD1', 'CE3', 'CZ3', 'CH2', 'CZ2'],\n",
        "                  'TYR': ['CA', 'CB', 'CG', 'CD1', 'CD2', 'CE1', 'CE2', 'CZ'],\n",
        "                  'VAL': ['CA', 'CB', 'CG1', 'CG2']}\n",
        "\n",
        "pos_ionisable = {'ARG': ['NE', 'CZ', 'NH1', 'NH2'],\n",
        "                  'HIS': ['CG', 'ND1', 'CE1', 'NE2', 'CD2'],\n",
        "                  'LYS': ['NZ']}\n",
        "\n",
        "neg_ionisable = {'ASP': ['OD1', 'OD2'],\n",
        "                 'GLU': ['OE1', 'OE2']}\n",
        "\n",
        "hydrophobe = {'ALA': [ 'CB'],\n",
        "                  'ARG': ['CB', 'CG'],\n",
        "                  'ASN': ['CB'],\n",
        "                  'ASP': ['CB'],\n",
        "                  'CYS': ['CB'],\n",
        "                  'GLN': ['CB', 'CG'],\n",
        "                  'GLU': ['CB', 'CG'],\n",
        "                  'HIS': ['CB'],\n",
        "                  'ILE': ['CB', 'CG1', 'CD1', 'CG2'],\n",
        "                  'LEU': ['CB', 'CG', 'CD1', 'CD2'],\n",
        "                  'LYS': ['CB', 'CG', 'CD'],\n",
        "                  'MET': ['CB', 'CG', 'CE', 'SD'],\n",
        "                  'PHE': ['CB', 'CG', 'CD1', 'CD2', 'CE1', 'CE2', 'CZ'],\n",
        "                  'PRO': ['CB', 'CG'],\n",
        "                  'THR': ['CG2'],\n",
        "                  'TRP': ['CB', 'CG', 'CD2', 'CE3', 'CZ3', 'CH2', 'CZ2'],\n",
        "                  'TYR': ['CB', 'CG', 'CD1', 'CD2', 'CE1', 'CE2'],\n",
        "                  'VAL': ['CB', 'CG1', 'CG2']}\n",
        "\n",
        "carbonyl_oxygen = {'ALA': ['O'],\n",
        "                  'ARG': ['O'],\n",
        "                  'ASN': ['O'],\n",
        "                  'ASP': ['O'],\n",
        "                  'CYS': ['O'],\n",
        "                  'GLN': ['O'],\n",
        "                  'GLU': ['O'],\n",
        "                  'GLY': ['O'],\n",
        "                  'HIS': ['O'],\n",
        "                  'ILE': ['O'],\n",
        "                  'LEU': ['O'],\n",
        "                  'LYS': ['O'],\n",
        "                  'MET': ['O'],\n",
        "                  'PHE': ['O'],\n",
        "                  'PRO': ['O'],\n",
        "                  'SER': ['O'],\n",
        "                  'THR': ['O'],\n",
        "                  'TRP': ['O'],\n",
        "                  'TYR': ['O'],\n",
        "                  'VAL': ['O']}\n",
        "\n",
        "carbonyl_carbon = {'ALA': ['C'],\n",
        "                  'ARG': ['C'],\n",
        "                  'ASN': ['C'],\n",
        "                  'ASP': ['C'],\n",
        "                  'CYS': ['C'],\n",
        "                  'GLN': ['C'],\n",
        "                  'GLU': ['C'],\n",
        "                  'GLY': ['C'],\n",
        "                  'HIS': ['C'],\n",
        "                  'ILE': ['C'],\n",
        "                  'LEU': ['C'],\n",
        "                  'LYS': ['C'],\n",
        "                  'MET': ['C'],\n",
        "                  'PHE': ['C'],\n",
        "                  'PRO': ['C'],\n",
        "                  'SER': ['C'],\n",
        "                  'THR': ['C'],\n",
        "                  'TRP': ['C'],\n",
        "                  'TYR': ['C'],\n",
        "                  'VAL': ['C']}\n",
        "\n",
        "aromatic = {'HIS': ['CG', 'ND1', 'CE1', 'NE2', 'CD2'],\n",
        "            'PHE': ['CG', 'CD1', 'CD2', 'CE1', 'CE2', 'CZ'],\n",
        "            'TRP': ['CG', 'CD1', 'CD2', 'NE1', 'CE2', 'CE3', 'CZ2', 'CZ3', 'CH2'],\n",
        "            'TYR': ['CG', 'CD1', 'CD2', 'CE1', 'CE2', 'CZ']}"
      ],
      "metadata": {
        "id": "k4M-XZMgbhw1"
      },
      "execution_count": null,
      "outputs": []
    },
    {
      "cell_type": "code",
      "source": [
        "hb_a = []\n",
        "hb_d = []\n",
        "w_hb_d = []\n",
        "pos_charge = []\n",
        "neg_charge = []\n",
        "hph = []\n",
        "carb_o = []\n",
        "carb_c = []\n",
        "ar = []\n",
        "for i in range(Cell_atoms.shape[0]):\n",
        "  atom_str = Cell_atoms.iloc[i]\n",
        "  if atom_str['Chain_num']==0:\n",
        "    arr_item = -1\n",
        "  else:\n",
        "    arr_item = 1\n",
        "  if atom_str['Residue'] in hbond_acceptor and atom_str['Type'] in hbond_acceptor[atom_str['Residue']]:\n",
        "    acceptor = arr_item\n",
        "  else:\n",
        "    acceptor = 0\n",
        "  hb_a.append(acceptor)\n",
        "\n",
        "  if atom_str['Residue'] in hbond_donor and atom_str['Type'] in hbond_donor[atom_str['Residue']]:\n",
        "    donor = arr_item\n",
        "  else:\n",
        "    donor = 0\n",
        "  hb_d.append(donor)\n",
        "\n",
        "  if atom_str['Residue'] in weak_hbond_donor and atom_str['Type'] in weak_hbond_donor[atom_str['Residue']]:\n",
        "    wdonor = arr_item\n",
        "  else:\n",
        "    wdonor = 0\n",
        "  w_hb_d.append(wdonor)\n",
        "\n",
        "  if atom_str['Residue'] in pos_ionisable and atom_str['Type'] in pos_ionisable[atom_str['Residue']]:\n",
        "    pos = arr_item\n",
        "  else:\n",
        "    pos = 0\n",
        "  pos_charge.append(pos)\n",
        "\n",
        "  if atom_str['Residue'] in neg_ionisable and atom_str['Type'] in neg_ionisable[atom_str['Residue']]:\n",
        "    neg = arr_item\n",
        "  else:\n",
        "    neg = 0\n",
        "  neg_charge.append(neg)\n",
        "\n",
        "  if atom_str['Residue'] in hydrophobe and atom_str['Type'] in hydrophobe[atom_str['Residue']]:\n",
        "    h = arr_item\n",
        "  else:\n",
        "      h = 0\n",
        "  hph.append(h)\n",
        "\n",
        "  if atom_str['Type'] == 'O':\n",
        "    o = arr_item\n",
        "  else:\n",
        "    o = 0\n",
        "  carb_o.append(o)\n",
        "\n",
        "  if atom_str['Type'] == 'C':\n",
        "    c = arr_item\n",
        "  else:\n",
        "    c = 0\n",
        "  carb_c.append(c)\n",
        "\n",
        "  if atom_str['Residue'] in aromatic and atom_str['Type'] in aromatic[atom_str['Residue']]:\n",
        "    a = arr_item\n",
        "  else:\n",
        "    a = 0\n",
        "  ar.append(a)\n",
        "\n",
        "Cell_atoms['HBond_acceptor'] = hb_a\n",
        "Cell_atoms['HBond_donor'] = hb_d\n",
        "Cell_atoms['Weak_HBond_donor'] = w_hb_d\n",
        "Cell_atoms['Pos_charge'] = pos_charge\n",
        "Cell_atoms['Neg_charge'] = neg_charge\n",
        "Cell_atoms['Hydrophoby'] = hph\n",
        "Cell_atoms['Carbocsile_o'] = carb_o\n",
        "Cell_atoms['Carbocsile_c'] = carb_c\n",
        "Cell_atoms['Aromatic'] = ar\n",
        "\n",
        "num_channels = 10\n",
        "coord_array = np.zeros((num_channels, length_gr*2+1, width_gr*2+1, high_gr*2+1))\n",
        "for a in range(Cell_atoms.shape[0]):\n",
        "    x = Cell_atoms['x_new'][a]\n",
        "    y = Cell_atoms['y_new'][a]\n",
        "    z = Cell_atoms['z_new'][a]\n",
        "    if Cell_atoms['Chain_num'][a] == 0:\n",
        "      coord_array[0][x][y][z] = Cell_atoms['HBond_acceptor'][a]\n",
        "      coord_array[1][x][y][z] = Cell_atoms['HBond_donor'][a]\n",
        "      coord_array[2][x][y][z] = Cell_atoms['Weak_HBond_donor'][a]\n",
        "      coord_array[3][x][y][z] = Cell_atoms['HBond_acceptor'][a]\n",
        "      coord_array[4][x][y][z] = Cell_atoms['Pos_charge'][a]\n",
        "      coord_array[5][x][y][z] = Cell_atoms['Neg_charge'][a]\n",
        "      coord_array[6][x][y][z] = Cell_atoms['Hydrophoby'][a]\n",
        "      coord_array[7][x][y][z] = Cell_atoms['Carbocsile_o'][a]\n",
        "      coord_array[8][x][y][z] = Cell_atoms['Carbocsile_c'][a]\n",
        "      coord_array[9][x][y][z] = Cell_atoms['Aromatic'][a]\n",
        "    else:\n",
        "      coord_array[0][x][y][z] = Cell_atoms['HBond_donor'][a]\n",
        "      coord_array[1][x][y][z] = Cell_atoms['HBond_acceptor'][a]\n",
        "      coord_array[2][x][y][z] = Cell_atoms['HBond_acceptor'][a]\n",
        "      coord_array[3][x][y][z] = Cell_atoms['Weak_HBond_donor'][a]\n",
        "      coord_array[4][x][y][z] = Cell_atoms['Neg_charge'][a]\n",
        "      coord_array[5][x][y][z] = Cell_atoms['Pos_charge'][a]\n",
        "      coord_array[6][x][y][z] = Cell_atoms['Hydrophoby'][a]\n",
        "      coord_array[7][x][y][z] = Cell_atoms['Carbocsile_o'][a]\n",
        "      coord_array[8][x][y][z] = Cell_atoms['Carbocsile_c'][a]\n",
        "      coord_array[9][x][y][z] = Cell_atoms['Aromatic'][a]\n",
        "\n",
        "\n",
        "with open(f'drive/MyDrive/Dataset/{struct_id}.npy', 'wb') as f:\n",
        "  np.save(f, coord_array)\n"
      ],
      "metadata": {
        "id": "3Dnyuag_1iyw"
      },
      "execution_count": null,
      "outputs": []
    },
    {
      "cell_type": "code",
      "source": [],
      "metadata": {
        "id": "C5WWXul9IgyI"
      },
      "execution_count": null,
      "outputs": []
    }
  ]
}
