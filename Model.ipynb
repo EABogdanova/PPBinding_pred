{
  "cells": [
    {
      "cell_type": "code",
      "execution_count": null,
      "metadata": {
        "colab": {
          "base_uri": "https://localhost:8080/"
        },
        "id": "22ycyxrCtw_d",
        "outputId": "ffa015f6-8384-4ef2-82d2-ad7e5eafbb6e"
      },
      "outputs": [
        {
          "output_type": "stream",
          "name": "stdout",
          "text": [
            "Looking in indexes: https://pypi.org/simple, https://us-python.pkg.dev/colab-wheels/public/simple/\n",
            "Collecting torchmetrics\n",
            "  Downloading torchmetrics-0.11.4-py3-none-any.whl (519 kB)\n",
            "\u001b[2K     \u001b[90m━━━━━━━━━━━━━━━━━━━━━━━━━━━━━━━━━━━━━━━\u001b[0m \u001b[32m519.2/519.2 kB\u001b[0m \u001b[31m9.7 MB/s\u001b[0m eta \u001b[36m0:00:00\u001b[0m\n",
            "\u001b[?25hRequirement already satisfied: numpy>=1.17.2 in /usr/local/lib/python3.10/dist-packages (from torchmetrics) (1.22.4)\n",
            "Requirement already satisfied: torch>=1.8.1 in /usr/local/lib/python3.10/dist-packages (from torchmetrics) (2.0.1+cu118)\n",
            "Requirement already satisfied: packaging in /usr/local/lib/python3.10/dist-packages (from torchmetrics) (23.1)\n",
            "Requirement already satisfied: filelock in /usr/local/lib/python3.10/dist-packages (from torch>=1.8.1->torchmetrics) (3.12.0)\n",
            "Requirement already satisfied: typing-extensions in /usr/local/lib/python3.10/dist-packages (from torch>=1.8.1->torchmetrics) (4.5.0)\n",
            "Requirement already satisfied: sympy in /usr/local/lib/python3.10/dist-packages (from torch>=1.8.1->torchmetrics) (1.11.1)\n",
            "Requirement already satisfied: networkx in /usr/local/lib/python3.10/dist-packages (from torch>=1.8.1->torchmetrics) (3.1)\n",
            "Requirement already satisfied: jinja2 in /usr/local/lib/python3.10/dist-packages (from torch>=1.8.1->torchmetrics) (3.1.2)\n",
            "Requirement already satisfied: triton==2.0.0 in /usr/local/lib/python3.10/dist-packages (from torch>=1.8.1->torchmetrics) (2.0.0)\n",
            "Requirement already satisfied: cmake in /usr/local/lib/python3.10/dist-packages (from triton==2.0.0->torch>=1.8.1->torchmetrics) (3.25.2)\n",
            "Requirement already satisfied: lit in /usr/local/lib/python3.10/dist-packages (from triton==2.0.0->torch>=1.8.1->torchmetrics) (16.0.5)\n",
            "Requirement already satisfied: MarkupSafe>=2.0 in /usr/local/lib/python3.10/dist-packages (from jinja2->torch>=1.8.1->torchmetrics) (2.1.2)\n",
            "Requirement already satisfied: mpmath>=0.19 in /usr/local/lib/python3.10/dist-packages (from sympy->torch>=1.8.1->torchmetrics) (1.3.0)\n",
            "Installing collected packages: torchmetrics\n",
            "Successfully installed torchmetrics-0.11.4\n"
          ]
        }
      ],
      "source": [
        "! pip install torchmetrics"
      ]
    },
    {
      "cell_type": "code",
      "execution_count": null,
      "metadata": {
        "colab": {
          "base_uri": "https://localhost:8080/"
        },
        "id": "tMYBPBfFQppu",
        "outputId": "e455fe3d-b1e0-4869-c254-8beea25cc855"
      },
      "outputs": [
        {
          "output_type": "stream",
          "name": "stdout",
          "text": [
            "Using device: cuda\n"
          ]
        }
      ],
      "source": [
        "from IPython.display import clear_output\n",
        "from collections import defaultdict\n",
        "import matplotlib.pyplot as plt\n",
        "import numpy as np\n",
        "import pandas as pd\n",
        "import torch\n",
        "import torchvision\n",
        "import os\n",
        "from torch.utils.data import Dataset\n",
        "from torchvision import datasets\n",
        "from torch.utils.data import TensorDataset \n",
        "from torch.utils.data import random_split, DataLoader\n",
        "from torchmetrics import PearsonCorrCoef, R2Score, MeanSquaredError\n",
        "device = torch.device('cuda' if torch.cuda.is_available() else 'cpu')\n",
        "print('Using device:', device)"
      ]
    },
    {
      "cell_type": "code",
      "execution_count": null,
      "metadata": {
        "colab": {
          "base_uri": "https://localhost:8080/"
        },
        "id": "MYOt9ZrLdQA2",
        "outputId": "633e2414-f828-4412-94b9-601293785958"
      },
      "outputs": [
        {
          "output_type": "stream",
          "name": "stdout",
          "text": [
            "Looking in indexes: https://pypi.org/simple, https://us-python.pkg.dev/colab-wheels/public/simple/\n",
            "Collecting lion-pytorch\n",
            "  Downloading lion_pytorch-0.1.2-py3-none-any.whl (4.4 kB)\n",
            "Requirement already satisfied: torch>=1.6 in /usr/local/lib/python3.10/dist-packages (from lion-pytorch) (2.0.1+cu118)\n",
            "Requirement already satisfied: filelock in /usr/local/lib/python3.10/dist-packages (from torch>=1.6->lion-pytorch) (3.12.0)\n",
            "Requirement already satisfied: typing-extensions in /usr/local/lib/python3.10/dist-packages (from torch>=1.6->lion-pytorch) (4.5.0)\n",
            "Requirement already satisfied: sympy in /usr/local/lib/python3.10/dist-packages (from torch>=1.6->lion-pytorch) (1.11.1)\n",
            "Requirement already satisfied: networkx in /usr/local/lib/python3.10/dist-packages (from torch>=1.6->lion-pytorch) (3.1)\n",
            "Requirement already satisfied: jinja2 in /usr/local/lib/python3.10/dist-packages (from torch>=1.6->lion-pytorch) (3.1.2)\n",
            "Requirement already satisfied: triton==2.0.0 in /usr/local/lib/python3.10/dist-packages (from torch>=1.6->lion-pytorch) (2.0.0)\n",
            "Requirement already satisfied: cmake in /usr/local/lib/python3.10/dist-packages (from triton==2.0.0->torch>=1.6->lion-pytorch) (3.25.2)\n",
            "Requirement already satisfied: lit in /usr/local/lib/python3.10/dist-packages (from triton==2.0.0->torch>=1.6->lion-pytorch) (16.0.5)\n",
            "Requirement already satisfied: MarkupSafe>=2.0 in /usr/local/lib/python3.10/dist-packages (from jinja2->torch>=1.6->lion-pytorch) (2.1.2)\n",
            "Requirement already satisfied: mpmath>=0.19 in /usr/local/lib/python3.10/dist-packages (from sympy->torch>=1.6->lion-pytorch) (1.3.0)\n",
            "Installing collected packages: lion-pytorch\n",
            "Successfully installed lion-pytorch-0.1.2\n"
          ]
        }
      ],
      "source": [
        "!pip install lion-pytorch"
      ]
    },
    {
      "cell_type": "code",
      "execution_count": null,
      "metadata": {
        "id": "1MmZT942R9Ks"
      },
      "outputs": [],
      "source": [
        "import random\n",
        "\n",
        "\n",
        "def set_random_seed(seed):\n",
        "    torch.manual_seed(seed)\n",
        "    torch.cuda.manual_seed(seed)\n",
        "    np.random.seed(seed)\n",
        "    random.seed(seed)\n",
        "\n"
      ]
    },
    {
      "cell_type": "code",
      "execution_count": null,
      "metadata": {
        "id": "YquQ1Kzmw1Ug"
      },
      "outputs": [],
      "source": [
        "\n",
        "class CustomImageDataset(Dataset):\n",
        "    def __init__(self, annotations_file, train = True, normalize = None, mean = None, std = None, transform = None, mean_str = None, std_str = None, transform_str = None,  str_dir = 'drive/MyDrive/Dataset'):\n",
        "        self.str_labels = pd.read_csv(annotations_file, header=None)\n",
        "        self.str_dir = str_dir\n",
        "        self.train = train\n",
        "        self.normalize = normalize\n",
        "        self.mean = mean\n",
        "        self.std = std\n",
        "        self.transform = transform\n",
        "        self.mean_str = mean_str\n",
        "        self.std_str = std_str\n",
        "        self.transform_str = transform_str\n",
        "\n",
        "    def __len__(self):\n",
        "        return len(self.str_labels)\n",
        "\n",
        "    def __getitem__(self, idx):\n",
        "        str_path = os.path.join(self.str_dir, self.str_labels.iloc[idx, 1])\n",
        "        structure = np.load(str_path)\n",
        "        rand_num = np.random.rand(4)\n",
        "        if self.transform:\n",
        "          \n",
        "          if rand_num[0] < 0.5:\n",
        "            structure = np.flip(structure, axis = 1)\n",
        "          if rand_num[1] < 0.5:\n",
        "            structure = np.flip(structure, axis = 2)\n",
        "          if rand_num[2] < 0.5:\n",
        "            structure = np.flip(structure, axis = 3)\n",
        "        label = float(self.str_labels.iloc[idx, 2])\n",
        "        if self.normalize:\n",
        "            label = (label-self.mean)/self.std\n",
        "        if self.train == True and  rand_num[3] < 0.5:\n",
        "            structure = np.where(structure == 0, structure, structure*-1)\n",
        "        structure = torch.from_numpy(structure.copy())\n",
        "        if self.transform_str:\n",
        "          structure = self.transform_str(structure, self.mean_str, self.std_str)\n",
        "        return structure, label"
      ]
    },
    {
      "cell_type": "code",
      "execution_count": null,
      "metadata": {
        "id": "0RI78uZK1DB1"
      },
      "outputs": [],
      "source": [
        "data = CustomImageDataset('drive/MyDrive/Dataset/Data_files_10_clear_added.csv')"
      ]
    },
    {
      "cell_type": "code",
      "execution_count": null,
      "metadata": {
        "id": "eFthLWAPnOQj"
      },
      "outputs": [],
      "source": [
        "\n",
        "test_size = 0\n",
        "train_size = int(0.9 * (len(data) - test_size))\n",
        "val_size = len(data) - test_size - train_size\n",
        "val_size = 0\n",
        "train_size = len(data)-0\n",
        "\n",
        "train_dataset, val_dataset = random_split(data, [train_size, val_size])\n",
        "#train_dataset = data"
      ]
    },
    {
      "cell_type": "code",
      "execution_count": null,
      "metadata": {
        "colab": {
          "base_uri": "https://localhost:8080/"
        },
        "id": "TSa3rUDe-f7Z",
        "outputId": "0019149f-a47d-48ab-920b-04b3700bcc8e"
      },
      "outputs": [
        {
          "output_type": "stream",
          "name": "stdout",
          "text": [
            "3280\n",
            "0\n",
            "0\n"
          ]
        }
      ],
      "source": [
        "print(train_size)\n",
        "print(val_size)\n",
        "print(test_size)"
      ]
    },
    {
      "cell_type": "code",
      "source": [
        "def transform_func_2(struct, mean, std):\n",
        "  for i in range(mean.shape[0]):\n",
        "    struct[i] = (struct[i] - mean[i])/std[i]\n",
        "  return struct"
      ],
      "metadata": {
        "id": "exjTsT4wAjd6"
      },
      "execution_count": null,
      "outputs": []
    },
    {
      "cell_type": "code",
      "source": [
        "mean_str = np.array([-3.57486075e-04, -2.47384984e-04, -1.69775568e-03,  8.22317425e-04,\n",
        " -1.56263410e-04,  4.45229449e-05, -3.42080456e-04, -1.59984884e-04,\n",
        " -1.57280399e-04, -1.73632427e-04])\n",
        "std_str = np.array([0.04979094, 0.04967578, 0.06257182, 0.06048465, 0.02171167, 0.02110345,\n",
        " 0.05637087, 0.03777938, 0.03765806, 0.03308934])"
      ],
      "metadata": {
        "id": "GhFrmmLDApbV"
      },
      "execution_count": null,
      "outputs": []
    },
    {
      "cell_type": "code",
      "execution_count": null,
      "metadata": {
        "colab": {
          "base_uri": "https://localhost:8080/"
        },
        "id": "15u4OIhtfq2e",
        "outputId": "2de2c107-e276-43e5-f916-7b2d6177b155"
      },
      "outputs": [
        {
          "output_type": "stream",
          "name": "stdout",
          "text": [
            "7.4862284660339355 2.1827330589294434\n"
          ]
        }
      ],
      "source": [
        "train_labels = torch.Tensor(list(data.str_labels[2][train_dataset.indices].astype(float)))\n",
        "mean = torch.mean(train_labels).item()\n",
        "std = torch.std(train_labels).item()\n",
        "print(mean, std)"
      ]
    },
    {
      "cell_type": "code",
      "source": [
        "weights = []\n",
        "for i in train_labels:\n",
        "  delta = abs(i-mean).item()\n",
        "  if delta<=1:\n",
        "    delta=1\n",
        "  weights.append(delta)"
      ],
      "metadata": {
        "id": "_AXXfAA83p3U"
      },
      "execution_count": null,
      "outputs": []
    },
    {
      "cell_type": "code",
      "execution_count": null,
      "metadata": {
        "id": "-bWnvGvmkPHe"
      },
      "outputs": [],
      "source": [
        "from torchvision import transforms\n",
        "data.normalize = True\n",
        "data.mean = mean\n",
        "data.train = True\n",
        "data.std = std\n",
        "data.transform = True\n",
        "data.transform_str = transform_func_2\n",
        "data.mean_str = mean_str\n",
        "data.std_str = std_str\n",
        "data.transform_str = None"
      ]
    },
    {
      "cell_type": "code",
      "execution_count": null,
      "metadata": {
        "id": "l-28-wx3mGG9"
      },
      "outputs": [],
      "source": [
        "val_dataset = CustomImageDataset('drive/MyDrive/Dataset/Data_files_short_clear.csv', train = False, normalize = True, transform = None, transform_str = None,  mean = mean, std = std, mean_str = mean_str, std_str = std_str, str_dir = 'drive/MyDrive/Dataset')"
      ]
    },
    {
      "cell_type": "code",
      "execution_count": null,
      "metadata": {
        "id": "KFF1zu9cTtMy"
      },
      "outputs": [],
      "source": [
        "from torch.utils.data import WeightedRandomSampler\n",
        "batch_size = 32\n",
        "#weightedsampler = WeightedRandomSampler(weights, len(weights)) \n",
        "one_list = [1 for i in range(len(weights))]\n",
        "weightedsampler = WeightedRandomSampler(one_list, len(weights)) \n",
        "train_loader = DataLoader(train_dataset, batch_size=batch_size, sampler = weightedsampler, num_workers=2)\n",
        "#train_loader = DataLoader(train_dataset, batch_size=batch_size, shuffle=True, num_workers=2)\n",
        "val_loader = DataLoader(val_dataset, shuffle=False, batch_size=1, num_workers=2) \n",
        "#test_loader = DataLoader(test_dataset, shuffle=False, batch_size=1, num_workers=2)"
      ]
    },
    {
      "cell_type": "code",
      "execution_count": null,
      "metadata": {
        "colab": {
          "base_uri": "https://localhost:8080/"
        },
        "id": "79aIzVgtTv5V",
        "outputId": "be8a0f5e-fe33-4290-d35c-172154733325"
      },
      "outputs": [
        {
          "output_type": "stream",
          "name": "stdout",
          "text": [
            "Using device: cuda\n"
          ]
        }
      ],
      "source": [
        "import torch.nn as nn\n",
        "import torch\n",
        "from torch.nn.modules.container import Sequential\n",
        "\n",
        "#set_random_seed(42)\n",
        "\n",
        "device = torch.device('cuda' if torch.cuda.is_available() else 'cpu')\n",
        "print('Using device:', device)\n",
        "\n",
        "class First_CNN(nn.Module):\n",
        "\n",
        "    def __init__(self):\n",
        "        super().__init__()      \n",
        "        self.conv_stack = nn.Sequential(\n",
        "            nn.Conv3d(10, 32, 7, padding=3, bias=False), # in channel=18, out=32\n",
        "            nn.MaxPool3d(2), # size [32, length/2, width/2, high/2]\n",
        "            nn.ReLU(),\n",
        "            nn.BatchNorm3d(32),\n",
        "            nn.Conv3d(32, 64, 5, padding=2, bias=False), # in channel=32, out=64 \n",
        "            nn.MaxPool3d(2), # size [64,length/2/2,width/2/2, high/2/2]\n",
        "            nn.ReLU(),\n",
        "            nn.BatchNorm3d(64),\n",
        "            \n",
        "            nn.Conv3d(64, 128, 3, padding=1, bias=False), # in channel=32, out=64 \n",
        "            nn.MaxPool3d(2), # size [64,length/2/2,width/2/2, high/2/2]\n",
        "            nn.ReLU(),\n",
        "            nn.BatchNorm3d(128),\n",
        "            #nn.Conv3d(128, 256, 3, padding=1, bias=False), # in channel=32, out=64 \n",
        "            #nn.MaxPool3d(2), # size [64,length/2/2,width/2/2, high/2/2]\n",
        "            #nn.ReLU(),\n",
        "            #nn.BatchNorm3d(256),\n",
        "            nn.Flatten(),\n",
        "            nn.Linear(128*(61//2//2//2)*(61//2//2//2)*(21//2//2//2), 1000),\n",
        "            nn.Dropout(0.3), \n",
        "            nn.ReLU(),\n",
        "            nn.Linear(1000, 200),\n",
        "            nn.Dropout(0.3),\n",
        "            nn.ReLU(),\n",
        "            #nn.Linear(500, 200),\n",
        "            #nn.Dropout(0.3),\n",
        "            #nn.ReLU(),\n",
        "            nn.Linear(200, 1)   \n",
        "            )\n",
        "\n",
        "    def forward(self, x):\n",
        "      x = self.conv_stack(x) \n",
        "      return x"
      ]
    },
    {
      "cell_type": "code",
      "execution_count": null,
      "metadata": {
        "id": "nsBpb1HQV4oj"
      },
      "outputs": [],
      "source": [
        "from pandas.core.dtypes.cast import maybe_box_datetimelike\n",
        "from copy import deepcopy\n",
        "from tqdm import tqdm\n",
        "\n",
        "#set_random_seed(42)\n",
        "\n",
        "def train_func(model, criterion, optimizer, num_epochs, best_metrics):\n",
        "  #best_model = model\n",
        "  #best_corr_coef = best_metrics\n",
        "  loss_hist = [] # for plotting\n",
        "  acc_val_list = []\n",
        "  val_loss_hist = [] # for plotting\n",
        "  for epoch in range(num_epochs):\n",
        "      model.train()\n",
        "      hist_loss = 0\n",
        "      for _, batch in tqdm(enumerate(train_loader, 0)): # get batch\n",
        "          # parse batch \n",
        "          structure, labels = batch\n",
        "          structure, labels = structure.to(device=device, dtype=torch.float), labels.to(device=device, dtype=torch.float)\n",
        "          # sets the gradients of all optimized tensors to zero.\n",
        "          optimizer.zero_grad() \n",
        "          # get outputs\n",
        "          y_pred = model(structure)\n",
        "          y_pred = torch.reshape(y_pred, (-1,))\n",
        "          # calculate loss\n",
        "          loss = criterion(y_pred, labels)\n",
        "          # calculate gradients\n",
        "          loss.backward() \n",
        "          # performs a single optimization step (parameter update)\n",
        "          optimizer.step()\n",
        "          hist_loss += loss.item()\n",
        "      loss_hist.append(hist_loss / len(train_loader))\n",
        "      \n",
        "      pred_list_val = []\n",
        "      labels_list_val = []\n",
        "      pred_list_norm = []\n",
        "      labels_list_norm = []\n",
        "      pearson = PearsonCorrCoef().to(device)\n",
        "      model.eval()\n",
        "      with torch.no_grad():\n",
        "        for struct_val, labels_val in val_loader:\n",
        "          struct_val, labels_val = struct_val.to(device=device, dtype=torch.float), labels_val.to(device=device, dtype=torch.float)\n",
        "          #struct_val = torch.concat((struct_val[:, :9, :, :, :], struct_val[:, 10:, :, :, :]), dim=1)\n",
        "          pred_val = model(struct_val.to(device))       \n",
        "          labels_list_val.append(labels_val[0].item()*std+mean)\n",
        "          pred_list_val.append(torch.reshape(pred_val, (-1,))[0].item()*std+mean)\n",
        "          pred_list_norm.append(torch.reshape(pred_val, (-1,))[0].item())\n",
        "          labels_list_norm.append(labels_val[0].item())\n",
        "      val_loss_hist = criterion(torch.Tensor(pred_list_norm).to(device), torch.Tensor(labels_list_norm).to(device))\n",
        "      corr_coef= pearson(torch.Tensor(pred_list_val).to(device), torch.Tensor(labels_list_val).to(device))\n",
        "      if corr_coef > best_metrics:\n",
        "        best_metrics = corr_coef\n",
        "        best_model = deepcopy(model)\n",
        "      print(f\"Epoch={epoch} loss={loss_hist[epoch]:.4f} val_loss: {round(val_loss_hist.item(),3)} val_corr: {round(corr_coef.item(),3)}\")\n",
        "  return best_model"
      ]
    },
    {
      "cell_type": "code",
      "execution_count": null,
      "metadata": {
        "colab": {
          "base_uri": "https://localhost:8080/"
        },
        "id": "DlYJV-6iXltv",
        "outputId": "1b276171-e18b-4837-8c8c-78e4921a39e6"
      },
      "outputs": [
        {
          "output_type": "stream",
          "name": "stderr",
          "text": [
            "103it [02:23,  1.39s/it]\n"
          ]
        },
        {
          "output_type": "stream",
          "name": "stdout",
          "text": [
            "Epoch=0 loss=0.9650 val_loss: 0.778 val_corr: -0.004\n"
          ]
        },
        {
          "output_type": "stream",
          "name": "stderr",
          "text": [
            "103it [02:24,  1.41s/it]\n"
          ]
        },
        {
          "output_type": "stream",
          "name": "stdout",
          "text": [
            "Epoch=1 loss=0.8585 val_loss: 0.8 val_corr: 0.094\n"
          ]
        },
        {
          "output_type": "stream",
          "name": "stderr",
          "text": [
            "103it [02:25,  1.42s/it]\n"
          ]
        },
        {
          "output_type": "stream",
          "name": "stdout",
          "text": [
            "Epoch=2 loss=0.7428 val_loss: 0.834 val_corr: -0.07\n"
          ]
        },
        {
          "output_type": "stream",
          "name": "stderr",
          "text": [
            "103it [02:23,  1.40s/it]\n"
          ]
        },
        {
          "output_type": "stream",
          "name": "stdout",
          "text": [
            "Epoch=3 loss=0.6594 val_loss: 0.722 val_corr: 0.115\n"
          ]
        },
        {
          "output_type": "stream",
          "name": "stderr",
          "text": [
            "103it [02:24,  1.40s/it]\n"
          ]
        },
        {
          "output_type": "stream",
          "name": "stdout",
          "text": [
            "Epoch=4 loss=0.6332 val_loss: 0.686 val_corr: 0.191\n"
          ]
        },
        {
          "output_type": "stream",
          "name": "stderr",
          "text": [
            "103it [02:24,  1.40s/it]\n"
          ]
        },
        {
          "output_type": "stream",
          "name": "stdout",
          "text": [
            "Epoch=5 loss=0.5642 val_loss: 0.689 val_corr: 0.214\n"
          ]
        },
        {
          "output_type": "stream",
          "name": "stderr",
          "text": [
            "103it [02:22,  1.39s/it]\n"
          ]
        },
        {
          "output_type": "stream",
          "name": "stdout",
          "text": [
            "Epoch=6 loss=0.5794 val_loss: 0.76 val_corr: 0.076\n"
          ]
        },
        {
          "output_type": "stream",
          "name": "stderr",
          "text": [
            "103it [02:23,  1.40s/it]\n"
          ]
        },
        {
          "output_type": "stream",
          "name": "stdout",
          "text": [
            "Epoch=7 loss=0.5629 val_loss: 0.642 val_corr: 0.307\n"
          ]
        },
        {
          "output_type": "stream",
          "name": "stderr",
          "text": [
            "103it [02:23,  1.40s/it]\n"
          ]
        },
        {
          "output_type": "stream",
          "name": "stdout",
          "text": [
            "Epoch=8 loss=0.5657 val_loss: 0.693 val_corr: 0.245\n"
          ]
        },
        {
          "output_type": "stream",
          "name": "stderr",
          "text": [
            "103it [02:22,  1.39s/it]\n"
          ]
        },
        {
          "output_type": "stream",
          "name": "stdout",
          "text": [
            "Epoch=9 loss=0.5275 val_loss: 0.662 val_corr: 0.31\n"
          ]
        }
      ],
      "source": [
        "from lion_pytorch import Lion\n",
        "set_random_seed(42)\n",
        "model = First_CNN()\n",
        "model.to(device)\n",
        "criterion = nn.MSELoss()\n",
        "#criterion = nn.L1Loss()\n",
        "optimizer = torch.optim.AdamW(model.parameters(), lr=0.0001, weight_decay=1e-5)\n",
        "#optimizer = Lion(model.parameters(), lr=1e-5, weight_decay=1e-3)\n",
        "num_epochs = 10\n",
        "best_model = train_func(model, criterion, optimizer, num_epochs, 0)"
      ]
    },
    {
      "cell_type": "code",
      "execution_count": null,
      "metadata": {
        "colab": {
          "base_uri": "https://localhost:8080/"
        },
        "id": "zrMMYjy-FNWA",
        "outputId": "c813bd26-919e-4020-9501-da4ad70ca80e"
      },
      "outputs": [
        {
          "output_type": "stream",
          "name": "stderr",
          "text": [
            "103it [02:24,  1.40s/it]\n"
          ]
        },
        {
          "output_type": "stream",
          "name": "stdout",
          "text": [
            "Epoch=0 loss=0.5296 val_loss: 0.666 val_corr: 0.332\n"
          ]
        },
        {
          "output_type": "stream",
          "name": "stderr",
          "text": [
            "103it [02:24,  1.40s/it]\n"
          ]
        },
        {
          "output_type": "stream",
          "name": "stdout",
          "text": [
            "Epoch=1 loss=0.5169 val_loss: 0.667 val_corr: 0.328\n"
          ]
        },
        {
          "output_type": "stream",
          "name": "stderr",
          "text": [
            "103it [02:25,  1.41s/it]\n"
          ]
        },
        {
          "output_type": "stream",
          "name": "stdout",
          "text": [
            "Epoch=2 loss=0.5368 val_loss: 0.587 val_corr: 0.427\n"
          ]
        },
        {
          "output_type": "stream",
          "name": "stderr",
          "text": [
            "103it [02:26,  1.42s/it]\n"
          ]
        },
        {
          "output_type": "stream",
          "name": "stdout",
          "text": [
            "Epoch=3 loss=0.5008 val_loss: 0.633 val_corr: 0.398\n"
          ]
        },
        {
          "output_type": "stream",
          "name": "stderr",
          "text": [
            "103it [02:24,  1.40s/it]\n"
          ]
        },
        {
          "output_type": "stream",
          "name": "stdout",
          "text": [
            "Epoch=4 loss=0.4750 val_loss: 0.605 val_corr: 0.408\n"
          ]
        },
        {
          "output_type": "stream",
          "name": "stderr",
          "text": [
            "103it [02:24,  1.40s/it]\n"
          ]
        },
        {
          "output_type": "stream",
          "name": "stdout",
          "text": [
            "Epoch=5 loss=0.4371 val_loss: 0.556 val_corr: 0.469\n"
          ]
        },
        {
          "output_type": "stream",
          "name": "stderr",
          "text": [
            "103it [02:23,  1.40s/it]\n"
          ]
        },
        {
          "output_type": "stream",
          "name": "stdout",
          "text": [
            "Epoch=6 loss=0.4614 val_loss: 0.667 val_corr: 0.449\n"
          ]
        },
        {
          "output_type": "stream",
          "name": "stderr",
          "text": [
            "103it [02:24,  1.41s/it]\n"
          ]
        },
        {
          "output_type": "stream",
          "name": "stdout",
          "text": [
            "Epoch=7 loss=0.4283 val_loss: 0.569 val_corr: 0.48\n"
          ]
        },
        {
          "output_type": "stream",
          "name": "stderr",
          "text": [
            "103it [02:26,  1.42s/it]\n"
          ]
        },
        {
          "output_type": "stream",
          "name": "stdout",
          "text": [
            "Epoch=8 loss=0.4324 val_loss: 0.555 val_corr: 0.472\n"
          ]
        },
        {
          "output_type": "stream",
          "name": "stderr",
          "text": [
            "103it [02:24,  1.40s/it]\n"
          ]
        },
        {
          "output_type": "stream",
          "name": "stdout",
          "text": [
            "Epoch=9 loss=0.4346 val_loss: 0.52 val_corr: 0.524\n"
          ]
        },
        {
          "output_type": "stream",
          "name": "stderr",
          "text": [
            "103it [02:24,  1.40s/it]\n"
          ]
        },
        {
          "output_type": "stream",
          "name": "stdout",
          "text": [
            "Epoch=10 loss=0.4094 val_loss: 0.54 val_corr: 0.513\n"
          ]
        },
        {
          "output_type": "stream",
          "name": "stderr",
          "text": [
            "103it [02:23,  1.40s/it]\n"
          ]
        },
        {
          "output_type": "stream",
          "name": "stdout",
          "text": [
            "Epoch=11 loss=0.4011 val_loss: 0.552 val_corr: 0.481\n"
          ]
        },
        {
          "output_type": "stream",
          "name": "stderr",
          "text": [
            "103it [02:24,  1.41s/it]\n"
          ]
        },
        {
          "output_type": "stream",
          "name": "stdout",
          "text": [
            "Epoch=12 loss=0.3833 val_loss: 0.542 val_corr: 0.491\n"
          ]
        },
        {
          "output_type": "stream",
          "name": "stderr",
          "text": [
            "103it [02:25,  1.41s/it]\n"
          ]
        },
        {
          "output_type": "stream",
          "name": "stdout",
          "text": [
            "Epoch=13 loss=0.3849 val_loss: 0.579 val_corr: 0.468\n"
          ]
        },
        {
          "output_type": "stream",
          "name": "stderr",
          "text": [
            "103it [02:25,  1.41s/it]\n"
          ]
        },
        {
          "output_type": "stream",
          "name": "stdout",
          "text": [
            "Epoch=14 loss=0.3892 val_loss: 0.556 val_corr: 0.463\n"
          ]
        }
      ],
      "source": [
        "best_model.train()\n",
        "optimizer = torch.optim.AdamW(best_model.parameters(), lr=0.0001, weight_decay=1e-3)\n",
        "best_model2 = train_func(best_model, criterion, optimizer, 15, 0.4)"
      ]
    },
    {
      "cell_type": "code",
      "execution_count": null,
      "metadata": {
        "id": "kmGM1raJp8WM",
        "colab": {
          "base_uri": "https://localhost:8080/"
        },
        "outputId": "f7bdaf34-3a9f-4542-85fe-36fc421b4d07"
      },
      "outputs": [
        {
          "output_type": "stream",
          "name": "stderr",
          "text": [
            "103it [02:22,  1.38s/it]\n"
          ]
        },
        {
          "output_type": "stream",
          "name": "stdout",
          "text": [
            "Epoch=0 loss=0.3398 val_loss: 0.505 val_corr: 0.54\n"
          ]
        },
        {
          "output_type": "stream",
          "name": "stderr",
          "text": [
            "103it [02:22,  1.39s/it]\n"
          ]
        },
        {
          "output_type": "stream",
          "name": "stdout",
          "text": [
            "Epoch=1 loss=0.3513 val_loss: 0.507 val_corr: 0.534\n"
          ]
        },
        {
          "output_type": "stream",
          "name": "stderr",
          "text": [
            "103it [02:25,  1.41s/it]\n"
          ]
        },
        {
          "output_type": "stream",
          "name": "stdout",
          "text": [
            "Epoch=2 loss=0.3544 val_loss: 0.5 val_corr: 0.542\n"
          ]
        },
        {
          "output_type": "stream",
          "name": "stderr",
          "text": [
            "103it [02:22,  1.39s/it]\n"
          ]
        },
        {
          "output_type": "stream",
          "name": "stdout",
          "text": [
            "Epoch=3 loss=0.3135 val_loss: 0.507 val_corr: 0.534\n"
          ]
        },
        {
          "output_type": "stream",
          "name": "stderr",
          "text": [
            "103it [02:24,  1.41s/it]\n"
          ]
        },
        {
          "output_type": "stream",
          "name": "stdout",
          "text": [
            "Epoch=4 loss=0.3244 val_loss: 0.512 val_corr: 0.534\n"
          ]
        },
        {
          "output_type": "stream",
          "name": "stderr",
          "text": [
            "103it [02:26,  1.42s/it]\n"
          ]
        },
        {
          "output_type": "stream",
          "name": "stdout",
          "text": [
            "Epoch=5 loss=0.3362 val_loss: 0.509 val_corr: 0.532\n"
          ]
        },
        {
          "output_type": "stream",
          "name": "stderr",
          "text": [
            "103it [02:24,  1.40s/it]\n"
          ]
        },
        {
          "output_type": "stream",
          "name": "stdout",
          "text": [
            "Epoch=6 loss=0.3300 val_loss: 0.508 val_corr: 0.531\n"
          ]
        },
        {
          "output_type": "stream",
          "name": "stderr",
          "text": [
            "103it [02:24,  1.41s/it]\n"
          ]
        },
        {
          "output_type": "stream",
          "name": "stdout",
          "text": [
            "Epoch=7 loss=0.3213 val_loss: 0.516 val_corr: 0.521\n"
          ]
        },
        {
          "output_type": "stream",
          "name": "stderr",
          "text": [
            "103it [02:26,  1.42s/it]\n"
          ]
        },
        {
          "output_type": "stream",
          "name": "stdout",
          "text": [
            "Epoch=8 loss=0.3066 val_loss: 0.513 val_corr: 0.529\n"
          ]
        },
        {
          "output_type": "stream",
          "name": "stderr",
          "text": [
            "103it [02:25,  1.41s/it]\n"
          ]
        },
        {
          "output_type": "stream",
          "name": "stdout",
          "text": [
            "Epoch=9 loss=0.3208 val_loss: 0.512 val_corr: 0.525\n"
          ]
        },
        {
          "output_type": "stream",
          "name": "stderr",
          "text": [
            "103it [02:27,  1.43s/it]\n"
          ]
        },
        {
          "output_type": "stream",
          "name": "stdout",
          "text": [
            "Epoch=10 loss=0.2984 val_loss: 0.531 val_corr: 0.513\n"
          ]
        },
        {
          "output_type": "stream",
          "name": "stderr",
          "text": [
            "103it [02:25,  1.41s/it]\n"
          ]
        },
        {
          "output_type": "stream",
          "name": "stdout",
          "text": [
            "Epoch=11 loss=0.2762 val_loss: 0.529 val_corr: 0.511\n"
          ]
        },
        {
          "output_type": "stream",
          "name": "stderr",
          "text": [
            "103it [02:24,  1.41s/it]\n"
          ]
        },
        {
          "output_type": "stream",
          "name": "stdout",
          "text": [
            "Epoch=12 loss=0.3116 val_loss: 0.531 val_corr: 0.502\n"
          ]
        },
        {
          "output_type": "stream",
          "name": "stderr",
          "text": [
            "103it [02:24,  1.40s/it]\n"
          ]
        },
        {
          "output_type": "stream",
          "name": "stdout",
          "text": [
            "Epoch=13 loss=0.2889 val_loss: 0.534 val_corr: 0.504\n"
          ]
        },
        {
          "output_type": "stream",
          "name": "stderr",
          "text": [
            "103it [02:24,  1.40s/it]\n"
          ]
        },
        {
          "output_type": "stream",
          "name": "stdout",
          "text": [
            "Epoch=14 loss=0.3334 val_loss: 0.537 val_corr: 0.494\n"
          ]
        }
      ],
      "source": [
        "best_model2.train()\n",
        "optimizer = torch.optim.AdamW(best_model2.parameters(), lr=0.00001, weight_decay=1e-3)\n",
        "best_model2 = train_func(best_model2, criterion, optimizer, 15, 0.5)"
      ]
    },
    {
      "cell_type": "code",
      "execution_count": null,
      "metadata": {
        "id": "pVVHCnojZpi0"
      },
      "outputs": [],
      "source": [
        "import math\n",
        "def validate(model, test_loader, device = \"cpu\"):\n",
        "  model.eval()\n",
        "  pred_list = []\n",
        "  labels_list = []\n",
        "  for struct, labels in test_loader:\n",
        "      struct, labels = struct.to(device=device, dtype=torch.float), labels.to(device=device, dtype=torch.float)\n",
        "      #struct = torch.concat((struct[:, :9, :, :, :], struct[:, 10:, :, :, :]), dim=1)\n",
        "      pred = model(struct.to(device))     \n",
        "      \n",
        "      labels_list.append(labels[0].item()*std+mean)\n",
        "      #labels_list.append(labels[0].item())\n",
        "      pred_list.append(round(torch.reshape(pred, (-1,))[0].item()*std+mean, 2))\n",
        "      #pred_list.append(round(torch.reshape(pred, (-1,))[0].item(), 2))\n",
        "  pearson = PearsonCorrCoef().to(device)\n",
        "  corr_coef= pearson(torch.Tensor(pred_list).to(device), torch.Tensor(labels_list).to(device))\n",
        "  r2 = R2Score().to(device)\n",
        "  r2_coef= r2(torch.Tensor(pred_list).to(device), torch.Tensor(labels_list).to(device))\n",
        "  mse = MeanSquaredError().to(device)\n",
        "  rmse = math.sqrt(mse(torch.Tensor(pred_list).to(device), torch.Tensor(labels_list).to(device)).item())\n",
        "  print(f'PearsonCorr: {round(corr_coef.item(),2)}')\n",
        "  print(f'RMSE: {round(rmse,3)}')\n",
        "  #print(f'R2: {round(r2_coef.item(),3)}')\n",
        "  return labels_list, pred_list"
      ]
    },
    {
      "cell_type": "code",
      "execution_count": null,
      "metadata": {
        "id": "DC_kbC2qdthE"
      },
      "outputs": [],
      "source": [
        "#test_dataset = CustomImageDataset('drive/MyDrive/Dataset/Data_files_short.csv', normalize = True, transform = None, mean = mean, std = std, str_dir = 'drive/MyDrive/Dataset')"
      ]
    },
    {
      "cell_type": "code",
      "execution_count": null,
      "metadata": {
        "id": "16Jmtr_7Ev63"
      },
      "outputs": [],
      "source": [
        "#test_loader = DataLoader(test_dataset, shuffle=False, batch_size=1, num_workers=2)"
      ]
    },
    {
      "cell_type": "code",
      "execution_count": null,
      "metadata": {
        "colab": {
          "base_uri": "https://localhost:8080/"
        },
        "id": "-cfrD7nms2rI",
        "outputId": "eb7f117b-c57d-4018-ff76-4b619d6112d8"
      },
      "outputs": [
        {
          "output_type": "stream",
          "name": "stdout",
          "text": [
            "PearsonCorr: 0.55\n",
            "RMSE: 1.534\n"
          ]
        }
      ],
      "source": [
        "a, b = validate(best_model2, val_loader, device=device)"
      ]
    },
    {
      "cell_type": "code",
      "execution_count": null,
      "metadata": {
        "id": "UMoGh31Q5l38",
        "colab": {
          "base_uri": "https://localhost:8080/",
          "height": 1000
        },
        "outputId": "23db0c9c-ca32-400e-b8cb-4896ce31ebac"
      },
      "outputs": [
        {
          "output_type": "execute_result",
          "data": {
            "text/plain": [
              "     Pred_pKD  True_pKD\n",
              "0        7.23      9.16\n",
              "1        6.87      8.41\n",
              "2        7.26      5.00\n",
              "3        6.47      6.60\n",
              "4        7.05      7.48\n",
              "5        8.58      9.62\n",
              "6        7.77     10.33\n",
              "7        6.33      5.46\n",
              "8        6.69      6.37\n",
              "9        8.31      7.98\n",
              "10       6.75      6.74\n",
              "11       6.62      6.82\n",
              "12       8.94      9.77\n",
              "13       6.74      6.73\n",
              "14       7.39      9.03\n",
              "15       8.42      9.20\n",
              "16       7.02      4.52\n",
              "17       6.10      4.40\n",
              "18       7.89      9.47\n",
              "19       8.70      8.94\n",
              "20       8.91     10.95\n",
              "21       8.79      7.07\n",
              "22       9.35      9.42\n",
              "23       8.74      9.91\n",
              "24       8.10      9.72\n",
              "25       7.37      4.80\n",
              "26       9.07     10.55\n",
              "27       7.83      8.00\n",
              "28       7.58      8.59\n",
              "29       7.42      8.55\n",
              "30       5.60      4.12\n",
              "31       9.01     10.79\n",
              "32       6.73      6.02\n",
              "33       9.08     11.10\n",
              "34       7.24      9.68\n",
              "35       6.42      4.24\n",
              "36       6.00      2.73\n",
              "37       7.44      7.64\n",
              "38       8.84      7.97\n",
              "39       7.19      6.57\n",
              "40       7.41      7.18\n",
              "41       8.27      8.95\n",
              "42       7.71      5.24\n",
              "43       7.43      7.80\n",
              "44       8.05      8.54\n",
              "45       7.06      7.60\n",
              "46       7.23      7.57\n",
              "47       6.96      8.19\n",
              "48       7.00      7.74\n",
              "49       7.58      6.74\n",
              "50       8.36      8.82\n",
              "51       5.74     10.80\n",
              "52       8.34      8.73\n",
              "53       6.99      6.85\n",
              "54       6.66      6.17\n",
              "55       6.60      5.52\n",
              "56       6.44      4.70\n",
              "57       6.75      5.82\n",
              "58       6.45      5.34\n",
              "59       8.51      5.43\n",
              "60       8.02      8.05\n",
              "61       8.66      6.33\n",
              "62       7.18      7.68\n",
              "63       7.50      8.03\n",
              "64       6.70      7.21\n",
              "65       6.67      6.52\n",
              "66       7.41      9.38\n",
              "67       8.34      9.82\n",
              "68       8.96      7.72\n",
              "69       8.97      7.77\n",
              "70       6.71      8.60\n",
              "71       7.35      7.83\n",
              "72       7.11      4.68\n",
              "73       7.31      8.60\n",
              "74       7.12      9.40\n",
              "75       6.62     12.14\n",
              "76       8.65      9.73\n",
              "77       9.27      9.85\n",
              "78       7.77      7.40\n",
              "79       8.89      7.16\n",
              "80       8.65      7.79\n",
              "81       6.48      6.95\n",
              "82       6.93      5.47\n",
              "83       6.88      4.57\n",
              "84       6.88      3.99\n",
              "85       6.62      6.12\n",
              "86       6.76      5.55\n",
              "87       7.72      8.74\n",
              "88       9.28     10.07\n",
              "89       6.95      8.00\n",
              "90       7.97      8.84\n",
              "91       8.49     10.56\n",
              "92       7.07      7.75\n",
              "93       6.69      6.27\n",
              "94       5.69      5.43\n",
              "95       7.35      5.63\n",
              "96       6.95      5.80\n",
              "97       7.25      6.88\n",
              "98       7.25      3.55\n",
              "99       9.15      7.74\n",
              "100      7.98      9.18\n",
              "101      9.15     10.76\n",
              "102      7.73      3.80\n",
              "103      5.04      6.57\n",
              "104      5.98      5.97\n",
              "105      7.62      4.91\n",
              "106      6.54      8.13\n",
              "107      8.31      8.23\n",
              "108      8.65      8.00\n",
              "109      8.01      7.59\n",
              "110      7.75      5.37\n",
              "111      6.56      7.54\n",
              "112      6.80      6.74\n",
              "113      6.65      9.57\n",
              "114      6.20      8.38\n",
              "115      8.32     10.74\n",
              "116      7.79      8.19\n",
              "117      7.91      8.54\n",
              "118      6.82      6.05\n",
              "119      9.31      7.24\n",
              "120      7.98      7.28\n",
              "121      7.67      9.00\n",
              "122      7.93      9.79\n",
              "123      6.53      6.37\n",
              "124      4.95      4.83\n",
              "125      7.21      6.37\n",
              "126      5.19      3.70\n",
              "127      5.19      4.39\n",
              "128      8.85      8.17\n",
              "129      8.59      7.80\n",
              "130      8.40      8.43\n",
              "131      7.43      7.39\n",
              "132      7.25      7.51\n",
              "133      7.83      6.75\n",
              "134      7.32      8.09\n",
              "135      8.54      7.92\n",
              "136      8.17      9.46\n",
              "137      6.87      7.81\n",
              "138      6.35      9.07\n",
              "139      8.26      6.75\n",
              "140      8.07      8.59\n",
              "141      7.92      8.82\n",
              "142      7.40      9.10\n",
              "143      7.91      6.95\n",
              "144      7.88      8.39\n",
              "145      8.63      9.28\n",
              "146      6.34      7.04\n",
              "147      7.51      6.68\n",
              "148      7.80      7.85\n",
              "149      7.63      7.40\n",
              "150      6.65      7.89\n",
              "151      6.64      7.60\n",
              "152      5.90      6.38\n",
              "153      6.53      7.40\n",
              "154      6.48      8.46\n",
              "155      6.19      4.54\n",
              "156      8.37      7.56\n",
              "157      6.76      5.94\n",
              "158      6.64      4.84\n",
              "159      6.29      5.16\n",
              "160      6.61      4.98\n",
              "161      7.56     11.70\n",
              "162      8.43      9.38\n",
              "163      8.43      9.03\n",
              "164      8.78      8.24\n",
              "165      5.63      6.96\n",
              "166      5.87      7.38\n",
              "167      6.73      4.73\n",
              "168      8.30      8.49\n",
              "169      7.70      8.43\n",
              "170      6.67      4.12\n",
              "171      7.64      9.62\n",
              "172      8.32      9.09\n",
              "173      8.14      9.07"
            ],
            "text/html": [
              "\n",
              "  <div id=\"df-5b252d15-2775-46f9-8421-a425b1b0a7c4\">\n",
              "    <div class=\"colab-df-container\">\n",
              "      <div>\n",
              "<style scoped>\n",
              "    .dataframe tbody tr th:only-of-type {\n",
              "        vertical-align: middle;\n",
              "    }\n",
              "\n",
              "    .dataframe tbody tr th {\n",
              "        vertical-align: top;\n",
              "    }\n",
              "\n",
              "    .dataframe thead th {\n",
              "        text-align: right;\n",
              "    }\n",
              "</style>\n",
              "<table border=\"1\" class=\"dataframe\">\n",
              "  <thead>\n",
              "    <tr style=\"text-align: right;\">\n",
              "      <th></th>\n",
              "      <th>Pred_pKD</th>\n",
              "      <th>True_pKD</th>\n",
              "    </tr>\n",
              "  </thead>\n",
              "  <tbody>\n",
              "    <tr>\n",
              "      <th>0</th>\n",
              "      <td>7.23</td>\n",
              "      <td>9.16</td>\n",
              "    </tr>\n",
              "    <tr>\n",
              "      <th>1</th>\n",
              "      <td>6.87</td>\n",
              "      <td>8.41</td>\n",
              "    </tr>\n",
              "    <tr>\n",
              "      <th>2</th>\n",
              "      <td>7.26</td>\n",
              "      <td>5.00</td>\n",
              "    </tr>\n",
              "    <tr>\n",
              "      <th>3</th>\n",
              "      <td>6.47</td>\n",
              "      <td>6.60</td>\n",
              "    </tr>\n",
              "    <tr>\n",
              "      <th>4</th>\n",
              "      <td>7.05</td>\n",
              "      <td>7.48</td>\n",
              "    </tr>\n",
              "    <tr>\n",
              "      <th>5</th>\n",
              "      <td>8.58</td>\n",
              "      <td>9.62</td>\n",
              "    </tr>\n",
              "    <tr>\n",
              "      <th>6</th>\n",
              "      <td>7.77</td>\n",
              "      <td>10.33</td>\n",
              "    </tr>\n",
              "    <tr>\n",
              "      <th>7</th>\n",
              "      <td>6.33</td>\n",
              "      <td>5.46</td>\n",
              "    </tr>\n",
              "    <tr>\n",
              "      <th>8</th>\n",
              "      <td>6.69</td>\n",
              "      <td>6.37</td>\n",
              "    </tr>\n",
              "    <tr>\n",
              "      <th>9</th>\n",
              "      <td>8.31</td>\n",
              "      <td>7.98</td>\n",
              "    </tr>\n",
              "    <tr>\n",
              "      <th>10</th>\n",
              "      <td>6.75</td>\n",
              "      <td>6.74</td>\n",
              "    </tr>\n",
              "    <tr>\n",
              "      <th>11</th>\n",
              "      <td>6.62</td>\n",
              "      <td>6.82</td>\n",
              "    </tr>\n",
              "    <tr>\n",
              "      <th>12</th>\n",
              "      <td>8.94</td>\n",
              "      <td>9.77</td>\n",
              "    </tr>\n",
              "    <tr>\n",
              "      <th>13</th>\n",
              "      <td>6.74</td>\n",
              "      <td>6.73</td>\n",
              "    </tr>\n",
              "    <tr>\n",
              "      <th>14</th>\n",
              "      <td>7.39</td>\n",
              "      <td>9.03</td>\n",
              "    </tr>\n",
              "    <tr>\n",
              "      <th>15</th>\n",
              "      <td>8.42</td>\n",
              "      <td>9.20</td>\n",
              "    </tr>\n",
              "    <tr>\n",
              "      <th>16</th>\n",
              "      <td>7.02</td>\n",
              "      <td>4.52</td>\n",
              "    </tr>\n",
              "    <tr>\n",
              "      <th>17</th>\n",
              "      <td>6.10</td>\n",
              "      <td>4.40</td>\n",
              "    </tr>\n",
              "    <tr>\n",
              "      <th>18</th>\n",
              "      <td>7.89</td>\n",
              "      <td>9.47</td>\n",
              "    </tr>\n",
              "    <tr>\n",
              "      <th>19</th>\n",
              "      <td>8.70</td>\n",
              "      <td>8.94</td>\n",
              "    </tr>\n",
              "    <tr>\n",
              "      <th>20</th>\n",
              "      <td>8.91</td>\n",
              "      <td>10.95</td>\n",
              "    </tr>\n",
              "    <tr>\n",
              "      <th>21</th>\n",
              "      <td>8.79</td>\n",
              "      <td>7.07</td>\n",
              "    </tr>\n",
              "    <tr>\n",
              "      <th>22</th>\n",
              "      <td>9.35</td>\n",
              "      <td>9.42</td>\n",
              "    </tr>\n",
              "    <tr>\n",
              "      <th>23</th>\n",
              "      <td>8.74</td>\n",
              "      <td>9.91</td>\n",
              "    </tr>\n",
              "    <tr>\n",
              "      <th>24</th>\n",
              "      <td>8.10</td>\n",
              "      <td>9.72</td>\n",
              "    </tr>\n",
              "    <tr>\n",
              "      <th>25</th>\n",
              "      <td>7.37</td>\n",
              "      <td>4.80</td>\n",
              "    </tr>\n",
              "    <tr>\n",
              "      <th>26</th>\n",
              "      <td>9.07</td>\n",
              "      <td>10.55</td>\n",
              "    </tr>\n",
              "    <tr>\n",
              "      <th>27</th>\n",
              "      <td>7.83</td>\n",
              "      <td>8.00</td>\n",
              "    </tr>\n",
              "    <tr>\n",
              "      <th>28</th>\n",
              "      <td>7.58</td>\n",
              "      <td>8.59</td>\n",
              "    </tr>\n",
              "    <tr>\n",
              "      <th>29</th>\n",
              "      <td>7.42</td>\n",
              "      <td>8.55</td>\n",
              "    </tr>\n",
              "    <tr>\n",
              "      <th>30</th>\n",
              "      <td>5.60</td>\n",
              "      <td>4.12</td>\n",
              "    </tr>\n",
              "    <tr>\n",
              "      <th>31</th>\n",
              "      <td>9.01</td>\n",
              "      <td>10.79</td>\n",
              "    </tr>\n",
              "    <tr>\n",
              "      <th>32</th>\n",
              "      <td>6.73</td>\n",
              "      <td>6.02</td>\n",
              "    </tr>\n",
              "    <tr>\n",
              "      <th>33</th>\n",
              "      <td>9.08</td>\n",
              "      <td>11.10</td>\n",
              "    </tr>\n",
              "    <tr>\n",
              "      <th>34</th>\n",
              "      <td>7.24</td>\n",
              "      <td>9.68</td>\n",
              "    </tr>\n",
              "    <tr>\n",
              "      <th>35</th>\n",
              "      <td>6.42</td>\n",
              "      <td>4.24</td>\n",
              "    </tr>\n",
              "    <tr>\n",
              "      <th>36</th>\n",
              "      <td>6.00</td>\n",
              "      <td>2.73</td>\n",
              "    </tr>\n",
              "    <tr>\n",
              "      <th>37</th>\n",
              "      <td>7.44</td>\n",
              "      <td>7.64</td>\n",
              "    </tr>\n",
              "    <tr>\n",
              "      <th>38</th>\n",
              "      <td>8.84</td>\n",
              "      <td>7.97</td>\n",
              "    </tr>\n",
              "    <tr>\n",
              "      <th>39</th>\n",
              "      <td>7.19</td>\n",
              "      <td>6.57</td>\n",
              "    </tr>\n",
              "    <tr>\n",
              "      <th>40</th>\n",
              "      <td>7.41</td>\n",
              "      <td>7.18</td>\n",
              "    </tr>\n",
              "    <tr>\n",
              "      <th>41</th>\n",
              "      <td>8.27</td>\n",
              "      <td>8.95</td>\n",
              "    </tr>\n",
              "    <tr>\n",
              "      <th>42</th>\n",
              "      <td>7.71</td>\n",
              "      <td>5.24</td>\n",
              "    </tr>\n",
              "    <tr>\n",
              "      <th>43</th>\n",
              "      <td>7.43</td>\n",
              "      <td>7.80</td>\n",
              "    </tr>\n",
              "    <tr>\n",
              "      <th>44</th>\n",
              "      <td>8.05</td>\n",
              "      <td>8.54</td>\n",
              "    </tr>\n",
              "    <tr>\n",
              "      <th>45</th>\n",
              "      <td>7.06</td>\n",
              "      <td>7.60</td>\n",
              "    </tr>\n",
              "    <tr>\n",
              "      <th>46</th>\n",
              "      <td>7.23</td>\n",
              "      <td>7.57</td>\n",
              "    </tr>\n",
              "    <tr>\n",
              "      <th>47</th>\n",
              "      <td>6.96</td>\n",
              "      <td>8.19</td>\n",
              "    </tr>\n",
              "    <tr>\n",
              "      <th>48</th>\n",
              "      <td>7.00</td>\n",
              "      <td>7.74</td>\n",
              "    </tr>\n",
              "    <tr>\n",
              "      <th>49</th>\n",
              "      <td>7.58</td>\n",
              "      <td>6.74</td>\n",
              "    </tr>\n",
              "    <tr>\n",
              "      <th>50</th>\n",
              "      <td>8.36</td>\n",
              "      <td>8.82</td>\n",
              "    </tr>\n",
              "    <tr>\n",
              "      <th>51</th>\n",
              "      <td>5.74</td>\n",
              "      <td>10.80</td>\n",
              "    </tr>\n",
              "    <tr>\n",
              "      <th>52</th>\n",
              "      <td>8.34</td>\n",
              "      <td>8.73</td>\n",
              "    </tr>\n",
              "    <tr>\n",
              "      <th>53</th>\n",
              "      <td>6.99</td>\n",
              "      <td>6.85</td>\n",
              "    </tr>\n",
              "    <tr>\n",
              "      <th>54</th>\n",
              "      <td>6.66</td>\n",
              "      <td>6.17</td>\n",
              "    </tr>\n",
              "    <tr>\n",
              "      <th>55</th>\n",
              "      <td>6.60</td>\n",
              "      <td>5.52</td>\n",
              "    </tr>\n",
              "    <tr>\n",
              "      <th>56</th>\n",
              "      <td>6.44</td>\n",
              "      <td>4.70</td>\n",
              "    </tr>\n",
              "    <tr>\n",
              "      <th>57</th>\n",
              "      <td>6.75</td>\n",
              "      <td>5.82</td>\n",
              "    </tr>\n",
              "    <tr>\n",
              "      <th>58</th>\n",
              "      <td>6.45</td>\n",
              "      <td>5.34</td>\n",
              "    </tr>\n",
              "    <tr>\n",
              "      <th>59</th>\n",
              "      <td>8.51</td>\n",
              "      <td>5.43</td>\n",
              "    </tr>\n",
              "    <tr>\n",
              "      <th>60</th>\n",
              "      <td>8.02</td>\n",
              "      <td>8.05</td>\n",
              "    </tr>\n",
              "    <tr>\n",
              "      <th>61</th>\n",
              "      <td>8.66</td>\n",
              "      <td>6.33</td>\n",
              "    </tr>\n",
              "    <tr>\n",
              "      <th>62</th>\n",
              "      <td>7.18</td>\n",
              "      <td>7.68</td>\n",
              "    </tr>\n",
              "    <tr>\n",
              "      <th>63</th>\n",
              "      <td>7.50</td>\n",
              "      <td>8.03</td>\n",
              "    </tr>\n",
              "    <tr>\n",
              "      <th>64</th>\n",
              "      <td>6.70</td>\n",
              "      <td>7.21</td>\n",
              "    </tr>\n",
              "    <tr>\n",
              "      <th>65</th>\n",
              "      <td>6.67</td>\n",
              "      <td>6.52</td>\n",
              "    </tr>\n",
              "    <tr>\n",
              "      <th>66</th>\n",
              "      <td>7.41</td>\n",
              "      <td>9.38</td>\n",
              "    </tr>\n",
              "    <tr>\n",
              "      <th>67</th>\n",
              "      <td>8.34</td>\n",
              "      <td>9.82</td>\n",
              "    </tr>\n",
              "    <tr>\n",
              "      <th>68</th>\n",
              "      <td>8.96</td>\n",
              "      <td>7.72</td>\n",
              "    </tr>\n",
              "    <tr>\n",
              "      <th>69</th>\n",
              "      <td>8.97</td>\n",
              "      <td>7.77</td>\n",
              "    </tr>\n",
              "    <tr>\n",
              "      <th>70</th>\n",
              "      <td>6.71</td>\n",
              "      <td>8.60</td>\n",
              "    </tr>\n",
              "    <tr>\n",
              "      <th>71</th>\n",
              "      <td>7.35</td>\n",
              "      <td>7.83</td>\n",
              "    </tr>\n",
              "    <tr>\n",
              "      <th>72</th>\n",
              "      <td>7.11</td>\n",
              "      <td>4.68</td>\n",
              "    </tr>\n",
              "    <tr>\n",
              "      <th>73</th>\n",
              "      <td>7.31</td>\n",
              "      <td>8.60</td>\n",
              "    </tr>\n",
              "    <tr>\n",
              "      <th>74</th>\n",
              "      <td>7.12</td>\n",
              "      <td>9.40</td>\n",
              "    </tr>\n",
              "    <tr>\n",
              "      <th>75</th>\n",
              "      <td>6.62</td>\n",
              "      <td>12.14</td>\n",
              "    </tr>\n",
              "    <tr>\n",
              "      <th>76</th>\n",
              "      <td>8.65</td>\n",
              "      <td>9.73</td>\n",
              "    </tr>\n",
              "    <tr>\n",
              "      <th>77</th>\n",
              "      <td>9.27</td>\n",
              "      <td>9.85</td>\n",
              "    </tr>\n",
              "    <tr>\n",
              "      <th>78</th>\n",
              "      <td>7.77</td>\n",
              "      <td>7.40</td>\n",
              "    </tr>\n",
              "    <tr>\n",
              "      <th>79</th>\n",
              "      <td>8.89</td>\n",
              "      <td>7.16</td>\n",
              "    </tr>\n",
              "    <tr>\n",
              "      <th>80</th>\n",
              "      <td>8.65</td>\n",
              "      <td>7.79</td>\n",
              "    </tr>\n",
              "    <tr>\n",
              "      <th>81</th>\n",
              "      <td>6.48</td>\n",
              "      <td>6.95</td>\n",
              "    </tr>\n",
              "    <tr>\n",
              "      <th>82</th>\n",
              "      <td>6.93</td>\n",
              "      <td>5.47</td>\n",
              "    </tr>\n",
              "    <tr>\n",
              "      <th>83</th>\n",
              "      <td>6.88</td>\n",
              "      <td>4.57</td>\n",
              "    </tr>\n",
              "    <tr>\n",
              "      <th>84</th>\n",
              "      <td>6.88</td>\n",
              "      <td>3.99</td>\n",
              "    </tr>\n",
              "    <tr>\n",
              "      <th>85</th>\n",
              "      <td>6.62</td>\n",
              "      <td>6.12</td>\n",
              "    </tr>\n",
              "    <tr>\n",
              "      <th>86</th>\n",
              "      <td>6.76</td>\n",
              "      <td>5.55</td>\n",
              "    </tr>\n",
              "    <tr>\n",
              "      <th>87</th>\n",
              "      <td>7.72</td>\n",
              "      <td>8.74</td>\n",
              "    </tr>\n",
              "    <tr>\n",
              "      <th>88</th>\n",
              "      <td>9.28</td>\n",
              "      <td>10.07</td>\n",
              "    </tr>\n",
              "    <tr>\n",
              "      <th>89</th>\n",
              "      <td>6.95</td>\n",
              "      <td>8.00</td>\n",
              "    </tr>\n",
              "    <tr>\n",
              "      <th>90</th>\n",
              "      <td>7.97</td>\n",
              "      <td>8.84</td>\n",
              "    </tr>\n",
              "    <tr>\n",
              "      <th>91</th>\n",
              "      <td>8.49</td>\n",
              "      <td>10.56</td>\n",
              "    </tr>\n",
              "    <tr>\n",
              "      <th>92</th>\n",
              "      <td>7.07</td>\n",
              "      <td>7.75</td>\n",
              "    </tr>\n",
              "    <tr>\n",
              "      <th>93</th>\n",
              "      <td>6.69</td>\n",
              "      <td>6.27</td>\n",
              "    </tr>\n",
              "    <tr>\n",
              "      <th>94</th>\n",
              "      <td>5.69</td>\n",
              "      <td>5.43</td>\n",
              "    </tr>\n",
              "    <tr>\n",
              "      <th>95</th>\n",
              "      <td>7.35</td>\n",
              "      <td>5.63</td>\n",
              "    </tr>\n",
              "    <tr>\n",
              "      <th>96</th>\n",
              "      <td>6.95</td>\n",
              "      <td>5.80</td>\n",
              "    </tr>\n",
              "    <tr>\n",
              "      <th>97</th>\n",
              "      <td>7.25</td>\n",
              "      <td>6.88</td>\n",
              "    </tr>\n",
              "    <tr>\n",
              "      <th>98</th>\n",
              "      <td>7.25</td>\n",
              "      <td>3.55</td>\n",
              "    </tr>\n",
              "    <tr>\n",
              "      <th>99</th>\n",
              "      <td>9.15</td>\n",
              "      <td>7.74</td>\n",
              "    </tr>\n",
              "    <tr>\n",
              "      <th>100</th>\n",
              "      <td>7.98</td>\n",
              "      <td>9.18</td>\n",
              "    </tr>\n",
              "    <tr>\n",
              "      <th>101</th>\n",
              "      <td>9.15</td>\n",
              "      <td>10.76</td>\n",
              "    </tr>\n",
              "    <tr>\n",
              "      <th>102</th>\n",
              "      <td>7.73</td>\n",
              "      <td>3.80</td>\n",
              "    </tr>\n",
              "    <tr>\n",
              "      <th>103</th>\n",
              "      <td>5.04</td>\n",
              "      <td>6.57</td>\n",
              "    </tr>\n",
              "    <tr>\n",
              "      <th>104</th>\n",
              "      <td>5.98</td>\n",
              "      <td>5.97</td>\n",
              "    </tr>\n",
              "    <tr>\n",
              "      <th>105</th>\n",
              "      <td>7.62</td>\n",
              "      <td>4.91</td>\n",
              "    </tr>\n",
              "    <tr>\n",
              "      <th>106</th>\n",
              "      <td>6.54</td>\n",
              "      <td>8.13</td>\n",
              "    </tr>\n",
              "    <tr>\n",
              "      <th>107</th>\n",
              "      <td>8.31</td>\n",
              "      <td>8.23</td>\n",
              "    </tr>\n",
              "    <tr>\n",
              "      <th>108</th>\n",
              "      <td>8.65</td>\n",
              "      <td>8.00</td>\n",
              "    </tr>\n",
              "    <tr>\n",
              "      <th>109</th>\n",
              "      <td>8.01</td>\n",
              "      <td>7.59</td>\n",
              "    </tr>\n",
              "    <tr>\n",
              "      <th>110</th>\n",
              "      <td>7.75</td>\n",
              "      <td>5.37</td>\n",
              "    </tr>\n",
              "    <tr>\n",
              "      <th>111</th>\n",
              "      <td>6.56</td>\n",
              "      <td>7.54</td>\n",
              "    </tr>\n",
              "    <tr>\n",
              "      <th>112</th>\n",
              "      <td>6.80</td>\n",
              "      <td>6.74</td>\n",
              "    </tr>\n",
              "    <tr>\n",
              "      <th>113</th>\n",
              "      <td>6.65</td>\n",
              "      <td>9.57</td>\n",
              "    </tr>\n",
              "    <tr>\n",
              "      <th>114</th>\n",
              "      <td>6.20</td>\n",
              "      <td>8.38</td>\n",
              "    </tr>\n",
              "    <tr>\n",
              "      <th>115</th>\n",
              "      <td>8.32</td>\n",
              "      <td>10.74</td>\n",
              "    </tr>\n",
              "    <tr>\n",
              "      <th>116</th>\n",
              "      <td>7.79</td>\n",
              "      <td>8.19</td>\n",
              "    </tr>\n",
              "    <tr>\n",
              "      <th>117</th>\n",
              "      <td>7.91</td>\n",
              "      <td>8.54</td>\n",
              "    </tr>\n",
              "    <tr>\n",
              "      <th>118</th>\n",
              "      <td>6.82</td>\n",
              "      <td>6.05</td>\n",
              "    </tr>\n",
              "    <tr>\n",
              "      <th>119</th>\n",
              "      <td>9.31</td>\n",
              "      <td>7.24</td>\n",
              "    </tr>\n",
              "    <tr>\n",
              "      <th>120</th>\n",
              "      <td>7.98</td>\n",
              "      <td>7.28</td>\n",
              "    </tr>\n",
              "    <tr>\n",
              "      <th>121</th>\n",
              "      <td>7.67</td>\n",
              "      <td>9.00</td>\n",
              "    </tr>\n",
              "    <tr>\n",
              "      <th>122</th>\n",
              "      <td>7.93</td>\n",
              "      <td>9.79</td>\n",
              "    </tr>\n",
              "    <tr>\n",
              "      <th>123</th>\n",
              "      <td>6.53</td>\n",
              "      <td>6.37</td>\n",
              "    </tr>\n",
              "    <tr>\n",
              "      <th>124</th>\n",
              "      <td>4.95</td>\n",
              "      <td>4.83</td>\n",
              "    </tr>\n",
              "    <tr>\n",
              "      <th>125</th>\n",
              "      <td>7.21</td>\n",
              "      <td>6.37</td>\n",
              "    </tr>\n",
              "    <tr>\n",
              "      <th>126</th>\n",
              "      <td>5.19</td>\n",
              "      <td>3.70</td>\n",
              "    </tr>\n",
              "    <tr>\n",
              "      <th>127</th>\n",
              "      <td>5.19</td>\n",
              "      <td>4.39</td>\n",
              "    </tr>\n",
              "    <tr>\n",
              "      <th>128</th>\n",
              "      <td>8.85</td>\n",
              "      <td>8.17</td>\n",
              "    </tr>\n",
              "    <tr>\n",
              "      <th>129</th>\n",
              "      <td>8.59</td>\n",
              "      <td>7.80</td>\n",
              "    </tr>\n",
              "    <tr>\n",
              "      <th>130</th>\n",
              "      <td>8.40</td>\n",
              "      <td>8.43</td>\n",
              "    </tr>\n",
              "    <tr>\n",
              "      <th>131</th>\n",
              "      <td>7.43</td>\n",
              "      <td>7.39</td>\n",
              "    </tr>\n",
              "    <tr>\n",
              "      <th>132</th>\n",
              "      <td>7.25</td>\n",
              "      <td>7.51</td>\n",
              "    </tr>\n",
              "    <tr>\n",
              "      <th>133</th>\n",
              "      <td>7.83</td>\n",
              "      <td>6.75</td>\n",
              "    </tr>\n",
              "    <tr>\n",
              "      <th>134</th>\n",
              "      <td>7.32</td>\n",
              "      <td>8.09</td>\n",
              "    </tr>\n",
              "    <tr>\n",
              "      <th>135</th>\n",
              "      <td>8.54</td>\n",
              "      <td>7.92</td>\n",
              "    </tr>\n",
              "    <tr>\n",
              "      <th>136</th>\n",
              "      <td>8.17</td>\n",
              "      <td>9.46</td>\n",
              "    </tr>\n",
              "    <tr>\n",
              "      <th>137</th>\n",
              "      <td>6.87</td>\n",
              "      <td>7.81</td>\n",
              "    </tr>\n",
              "    <tr>\n",
              "      <th>138</th>\n",
              "      <td>6.35</td>\n",
              "      <td>9.07</td>\n",
              "    </tr>\n",
              "    <tr>\n",
              "      <th>139</th>\n",
              "      <td>8.26</td>\n",
              "      <td>6.75</td>\n",
              "    </tr>\n",
              "    <tr>\n",
              "      <th>140</th>\n",
              "      <td>8.07</td>\n",
              "      <td>8.59</td>\n",
              "    </tr>\n",
              "    <tr>\n",
              "      <th>141</th>\n",
              "      <td>7.92</td>\n",
              "      <td>8.82</td>\n",
              "    </tr>\n",
              "    <tr>\n",
              "      <th>142</th>\n",
              "      <td>7.40</td>\n",
              "      <td>9.10</td>\n",
              "    </tr>\n",
              "    <tr>\n",
              "      <th>143</th>\n",
              "      <td>7.91</td>\n",
              "      <td>6.95</td>\n",
              "    </tr>\n",
              "    <tr>\n",
              "      <th>144</th>\n",
              "      <td>7.88</td>\n",
              "      <td>8.39</td>\n",
              "    </tr>\n",
              "    <tr>\n",
              "      <th>145</th>\n",
              "      <td>8.63</td>\n",
              "      <td>9.28</td>\n",
              "    </tr>\n",
              "    <tr>\n",
              "      <th>146</th>\n",
              "      <td>6.34</td>\n",
              "      <td>7.04</td>\n",
              "    </tr>\n",
              "    <tr>\n",
              "      <th>147</th>\n",
              "      <td>7.51</td>\n",
              "      <td>6.68</td>\n",
              "    </tr>\n",
              "    <tr>\n",
              "      <th>148</th>\n",
              "      <td>7.80</td>\n",
              "      <td>7.85</td>\n",
              "    </tr>\n",
              "    <tr>\n",
              "      <th>149</th>\n",
              "      <td>7.63</td>\n",
              "      <td>7.40</td>\n",
              "    </tr>\n",
              "    <tr>\n",
              "      <th>150</th>\n",
              "      <td>6.65</td>\n",
              "      <td>7.89</td>\n",
              "    </tr>\n",
              "    <tr>\n",
              "      <th>151</th>\n",
              "      <td>6.64</td>\n",
              "      <td>7.60</td>\n",
              "    </tr>\n",
              "    <tr>\n",
              "      <th>152</th>\n",
              "      <td>5.90</td>\n",
              "      <td>6.38</td>\n",
              "    </tr>\n",
              "    <tr>\n",
              "      <th>153</th>\n",
              "      <td>6.53</td>\n",
              "      <td>7.40</td>\n",
              "    </tr>\n",
              "    <tr>\n",
              "      <th>154</th>\n",
              "      <td>6.48</td>\n",
              "      <td>8.46</td>\n",
              "    </tr>\n",
              "    <tr>\n",
              "      <th>155</th>\n",
              "      <td>6.19</td>\n",
              "      <td>4.54</td>\n",
              "    </tr>\n",
              "    <tr>\n",
              "      <th>156</th>\n",
              "      <td>8.37</td>\n",
              "      <td>7.56</td>\n",
              "    </tr>\n",
              "    <tr>\n",
              "      <th>157</th>\n",
              "      <td>6.76</td>\n",
              "      <td>5.94</td>\n",
              "    </tr>\n",
              "    <tr>\n",
              "      <th>158</th>\n",
              "      <td>6.64</td>\n",
              "      <td>4.84</td>\n",
              "    </tr>\n",
              "    <tr>\n",
              "      <th>159</th>\n",
              "      <td>6.29</td>\n",
              "      <td>5.16</td>\n",
              "    </tr>\n",
              "    <tr>\n",
              "      <th>160</th>\n",
              "      <td>6.61</td>\n",
              "      <td>4.98</td>\n",
              "    </tr>\n",
              "    <tr>\n",
              "      <th>161</th>\n",
              "      <td>7.56</td>\n",
              "      <td>11.70</td>\n",
              "    </tr>\n",
              "    <tr>\n",
              "      <th>162</th>\n",
              "      <td>8.43</td>\n",
              "      <td>9.38</td>\n",
              "    </tr>\n",
              "    <tr>\n",
              "      <th>163</th>\n",
              "      <td>8.43</td>\n",
              "      <td>9.03</td>\n",
              "    </tr>\n",
              "    <tr>\n",
              "      <th>164</th>\n",
              "      <td>8.78</td>\n",
              "      <td>8.24</td>\n",
              "    </tr>\n",
              "    <tr>\n",
              "      <th>165</th>\n",
              "      <td>5.63</td>\n",
              "      <td>6.96</td>\n",
              "    </tr>\n",
              "    <tr>\n",
              "      <th>166</th>\n",
              "      <td>5.87</td>\n",
              "      <td>7.38</td>\n",
              "    </tr>\n",
              "    <tr>\n",
              "      <th>167</th>\n",
              "      <td>6.73</td>\n",
              "      <td>4.73</td>\n",
              "    </tr>\n",
              "    <tr>\n",
              "      <th>168</th>\n",
              "      <td>8.30</td>\n",
              "      <td>8.49</td>\n",
              "    </tr>\n",
              "    <tr>\n",
              "      <th>169</th>\n",
              "      <td>7.70</td>\n",
              "      <td>8.43</td>\n",
              "    </tr>\n",
              "    <tr>\n",
              "      <th>170</th>\n",
              "      <td>6.67</td>\n",
              "      <td>4.12</td>\n",
              "    </tr>\n",
              "    <tr>\n",
              "      <th>171</th>\n",
              "      <td>7.64</td>\n",
              "      <td>9.62</td>\n",
              "    </tr>\n",
              "    <tr>\n",
              "      <th>172</th>\n",
              "      <td>8.32</td>\n",
              "      <td>9.09</td>\n",
              "    </tr>\n",
              "    <tr>\n",
              "      <th>173</th>\n",
              "      <td>8.14</td>\n",
              "      <td>9.07</td>\n",
              "    </tr>\n",
              "  </tbody>\n",
              "</table>\n",
              "</div>\n",
              "      <button class=\"colab-df-convert\" onclick=\"convertToInteractive('df-5b252d15-2775-46f9-8421-a425b1b0a7c4')\"\n",
              "              title=\"Convert this dataframe to an interactive table.\"\n",
              "              style=\"display:none;\">\n",
              "        \n",
              "  <svg xmlns=\"http://www.w3.org/2000/svg\" height=\"24px\"viewBox=\"0 0 24 24\"\n",
              "       width=\"24px\">\n",
              "    <path d=\"M0 0h24v24H0V0z\" fill=\"none\"/>\n",
              "    <path d=\"M18.56 5.44l.94 2.06.94-2.06 2.06-.94-2.06-.94-.94-2.06-.94 2.06-2.06.94zm-11 1L8.5 8.5l.94-2.06 2.06-.94-2.06-.94L8.5 2.5l-.94 2.06-2.06.94zm10 10l.94 2.06.94-2.06 2.06-.94-2.06-.94-.94-2.06-.94 2.06-2.06.94z\"/><path d=\"M17.41 7.96l-1.37-1.37c-.4-.4-.92-.59-1.43-.59-.52 0-1.04.2-1.43.59L10.3 9.45l-7.72 7.72c-.78.78-.78 2.05 0 2.83L4 21.41c.39.39.9.59 1.41.59.51 0 1.02-.2 1.41-.59l7.78-7.78 2.81-2.81c.8-.78.8-2.07 0-2.86zM5.41 20L4 18.59l7.72-7.72 1.47 1.35L5.41 20z\"/>\n",
              "  </svg>\n",
              "      </button>\n",
              "      \n",
              "  <style>\n",
              "    .colab-df-container {\n",
              "      display:flex;\n",
              "      flex-wrap:wrap;\n",
              "      gap: 12px;\n",
              "    }\n",
              "\n",
              "    .colab-df-convert {\n",
              "      background-color: #E8F0FE;\n",
              "      border: none;\n",
              "      border-radius: 50%;\n",
              "      cursor: pointer;\n",
              "      display: none;\n",
              "      fill: #1967D2;\n",
              "      height: 32px;\n",
              "      padding: 0 0 0 0;\n",
              "      width: 32px;\n",
              "    }\n",
              "\n",
              "    .colab-df-convert:hover {\n",
              "      background-color: #E2EBFA;\n",
              "      box-shadow: 0px 1px 2px rgba(60, 64, 67, 0.3), 0px 1px 3px 1px rgba(60, 64, 67, 0.15);\n",
              "      fill: #174EA6;\n",
              "    }\n",
              "\n",
              "    [theme=dark] .colab-df-convert {\n",
              "      background-color: #3B4455;\n",
              "      fill: #D2E3FC;\n",
              "    }\n",
              "\n",
              "    [theme=dark] .colab-df-convert:hover {\n",
              "      background-color: #434B5C;\n",
              "      box-shadow: 0px 1px 3px 1px rgba(0, 0, 0, 0.15);\n",
              "      filter: drop-shadow(0px 1px 2px rgba(0, 0, 0, 0.3));\n",
              "      fill: #FFFFFF;\n",
              "    }\n",
              "  </style>\n",
              "\n",
              "      <script>\n",
              "        const buttonEl =\n",
              "          document.querySelector('#df-5b252d15-2775-46f9-8421-a425b1b0a7c4 button.colab-df-convert');\n",
              "        buttonEl.style.display =\n",
              "          google.colab.kernel.accessAllowed ? 'block' : 'none';\n",
              "\n",
              "        async function convertToInteractive(key) {\n",
              "          const element = document.querySelector('#df-5b252d15-2775-46f9-8421-a425b1b0a7c4');\n",
              "          const dataTable =\n",
              "            await google.colab.kernel.invokeFunction('convertToInteractive',\n",
              "                                                     [key], {});\n",
              "          if (!dataTable) return;\n",
              "\n",
              "          const docLinkHtml = 'Like what you see? Visit the ' +\n",
              "            '<a target=\"_blank\" href=https://colab.research.google.com/notebooks/data_table.ipynb>data table notebook</a>'\n",
              "            + ' to learn more about interactive tables.';\n",
              "          element.innerHTML = '';\n",
              "          dataTable['output_type'] = 'display_data';\n",
              "          await google.colab.output.renderOutput(dataTable, element);\n",
              "          const docLink = document.createElement('div');\n",
              "          docLink.innerHTML = docLinkHtml;\n",
              "          element.appendChild(docLink);\n",
              "        }\n",
              "      </script>\n",
              "    </div>\n",
              "  </div>\n",
              "  "
            ]
          },
          "metadata": {},
          "execution_count": 39
        }
      ],
      "source": [
        "import pandas as pd\n",
        "corr_df = pd.DataFrame(columns=['Pred_pKD', 'True_pKD'])\n",
        "corr_df['Pred_pKD'] = b\n",
        "corr_df['True_pKD'] = a\n",
        "pd.set_option('display.max_rows', None)\n",
        "pd.set_option('display.max_columns', None)\n",
        "pd.set_option('display.max_colwidth', None)\n",
        "corr_df"
      ]
    },
    {
      "cell_type": "code",
      "execution_count": null,
      "metadata": {
        "id": "SL0e9vfHezrH"
      },
      "outputs": [],
      "source": [
        "#corr_df.to_csv(f'drive/MyDrive/Dataset/Test_prediction.csv')"
      ]
    },
    {
      "cell_type": "code",
      "execution_count": null,
      "metadata": {
        "id": "F3DYUrmin7PK",
        "colab": {
          "base_uri": "https://localhost:8080/",
          "height": 624
        },
        "outputId": "4ed33711-63ee-48e5-eb33-baa1f9a5c3c2"
      },
      "outputs": [
        {
          "output_type": "execute_result",
          "data": {
            "text/plain": [
              "<seaborn.axisgrid.JointGrid at 0x7fe68666e530>"
            ]
          },
          "metadata": {},
          "execution_count": 41
        },
        {
          "output_type": "display_data",
          "data": {
            "text/plain": [
              "<Figure size 600x600 with 3 Axes>"
            ],
            "image/png": "[encoded data removed]"
          },
          "metadata": {}
        }
      ],
      "source": [
        "import seaborn as sns\n",
        "sns.jointplot(data=corr_df, x='True_pKD', y='Pred_pKD', palette='Set2', ylim=(2, 14), xlim=(2, 14))\n"
      ]
    },
    {
      "cell_type": "code",
      "execution_count": null,
      "metadata": {
        "id": "Ofuz9qDPS2fb",
        "colab": {
          "base_uri": "https://localhost:8080/"
        },
        "outputId": "fe8bd019-7e21-4658-88b1-91993eb5265f"
      },
      "outputs": [
        {
          "output_type": "execute_result",
          "data": {
            "text/plain": [
              "{0: 1.1656347695620752,\n",
              " 1: 0.2952499957813757,\n",
              " 2: 0.08289057440708802,\n",
              " 3: -1.21824255636011,\n",
              " 4: 0.48452689535736226,\n",
              " 5: 1.2399541571388113,\n",
              " 6: 0.43974171686659247,\n",
              " 7: 1.0073162300003489,\n",
              " 8: 1.9560435836083343,\n",
              " 9: 0.09615690773637198}"
            ]
          },
          "metadata": {},
          "execution_count": 42
        }
      ],
      "source": [
        "import numpy as np\n",
        "params = []\n",
        "sum_of_weights={el:0 for el in np.arange(10)}\n",
        "i = 0\n",
        "summarised_weight = 0\n",
        "for param in best_model2.conv_stack[0].parameters():\n",
        "    params.append(param.view(-1))\n",
        "params = torch.cat(params)\n",
        "params_list = params.tolist()\n",
        "\n",
        "sum_of_weights={el:0 for el in np.arange(10)}\n",
        "i = 0\n",
        "summarised_weight = 0\n",
        "for param in params_list:\n",
        "    sum_of_weights[i%10] += param\n",
        "    i += 1\n",
        "sum_of_weights\n",
        "# 0: Акцепторы вс 1 белка + доноры 2 белка\n",
        "# 1: Акцепторы вс 2 белка + доноры 1 белка\n",
        "# 2: Акцепторы вс 1 белка + слабые доноры 2 белка\n",
        "# 3: Акцепторы вс 2 белка + слабые доноры 1 белка\n",
        "# 4: пол. заряженные атомы 1 белка + нег. заряженные атомы 2 белка\n",
        "# 5: пол. заряженные атомы 2 белка + нег. заряженные атомы 1 белка\n",
        "# 6: Гидрофобные атомы 1 белка + гидрофобные атомы 2 белка\n",
        "# 7: Карбоксильные кислороды 1 белка + Карбоксильные кислороды 2 белка\n",
        "# 8: Карбоксильные углероды 1 белка + Карбоксильные углероды 2 белка\n",
        "# 9: Ароматические атомы 1 белка + ароматические атомы 2 белка"
      ]
    },
    {
      "cell_type": "code",
      "execution_count": null,
      "metadata": {
        "id": "bpVSiS77dJju"
      },
      "outputs": [],
      "source": [
        "torch.save(best_model2, 'drive/MyDrive/Model/model_best_55_weight_mol_dyn.pt')"
      ]
    },
    {
      "cell_type": "code",
      "execution_count": null,
      "metadata": {
        "id": "pB4UVBsN5c3V"
      },
      "outputs": [],
      "source": [
        "model1 = torch.load('drive/MyDrive/Model/model_54_new.pt')"
      ]
    },
    {
      "cell_type": "code",
      "execution_count": null,
      "metadata": {
        "colab": {
          "base_uri": "https://localhost:8080/"
        },
        "id": "pgP-UYi9ToWn",
        "outputId": "b1370ffb-c464-4afa-cf48-e398f035f653"
      },
      "outputs": [
        {
          "output_type": "stream",
          "name": "stdout",
          "text": [
            "PearsonCorr: 0.54\n",
            "RMSE: 1.593\n"
          ]
        }
      ],
      "source": [
        "#test_data = CustomImageDataset('drive/MyDrive/Dataset_frames/Data_files_short_clear.csv', train = False, normalize = True, transform = None, mean = mean, std = std, str_dir = 'drive/MyDrive/Dataset_frames')\n",
        "#test_loader = DataLoader(test_data, shuffle=False, batch_size=1, num_workers=2)\n",
        "#model1 = torch.load('drive/MyDrive/Model/model_442.pt').to(device)\n",
        "a, b = validate(model1, val_loader, device=device)"
      ]
    },
    {
      "cell_type": "code",
      "execution_count": null,
      "metadata": {
        "colab": {
          "base_uri": "https://localhost:8080/",
          "height": 607
        },
        "id": "LhPcu5A3__xk",
        "outputId": "012c85d3-815d-4a4e-ba76-fce71ec6e8bb"
      },
      "outputs": [
        {
          "output_type": "display_data",
          "data": {
            "text/plain": [
              "<Figure size 600x600 with 3 Axes>"
            ],
            "image/png": "[encoded data removed]"
          },
          "metadata": {}
        }
      ],
      "source": [
        "import seaborn as sns\n",
        "import pandas as pd\n",
        "corr_df = pd.DataFrame(columns=['Pred_pKD', 'True_pKD'])\n",
        "corr_df['Pred_pKD'] = b\n",
        "corr_df['True_pKD'] = a\n",
        "pd.set_option('display.max_rows', None)\n",
        "pd.set_option('display.max_columns', None)\n",
        "pd.set_option('display.max_colwidth', None)\n",
        "\n",
        "sns.jointplot(data=corr_df, x='True_pKD', y='Pred_pKD', palette='Set2', ylim=(2, 14), xlim=(2, 14))\n",
        "plt.show()"
      ]
    },
    {
      "cell_type": "code",
      "execution_count": null,
      "metadata": {
        "colab": {
          "base_uri": "https://localhost:8080/",
          "height": 506
        },
        "id": "n9N7-eqZAO99",
        "outputId": "6564af9a-a15b-4389-bbce-ff835fac4adc"
      },
      "outputs": [
        {
          "output_type": "execute_result",
          "data": {
            "text/plain": [
              "Text(0.5, 1.0, 'Predictions for 1a22 (True pKD = 9.47)')"
            ]
          },
          "metadata": {},
          "execution_count": 46
        },
        {
          "output_type": "display_data",
          "data": {
            "text/plain": [
              "<Figure size 1600x500 with 1 Axes>"
            ],
            "image/png": "[encoded data removed]"
          },
          "metadata": {}
        }
      ],
      "source": [
        "fig, ax = plt.subplots(figsize=(16,5))\n",
        "\n",
        "ax.scatter(np.arange(102), corr_df['Pred_pKD'])\n",
        "ax.plot(np.arange(102), corr_df['Pred_pKD'])\n",
        "plt.xlabel('Frame')\n",
        "plt.ylabel('Pred_pKD')\n",
        "plt.title(\"Predictions for 1a22 (True pKD = 9.47)\", fontsize=15)\n"
      ]
    },
    {
      "cell_type": "code",
      "execution_count": null,
      "metadata": {
        "colab": {
          "base_uri": "https://localhost:8080/"
        },
        "id": "bh8vI__fTkUT",
        "outputId": "7c37614f-b5c6-48c5-af2e-ff56673bc6e3"
      },
      "outputs": [
        {
          "data": {
            "text/plain": [
              "{0: 0.5009743716836965,\n",
              " 1: -0.6052427329268539,\n",
              " 2: -0.2928337553748861,\n",
              " 3: -0.680614018401684,\n",
              " 4: -1.246699742081546,\n",
              " 5: 0.7770310629894084,\n",
              " 6: -0.6404812503897119,\n",
              " 7: -0.6328838202025509,\n",
              " 8: 0.7782871652016183,\n",
              " 9: 0.22523488571459893,\n",
              " 10: -1.0374939107932732,\n",
              " 11: 0.562511299707694,\n",
              " 12: 0.6523702064041572,\n",
              " 13: 0.8641577986854827,\n",
              " 14: -0.9810049088737287,\n",
              " 15: 0.7252463758268277,\n",
              " 16: 0.6685838769153634,\n",
              " 17: -0.9533219629702216}"
            ]
          },
          "execution_count": 68,
          "metadata": {},
          "output_type": "execute_result"
        }
      ],
      "source": [
        "# Список каналов\n",
        "# 0) Атомы одного белка\n",
        "# 1) Атомы другого белка\n",
        "# 2) Азоты в аминогруппах\n",
        "# 3) Азоты в радикале лизина и аргинина\n",
        "# 4) Азоты в циклах\n",
        "# 5) Углероды в линейных СН группах\n",
        "# 6) Углероды в циклических соединениях\n",
        "# 7) Углероды с двойной связью\n",
        "# 8) Кислороды из карбокси-групп\n",
        "# 9) Кислороды из ОН групп\n",
        "# 10) Сера\n",
        "# 11) Частичный заряд атомов\n",
        "# 12) Значение гидрофобности ак\n",
        "# 13) Все гетероатомы\n",
        "# 14) Атомы акцепторы водородных связей\n",
        "# 15) Атомы доноры водородных связей\n",
        "# 16) Гетероциклические ак\n",
        "# 17) Ароматические ак \n",
        "sum_of_weights"
      ]
    },
    {
      "cell_type": "code",
      "execution_count": null,
      "metadata": {
        "id": "Vxy_264oDgbr"
      },
      "outputs": [],
      "source": [
        "! pip install shap"
      ]
    },
    {
      "cell_type": "code",
      "execution_count": null,
      "metadata": {
        "id": "xIjZFYx6BMHw"
      },
      "outputs": [],
      "source": [
        "import shap\n",
        "e = shap.DeepExplainer(\n",
        "        model1, \n",
        "        test200_data]\n",
        "        ).to(DEVICE))\n",
        "\n",
        "shap.summary_plot(shap_values, features=x_samples, feature_names=features)"
      ]
    }
  ],
  "metadata": {
    "accelerator": "GPU",
    "colab": {
      "provenance": []
    },
    "gpuClass": "standard",
    "kernelspec": {
      "display_name": "Python 3",
      "name": "python3"
    },
    "language_info": {
      "name": "python"
    }
  },
  "nbformat": 4,
  "nbformat_minor": 0
}