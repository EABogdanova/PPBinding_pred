{
  "nbformat": 4,
  "nbformat_minor": 0,
  "metadata": {
    "colab": {
      "provenance": [],
      "machine_shape": "hm",
      "gpuType": "T4"
    },
    "kernelspec": {
      "name": "python3",
      "display_name": "Python 3"
    },
    "language_info": {
      "name": "python"
    },
    "accelerator": "GPU"
  },
  "cells": [
    {
      "cell_type": "code",
      "execution_count": 1,
      "metadata": {
        "id": "vHw_VJhI-Mbm"
      },
      "outputs": [],
      "source": [
        "from IPython.display import clear_output\n",
        "! pip install torchmetrics\n",
        "!pip install lion-pytorch\n",
        "clear_output()"
      ]
    },
    {
      "cell_type": "code",
      "source": [
        "import os\n",
        "import math\n",
        "from collections import defaultdict\n",
        "import matplotlib.pyplot as plt\n",
        "import numpy as np\n",
        "import pandas as pd\n",
        "from pandas.core.dtypes.cast import maybe_box_datetimelike\n",
        "from copy import deepcopy\n",
        "from tqdm import tqdm\n",
        "\n",
        "import torch\n",
        "import torch.nn as nn\n",
        "from torch.nn.modules.container import Sequential\n",
        "from torch.utils.data import random_split, TensorDataset, Dataset, DataLoader\n",
        "from torchmetrics import PearsonCorrCoef, R2Score, MeanSquaredError\n",
        "\n",
        "import torchvision\n",
        "from torchvision import datasets\n",
        "\n",
        "\n",
        "from drive.MyDrive.Model_and_trainer import CustomStructureDataset, First_CNN, ProgressPlotter, BaseTrainer\n",
        "\n",
        "import random\n",
        "\n",
        "\n",
        "def set_random_seed(seed):\n",
        "    torch.manual_seed(seed)\n",
        "    torch.cuda.manual_seed(seed)\n",
        "    np.random.seed(seed)\n",
        "    random.seed(seed)\n",
        "\n",
        "\n",
        "device = torch.device('cuda' if torch.cuda.is_available() else 'cpu')\n",
        "print('Using device:', device)"
      ],
      "metadata": {
        "colab": {
          "base_uri": "https://localhost:8080/"
        },
        "id": "fauUPYLO-TkA",
        "outputId": "00f05b3b-9c99-459e-ceaa-b81341fc3f0f"
      },
      "execution_count": 2,
      "outputs": [
        {
          "output_type": "stream",
          "name": "stdout",
          "text": [
            "Using device: cuda\n"
          ]
        }
      ]
    },
    {
      "cell_type": "code",
      "source": [
        "mean = 7.4862\n",
        "std = 2.1827\n",
        "batch_size = 32\n",
        "test_dataset = CustomStructureDataset('drive/MyDrive/Dataset/Resol_test.csv', str_dir = 'drive/MyDrive/Dataset')\n",
        "test_dataset.train = False\n",
        "test_dataset.normalize = True\n",
        "test_dataset.mean = mean\n",
        "test_dataset.std = std\n",
        "test_dataset.transform = None\n",
        "test_loader = DataLoader(test_dataset, shuffle=False, batch_size=batch_size, num_workers=2)"
      ],
      "metadata": {
        "id": "sOmXBoV5-dkz"
      },
      "execution_count": 3,
      "outputs": []
    },
    {
      "cell_type": "code",
      "source": [
        "model = torch.load('drive/MyDrive/Model/model_best_55_weight_mol_dyn.pt')\n",
        "model = model.double()\n",
        "model = model.to(device)"
      ],
      "metadata": {
        "id": "5jSxszbS_KFA"
      },
      "execution_count": 4,
      "outputs": []
    },
    {
      "cell_type": "code",
      "source": [
        "#проверка модели на тесте\n",
        "trainer = BaseTrainer(\n",
        "    model= model,\n",
        "    train_dataloader = test_loader,\n",
        "\n",
        "    test_dataloader= test_loader\n",
        ")\n",
        "y_test_pred, y_test_true = trainer.get_predictions(model=model, dl=test_loader)\n",
        "pearson = PearsonCorrCoef()\n",
        "corr_coef= pearson(y_test_pred, y_test_true)\n",
        "mse = MeanSquaredError()\n",
        "rmse = torch.sqrt(mse(y_test_pred, y_test_true))\n",
        "print(f'Pearson_corr: {round(corr_coef.item(), 2)}')\n",
        "print(f'RMSE: {round(rmse.item(), 3)}')"
      ],
      "metadata": {
        "colab": {
          "base_uri": "https://localhost:8080/"
        },
        "id": "opNBsrnh_fPu",
        "outputId": "f268b5c4-0f3a-4d6f-db39-4a079638f100"
      },
      "execution_count": 5,
      "outputs": [
        {
          "output_type": "stream",
          "name": "stdout",
          "text": [
            "Pearson_corr: 0.6\n",
            "RMSE: 1.479\n"
          ]
        }
      ]
    },
    {
      "cell_type": "code",
      "source": [
        "import pandas as pd\n",
        "corr_df = pd.DataFrame(columns=['Pred_pKD', 'True_pKD'])\n",
        "corr_df['Pred_pKD'] = y_test_pred\n",
        "corr_df['True_pKD'] = y_test_true\n",
        "corr_df"
      ],
      "metadata": {
        "colab": {
          "base_uri": "https://localhost:8080/",
          "height": 423
        },
        "id": "mAlE2AJc_nen",
        "outputId": "90553125-19d6-49fd-83f4-55391c28e715"
      },
      "execution_count": 8,
      "outputs": [
        {
          "output_type": "execute_result",
          "data": {
            "text/plain": [
              "     Pred_pKD  True_pKD\n",
              "0    7.230985      9.16\n",
              "1    6.874482      8.41\n",
              "2    7.258257      5.00\n",
              "3    6.468497      6.60\n",
              "4    7.049604      7.48\n",
              "..        ...       ...\n",
              "123  5.872927      7.38\n",
              "124  8.303429      8.49\n",
              "125  7.696234      8.43\n",
              "126  7.637087      9.62\n",
              "127  8.139256      9.07\n",
              "\n",
              "[128 rows x 2 columns]"
            ],
            "text/html": [
              "\n",
              "  <div id=\"df-4753d769-28d6-4652-b238-c3f35327b734\">\n",
              "    <div class=\"colab-df-container\">\n",
              "      <div>\n",
              "<style scoped>\n",
              "    .dataframe tbody tr th:only-of-type {\n",
              "        vertical-align: middle;\n",
              "    }\n",
              "\n",
              "    .dataframe tbody tr th {\n",
              "        vertical-align: top;\n",
              "    }\n",
              "\n",
              "    .dataframe thead th {\n",
              "        text-align: right;\n",
              "    }\n",
              "</style>\n",
              "<table border=\"1\" class=\"dataframe\">\n",
              "  <thead>\n",
              "    <tr style=\"text-align: right;\">\n",
              "      <th></th>\n",
              "      <th>Pred_pKD</th>\n",
              "      <th>True_pKD</th>\n",
              "    </tr>\n",
              "  </thead>\n",
              "  <tbody>\n",
              "    <tr>\n",
              "      <th>0</th>\n",
              "      <td>7.230985</td>\n",
              "      <td>9.16</td>\n",
              "    </tr>\n",
              "    <tr>\n",
              "      <th>1</th>\n",
              "      <td>6.874482</td>\n",
              "      <td>8.41</td>\n",
              "    </tr>\n",
              "    <tr>\n",
              "      <th>2</th>\n",
              "      <td>7.258257</td>\n",
              "      <td>5.00</td>\n",
              "    </tr>\n",
              "    <tr>\n",
              "      <th>3</th>\n",
              "      <td>6.468497</td>\n",
              "      <td>6.60</td>\n",
              "    </tr>\n",
              "    <tr>\n",
              "      <th>4</th>\n",
              "      <td>7.049604</td>\n",
              "      <td>7.48</td>\n",
              "    </tr>\n",
              "    <tr>\n",
              "      <th>...</th>\n",
              "      <td>...</td>\n",
              "      <td>...</td>\n",
              "    </tr>\n",
              "    <tr>\n",
              "      <th>123</th>\n",
              "      <td>5.872927</td>\n",
              "      <td>7.38</td>\n",
              "    </tr>\n",
              "    <tr>\n",
              "      <th>124</th>\n",
              "      <td>8.303429</td>\n",
              "      <td>8.49</td>\n",
              "    </tr>\n",
              "    <tr>\n",
              "      <th>125</th>\n",
              "      <td>7.696234</td>\n",
              "      <td>8.43</td>\n",
              "    </tr>\n",
              "    <tr>\n",
              "      <th>126</th>\n",
              "      <td>7.637087</td>\n",
              "      <td>9.62</td>\n",
              "    </tr>\n",
              "    <tr>\n",
              "      <th>127</th>\n",
              "      <td>8.139256</td>\n",
              "      <td>9.07</td>\n",
              "    </tr>\n",
              "  </tbody>\n",
              "</table>\n",
              "<p>128 rows × 2 columns</p>\n",
              "</div>\n",
              "      <button class=\"colab-df-convert\" onclick=\"convertToInteractive('df-4753d769-28d6-4652-b238-c3f35327b734')\"\n",
              "              title=\"Convert this dataframe to an interactive table.\"\n",
              "              style=\"display:none;\">\n",
              "        \n",
              "  <svg xmlns=\"http://www.w3.org/2000/svg\" height=\"24px\"viewBox=\"0 0 24 24\"\n",
              "       width=\"24px\">\n",
              "    <path d=\"M0 0h24v24H0V0z\" fill=\"none\"/>\n",
              "    <path d=\"M18.56 5.44l.94 2.06.94-2.06 2.06-.94-2.06-.94-.94-2.06-.94 2.06-2.06.94zm-11 1L8.5 8.5l.94-2.06 2.06-.94-2.06-.94L8.5 2.5l-.94 2.06-2.06.94zm10 10l.94 2.06.94-2.06 2.06-.94-2.06-.94-.94-2.06-.94 2.06-2.06.94z\"/><path d=\"M17.41 7.96l-1.37-1.37c-.4-.4-.92-.59-1.43-.59-.52 0-1.04.2-1.43.59L10.3 9.45l-7.72 7.72c-.78.78-.78 2.05 0 2.83L4 21.41c.39.39.9.59 1.41.59.51 0 1.02-.2 1.41-.59l7.78-7.78 2.81-2.81c.8-.78.8-2.07 0-2.86zM5.41 20L4 18.59l7.72-7.72 1.47 1.35L5.41 20z\"/>\n",
              "  </svg>\n",
              "      </button>\n",
              "      \n",
              "  <style>\n",
              "    .colab-df-container {\n",
              "      display:flex;\n",
              "      flex-wrap:wrap;\n",
              "      gap: 12px;\n",
              "    }\n",
              "\n",
              "    .colab-df-convert {\n",
              "      background-color: #E8F0FE;\n",
              "      border: none;\n",
              "      border-radius: 50%;\n",
              "      cursor: pointer;\n",
              "      display: none;\n",
              "      fill: #1967D2;\n",
              "      height: 32px;\n",
              "      padding: 0 0 0 0;\n",
              "      width: 32px;\n",
              "    }\n",
              "\n",
              "    .colab-df-convert:hover {\n",
              "      background-color: #E2EBFA;\n",
              "      box-shadow: 0px 1px 2px rgba(60, 64, 67, 0.3), 0px 1px 3px 1px rgba(60, 64, 67, 0.15);\n",
              "      fill: #174EA6;\n",
              "    }\n",
              "\n",
              "    [theme=dark] .colab-df-convert {\n",
              "      background-color: #3B4455;\n",
              "      fill: #D2E3FC;\n",
              "    }\n",
              "\n",
              "    [theme=dark] .colab-df-convert:hover {\n",
              "      background-color: #434B5C;\n",
              "      box-shadow: 0px 1px 3px 1px rgba(0, 0, 0, 0.15);\n",
              "      filter: drop-shadow(0px 1px 2px rgba(0, 0, 0, 0.3));\n",
              "      fill: #FFFFFF;\n",
              "    }\n",
              "  </style>\n",
              "\n",
              "      <script>\n",
              "        const buttonEl =\n",
              "          document.querySelector('#df-4753d769-28d6-4652-b238-c3f35327b734 button.colab-df-convert');\n",
              "        buttonEl.style.display =\n",
              "          google.colab.kernel.accessAllowed ? 'block' : 'none';\n",
              "\n",
              "        async function convertToInteractive(key) {\n",
              "          const element = document.querySelector('#df-4753d769-28d6-4652-b238-c3f35327b734');\n",
              "          const dataTable =\n",
              "            await google.colab.kernel.invokeFunction('convertToInteractive',\n",
              "                                                     [key], {});\n",
              "          if (!dataTable) return;\n",
              "\n",
              "          const docLinkHtml = 'Like what you see? Visit the ' +\n",
              "            '<a target=\"_blank\" href=https://colab.research.google.com/notebooks/data_table.ipynb>data table notebook</a>'\n",
              "            + ' to learn more about interactive tables.';\n",
              "          element.innerHTML = '';\n",
              "          dataTable['output_type'] = 'display_data';\n",
              "          await google.colab.output.renderOutput(dataTable, element);\n",
              "          const docLink = document.createElement('div');\n",
              "          docLink.innerHTML = docLinkHtml;\n",
              "          element.appendChild(docLink);\n",
              "        }\n",
              "      </script>\n",
              "    </div>\n",
              "  </div>\n",
              "  "
            ]
          },
          "metadata": {},
          "execution_count": 8
        }
      ]
    },
    {
      "cell_type": "code",
      "source": [
        "import seaborn as sns\n",
        "sns.jointplot(data=corr_df, x='True_pKD', y='Pred_pKD', palette='Set2', ylim=(2, 14), xlim=(2, 14))"
      ],
      "metadata": {
        "colab": {
          "base_uri": "https://localhost:8080/",
          "height": 624
        },
        "id": "FpIxu4Q8_szS",
        "outputId": "c158980c-8c93-4f85-fe5d-f57174ad9ebc"
      },
      "execution_count": 9,
      "outputs": [
        {
          "output_type": "execute_result",
          "data": {
            "text/plain": [
              "<seaborn.axisgrid.JointGrid at 0x7f4b2bbefc40>"
            ]
          },
          "metadata": {},
          "execution_count": 9
        },
        {
          "output_type": "display_data",
          "data": {
            "text/plain": [
              "<Figure size 600x600 with 3 Axes>"
            ],
            "image/png": "[encoded data removed]"
          },
          "metadata": {}
        }
      ]
    },
    {
      "cell_type": "code",
      "source": [
        "# 0: Акцепторы вс 1 белка + доноры 2 белка\n",
        "# 1: Акцепторы вс 2 белка + доноры 1 белка\n",
        "# 2: Акцепторы вс 1 белка + слабые доноры 2 белка\n",
        "# 3: Акцепторы вс 2 белка + слабые доноры 1 белка\n",
        "# 4: пол. заряженные атомы 1 белка + нег. заряженные атомы 2 белка\n",
        "# 5: пол. заряженные атомы 2 белка + нег. заряженные атомы 1 белка\n",
        "# 6: Гидрофобные атомы 1 белка + гидрофобные атомы 2 белка\n",
        "# 7: Карбоксильные кислороды 1 белка + Карбоксильные кислороды 2 белка\n",
        "# 8: Карбоксильные углероды 1 белка + Карбоксильные углероды 2 белка\n",
        "# 9: Ароматические атомы 1 белка + ароматические атомы 2 белка\n",
        "channels_names = ['HB_Ac1+Don2', 'HB_Ac2+Don1', 'HB_Ac1+Weak_Don2', 'HB_Ac2+Weak_Don1', 'Pos1+Neg2', 'Pos2+Neg1', 'Hph1+Hph2', 'Carboxy_C1+Carboxy_C2', 'Carboxy_O1+Carboxy_O2', 'Arom1+Arom2']"
      ],
      "metadata": {
        "id": "tGm9W6_s_tZR"
      },
      "execution_count": 10,
      "outputs": []
    },
    {
      "cell_type": "code",
      "source": [
        "# вывод весов для каждого из каналов на входе\n",
        "w0 = model.conv_stack[0].weight\n",
        "w0 = pd.DataFrame(np.transpose(w0.cpu().detach().numpy(), [0, 4, 2, 3, 1]).reshape((-1, 10)),\n",
        "                  columns=channels_names)"
      ],
      "metadata": {
        "id": "jjxdvjS8_yDn"
      },
      "execution_count": 11,
      "outputs": []
    },
    {
      "cell_type": "code",
      "source": [
        "# расчет среднего значения для значимых нейронов\n",
        "diff = (w0.abs() > 0.001).mean()\n",
        "diff.sort_values(ascending=False)"
      ],
      "metadata": {
        "colab": {
          "base_uri": "https://localhost:8080/"
        },
        "id": "YXNdzqb7_44Z",
        "outputId": "52781ab4-0737-43ad-90bc-49e190a6a207"
      },
      "execution_count": 12,
      "outputs": [
        {
          "output_type": "execute_result",
          "data": {
            "text/plain": [
              "Arom1+Arom2              0.954446\n",
              "Carboxy_O1+Carboxy_O2    0.946064\n",
              "HB_Ac2+Don1              0.945062\n",
              "Carboxy_C1+Carboxy_C2    0.943422\n",
              "HB_Ac1+Don2              0.938593\n",
              "HB_Ac1+Weak_Don2         0.936680\n",
              "HB_Ac2+Weak_Don1         0.935313\n",
              "Pos1+Neg2                0.933036\n",
              "Hph1+Hph2                0.928480\n",
              "Pos2+Neg1                0.919005\n",
              "dtype: float64"
            ]
          },
          "metadata": {},
          "execution_count": 12
        }
      ]
    },
    {
      "cell_type": "code",
      "source": [
        "# range between 25th and 75th percentiles\n",
        "perc_diff = ((w0.apply(lambda x: np.percentile(x, 75))\n",
        "             - w0.apply(lambda x: np.percentile(x, 25)))\n",
        "             .sort_values(ascending=False))\n",
        "\n",
        "# построение разбросов весов для каждого из 10 каналов\n",
        "fig, ax = plt.subplots(figsize=(7, 6))\n",
        "\n",
        "#sns.boxplot(data=w0, fliersize=0, orient='h', order=list(perc_diff.index.values), ax=ax)\n",
        "sns.boxplot(data=w0, fliersize=0, orient='h', ax=ax)\n",
        "ax.set_xlim(-0.055, 0.055)\n",
        "ax.set_xticks(np.arange(-0.04, 0.05, 0.02))\n",
        "ax.set_ylim(10, -1)\n",
        "\n",
        "fig.tight_layout()"
      ],
      "metadata": {
        "colab": {
          "base_uri": "https://localhost:8080/",
          "height": 607
        },
        "id": "eXa3AnxM_7jW",
        "outputId": "1282fa42-6bff-4fe6-f6c3-1590fc5a44d7"
      },
      "execution_count": 14,
      "outputs": [
        {
          "output_type": "display_data",
          "data": {
            "text/plain": [
              "<Figure size 700x600 with 1 Axes>"
            ],
            "image/png": "[encoded data removed]"
          },
          "metadata": {}
        }
      ]
    },
    {
      "cell_type": "code",
      "source": [],
      "metadata": {
        "id": "4CFVif-tJPTF"
      },
      "execution_count": null,
      "outputs": []
    }
  ]
}